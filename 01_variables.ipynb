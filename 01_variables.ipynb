{
 "cells": [
  {
   "cell_type": "markdown",
   "metadata": {},
   "source": [
    "# Introduction to TypeScript\n",
    "TypeScript is a typed superset of JavaScript that adds optional static types to the language. This feature allows developers to define the structure of data and catch errors early in the development process. In this tutorial, we'll explore variables, types, arrays, tuples, objects, functions, and classes in TypeScript. We'll start with the basics of variables and progressively delve into more complex concepts, providing meaningful examples and explanations along the way."
   ]
  },
  {
   "cell_type": "markdown",
   "metadata": {},
   "source": [
    "## Variables\n",
    "Variables are named storage locations that hold data values. They allow you to store information that can be referenced and manipulated in your programs.\n",
    "### Declaring Variables\n",
    "- `let`: Used for variables that can be reassigned.\n",
    "- `const`: Used for variables that should not be reassigned.\n",
    "- `var`: An older way to declare variables, generally avoided in modern TypeScript due to scope issues."
   ]
  },
  {
   "cell_type": "code",
   "execution_count": 1,
   "metadata": {},
   "outputs": [],
   "source": [
    "let age: number = 25;         // 'let' allows reassignment\n",
    "age = 26;                     // This is acceptable\n",
    "const name: string = \"Alice\"; // 'const' does not allow reassignment\n",
    "try {\n",
    "  name = \"Bob\";               // Error: Cannot assign to 'name' because it is a constant.\n",
    "} catch {}"
   ]
  },
  {
   "cell_type": "markdown",
   "metadata": {},
   "source": [
    "## Types\n",
    "Types define the shape of data, specifying what kind of values can be stored and manipulated. TypeScript's type system helps catch errors during development by enforcing type constraints.\n",
    "### Primative Types\n",
    "Type|Description\n",
    "---|---\n",
    "`number`|Numeric values (integers and floats)\n",
    "`string`|Textual data\n",
    "`boolean`|Logical values (true or false)\n",
    "`symbol`|Unique identifiers\n",
    "`bigint`|Arbitrarily large integers\n",
    "`null`|Intentional absence of value\n",
    "`undefined`|Uninitialized variable\n",
    "#### `number`\n",
    "This type represents both integer and floating-point numbers. TypeScript, like JavaScript, uses the IEEE 754 double-precision 64-bit floating-point format."
   ]
  },
  {
   "cell_type": "code",
   "execution_count": 2,
   "metadata": {},
   "outputs": [],
   "source": [
    "let age: number = 30;\n",
    "let temperature: number = 98.6;\n",
    "let hex: number = 0xf00d;      // Hexadecimal\n",
    "let binary: number = 0b1010;   // Binary\n",
    "let octal: number = 0o744;     // Octal\n",
    "let bigNumber: number = 1e6;   // Scientific notation"
   ]
  },
  {
   "cell_type": "markdown",
   "metadata": {},
   "source": [
    "#### `string`\n",
    "This type is used to represent textual data. You can use single quotes (`'`), double quotes (`\"`), or backticks (``` ` ```) for template literals."
   ]
  },
  {
   "cell_type": "code",
   "execution_count": 3,
   "metadata": {},
   "outputs": [],
   "source": [
    "let firstName: string = \"Alice\";\n",
    "let lastName: string = 'Smith';\n",
    "let greeting: string = `Hello, ${firstName} ${lastName}!`;"
   ]
  },
  {
   "cell_type": "markdown",
   "metadata": {},
   "source": [
    "#### `boolean`\n",
    "This type has two possible values: `true` or `false`. It's used for logical operations and control flow."
   ]
  },
  {
   "cell_type": "code",
   "execution_count": 4,
   "metadata": {},
   "outputs": [],
   "source": [
    "let isDone: boolean = false;\n",
    "let isActive: boolean = true;"
   ]
  },
  {
   "cell_type": "markdown",
   "metadata": {},
   "source": [
    "#### `symbol`\n",
    "This type represents unique identifiers. Symbols are immutable and unique, often used to avoid property name collisions in objects."
   ]
  },
  {
   "cell_type": "code",
   "execution_count": 5,
   "metadata": {},
   "outputs": [],
   "source": [
    "const COLOR_RED: symbol = Symbol(\"red\");\n",
    "const COLOR_BLUE: symbol = Symbol(\"blue\");\n",
    "\n",
    "function getColorName(color: symbol): string {\n",
    "  switch (color) {\n",
    "    case COLOR_RED:\n",
    "      return \"Red\";\n",
    "    case COLOR_BLUE:\n",
    "      return \"Blue\";\n",
    "    default:\n",
    "      return \"Unknown\";\n",
    "  }\n",
    "}"
   ]
  },
  {
   "cell_type": "markdown",
   "metadata": {},
   "source": [
    "#### `bigint`\n",
    "This type is used for arbitrarily large integers. It can represent whole numbers larger than `2^53 - 1`, which is the largest whole number JavaScript can reliably represent with the `number` type.\n",
    "\n",
    "*Note: You cannot mix bigint and number types in operations.*"
   ]
  },
  {
   "cell_type": "code",
   "execution_count": 6,
   "metadata": {},
   "outputs": [
    {
     "name": "stdout",
     "output_type": "stream",
     "text": [
      "2469135780246913578024691357802469135780n\n"
     ]
    }
   ],
   "source": [
    "let bigIntVar: bigint = 1234567890123456789012345678901234567890n;\n",
    "let anotherBigInt = BigInt(\"1234567890123456789012345678901234567890\");\n",
    "console.log(bigIntVar + anotherBigInt);"
   ]
  },
  {
   "cell_type": "markdown",
   "metadata": {},
   "source": [
    "#### `null`\n",
    "This type represents the intentional absence of any object value."
   ]
  },
  {
   "cell_type": "code",
   "execution_count": 7,
   "metadata": {},
   "outputs": [],
   "source": [
    "function getID(): bigint | null {\n",
    "  if(true) {\n",
    "    return 1234n;\n",
    "  }\n",
    "  return null\n",
    "}"
   ]
  },
  {
   "cell_type": "markdown",
   "metadata": {},
   "source": [
    "#### `undefined`\n",
    "This type represents a variable that has been declared but not initialized with a value. It is also the default return value of functions that do not return anything."
   ]
  },
  {
   "cell_type": "code",
   "execution_count": 8,
   "metadata": {},
   "outputs": [
    {
     "name": "stdout",
     "output_type": "stream",
     "text": [
      "undefined\n"
     ]
    }
   ],
   "source": [
    "let notInitialized: undefined;\n",
    "console.log(notInitialized);\n",
    "\n",
    "function doNothing(): undefined {\n",
    "  return;\n",
    "}"
   ]
  },
  {
   "cell_type": "markdown",
   "metadata": {},
   "source": [
    "### Understanding `null` and `undefined`\n",
    "By default, `null` and `undefined` are subtypes of all other types. However, with the `--strictNullChecks` compiler option enabled, `null` and `undefined` are only assignable to `any`, `unknown`, `void`, and their respective types.\n",
    "\n",
    "Example with `--strictNullChecks` enabled:"
   ]
  },
  {
   "cell_type": "code",
   "execution_count": 9,
   "metadata": {},
   "outputs": [],
   "source": [
    "try {\n",
    "  let author: string = null;      // Error: Type 'null' is not assignable to type 'string'.\n",
    "  let age: number = undefined;  // Error: Type 'undefined' is not assignable to type 'number'.\n",
    "} catch {}\n",
    "\n",
    "let author: string | null = null;\n",
    "let age: number | undefined = undefined;"
   ]
  },
  {
   "cell_type": "markdown",
   "metadata": {},
   "source": [
    "### Special Types\n",
    "While not primitive types, the following are fundamental to TypeScript's type system:\n",
    "#### `any`\n",
    "Represents any type. It disables type checking for that variable, and it should be avoided when possible. Typically it's only used when migrating JavaScript codebases to TypeScript incrementally."
   ]
  },
  {
   "cell_type": "code",
   "execution_count": 10,
   "metadata": {},
   "outputs": [
    {
     "data": {
      "text/plain": [
       "\u001b[33mtrue\u001b[39m"
      ]
     },
     "execution_count": 10,
     "metadata": {},
     "output_type": "execute_result"
    }
   ],
   "source": [
    "let anything: any = 4;\n",
    "anything = \"Could be a string\";\n",
    "anything = true; // Now it's a boolean"
   ]
  },
  {
   "cell_type": "markdown",
   "metadata": {},
   "source": [
    "#### `unknown`\n",
    "Similar to `any`, but safer because you cannot perform operations on an `unknown` type without first asserting its type."
   ]
  },
  {
   "cell_type": "code",
   "execution_count": 11,
   "metadata": {},
   "outputs": [
    {
     "name": "stdout",
     "output_type": "stream",
     "text": [
      "MAYBE A STRING\n"
     ]
    }
   ],
   "source": [
    "let notSure: unknown = 4;\n",
    "notSure = \"Maybe a string\";\n",
    "if (typeof notSure === \"string\") {\n",
    "  console.log(notSure.toUpperCase());\n",
    "}"
   ]
  },
  {
   "cell_type": "markdown",
   "metadata": {},
   "source": [
    "#### `void`\n",
    "Represents the absence of any type. Commonly used as the return type of functions that do not return a value."
   ]
  },
  {
   "cell_type": "code",
   "execution_count": 12,
   "metadata": {},
   "outputs": [],
   "source": [
    "function logMessage(message: string): void {\n",
    "  console.log(message);\n",
    "}"
   ]
  },
  {
   "cell_type": "markdown",
   "metadata": {},
   "source": [
    "#### `never`\n",
    "Represents the type of values that never occur. For functions that always throw an error or never return."
   ]
  },
  {
   "cell_type": "code",
   "execution_count": 13,
   "metadata": {},
   "outputs": [],
   "source": [
    "function throwError(errorMsg: string): never {\n",
    "  throw new Error(errorMsg);\n",
    "}"
   ]
  },
  {
   "cell_type": "markdown",
   "metadata": {},
   "source": [
    "### Union Types\n",
    "Union types allow a variable to hold more than one type."
   ]
  },
  {
   "cell_type": "code",
   "execution_count": 14,
   "metadata": {},
   "outputs": [
    {
     "data": {
      "text/plain": [
       "\u001b[33m42\u001b[39m"
      ]
     },
     "execution_count": 14,
     "metadata": {},
     "output_type": "execute_result"
    }
   ],
   "source": [
    "let multiType: string | number;\n",
    "multiType = \"Hello\";\n",
    "multiType = 42;"
   ]
  },
  {
   "cell_type": "markdown",
   "metadata": {},
   "source": [
    "### Custom Types / Objects\n",
    "TypeScript allows you to define complex data structures that represent real-world entities. Objects are collections of properties and methods. Using custom types or interfaces, you can define the structure of an `object`."
   ]
  },
  {
   "cell_type": "code",
   "execution_count": 15,
   "metadata": {},
   "outputs": [],
   "source": [
    "type Person = {\n",
    "  name: string;\n",
    "  age: number;\n",
    "  hobbies?: string[]; // Optional property\n",
    "};\n",
    "let person: Person = {\n",
    "  name: \"Alice\",\n",
    "  age: 25,\n",
    "  hobbies: [\"Reading\", \"Cycling\"],\n",
    "};\n",
    "\n",
    "interface Car {\n",
    "  make: string;\n",
    "  model: string;\n",
    "  year: number;\n",
    "}\n",
    "const car: Car = {\n",
    "  make: \"Toyota\",\n",
    "  model: \"Camry\",\n",
    "  year: 2020,\n",
    "};"
   ]
  },
  {
   "cell_type": "markdown",
   "metadata": {},
   "source": [
    "#### Accessing Properties\n",
    "- Optional: Denoted with `?`, they can be omitted.\n",
    "- Readonly: Denoted with `readonly`, they cannot be modified after initialization."
   ]
  },
  {
   "cell_type": "code",
   "execution_count": 16,
   "metadata": {},
   "outputs": [
    {
     "name": "stdout",
     "output_type": "stream",
     "text": [
      "john_doe\n"
     ]
    }
   ],
   "source": [
    "type User = {\n",
    "  readonly username: string;\n",
    "  password: string;\n",
    "  email?: string;\n",
    "};\n",
    "\n",
    "let user: User = {\n",
    "  username: \"john_doe\",\n",
    "  password: \"securepassword123\",\n",
    "};\n",
    "\n",
    "console.log(user.username);"
   ]
  },
  {
   "cell_type": "markdown",
   "metadata": {},
   "source": [
    "#### Destructuring\n",
    "This is a pattern that allows you to extract properties into variables."
   ]
  },
  {
   "cell_type": "code",
   "execution_count": 17,
   "metadata": {},
   "outputs": [
    {
     "name": "stdout",
     "output_type": "stream",
     "text": [
      "john_doe\n"
     ]
    }
   ],
   "source": [
    "const { username, password } = user;\n",
    "console.log(username);"
   ]
  },
  {
   "cell_type": "markdown",
   "metadata": {},
   "source": [
    "##### Nested Destructuring:"
   ]
  },
  {
   "cell_type": "code",
   "execution_count": 18,
   "metadata": {},
   "outputs": [
    {
     "name": "stdout",
     "output_type": "stream",
     "text": [
      "Jane Smith works as a Developer in Engineering\n"
     ]
    }
   ],
   "source": [
    "type Employee = {\n",
    "  name: string;\n",
    "  position: {\n",
    "    title: string;\n",
    "    department: string;\n",
    "  };\n",
    "};\n",
    "\n",
    "let employee: Employee = {\n",
    "  name: \"Jane Smith\",\n",
    "  position: {\n",
    "    title: \"Developer\",\n",
    "    department: \"Engineering\",\n",
    "  },\n",
    "};\n",
    "\n",
    "const {\n",
    "  name,\n",
    "  position: { title, department },\n",
    "} = employee;\n",
    "console.log(`${name} works as a ${title} in ${department}`);"
   ]
  },
  {
   "cell_type": "markdown",
   "metadata": {},
   "source": [
    "### Array Types\n",
    "An array is a type of `object` that represent a collection of elements. They are used to store multiple values in a single variable. In TypeScript, arrays can be defined to hold elements of a specific type."
   ]
  },
  {
   "cell_type": "code",
   "execution_count": 19,
   "metadata": {},
   "outputs": [
    {
     "name": "stdout",
     "output_type": "stream",
     "text": [
      "1\n",
      "Banana\n"
     ]
    }
   ],
   "source": [
    "let number_list: number[] = [1, 2, 3, 4, 5];\n",
    "console.log(number_list[0]);\n",
    "let fruit_list: string[] = [\"Apple\", \"Banana\", \"Cherry\"];\n",
    "console.log(fruit_list[1]);"
   ]
  },
  {
   "cell_type": "markdown",
   "metadata": {},
   "source": [
    "#### Adding Elements"
   ]
  },
  {
   "cell_type": "code",
   "execution_count": 20,
   "metadata": {},
   "outputs": [
    {
     "data": {
      "text/plain": [
       "[\n",
       "  \u001b[33m0\u001b[39m, \u001b[33m1\u001b[39m, \u001b[33m2\u001b[39m, \u001b[33m3\u001b[39m,\n",
       "  \u001b[33m4\u001b[39m, \u001b[33m5\u001b[39m, \u001b[33m6\u001b[39m\n",
       "]"
      ]
     },
     "execution_count": 20,
     "metadata": {},
     "output_type": "execute_result"
    }
   ],
   "source": [
    "number_list.push(6);      // Adds to the end\n",
    "number_list.unshift(0);   // Adds to the beginning\n",
    "number_list"
   ]
  },
  {
   "cell_type": "markdown",
   "metadata": {},
   "source": [
    "#### Removing Elements"
   ]
  },
  {
   "cell_type": "code",
   "execution_count": 21,
   "metadata": {},
   "outputs": [
    {
     "data": {
      "text/plain": [
       "[ \u001b[33m1\u001b[39m, \u001b[33m2\u001b[39m, \u001b[33m3\u001b[39m, \u001b[33m4\u001b[39m, \u001b[33m5\u001b[39m ]"
      ]
     },
     "execution_count": 21,
     "metadata": {},
     "output_type": "execute_result"
    }
   ],
   "source": [
    "number_list.pop();        // Removes from the end\n",
    "number_list.shift();      // Removes from the beginning\n",
    "number_list"
   ]
  },
  {
   "cell_type": "markdown",
   "metadata": {},
   "source": [
    "#### Iterating Over Elements"
   ]
  },
  {
   "cell_type": "code",
   "execution_count": 22,
   "metadata": {},
   "outputs": [
    {
     "name": "stdout",
     "output_type": "stream",
     "text": [
      "1\n",
      "2\n",
      "3\n",
      "4\n",
      "5\n"
     ]
    }
   ],
   "source": [
    "number_list.forEach((num) => console.log(num));"
   ]
  },
  {
   "cell_type": "markdown",
   "metadata": {},
   "source": [
    "#### Transforming Elements"
   ]
  },
  {
   "cell_type": "code",
   "execution_count": 23,
   "metadata": {},
   "outputs": [
    {
     "name": "stdout",
     "output_type": "stream",
     "text": [
      "[ 1, 2, 3, 4, 5 ]\n",
      "[ 2, 4, 6, 8, 10 ]\n"
     ]
    }
   ],
   "source": [
    "let doubled = number_list.map((num) => num * 2);\n",
    "console.log(number_list)\n",
    "console.log(doubled)"
   ]
  },
  {
   "cell_type": "markdown",
   "metadata": {},
   "source": [
    "#### Multidimentional Arrays"
   ]
  },
  {
   "cell_type": "code",
   "execution_count": 24,
   "metadata": {},
   "outputs": [
    {
     "name": "stdout",
     "output_type": "stream",
     "text": [
      "2\n"
     ]
    }
   ],
   "source": [
    "let matrix: number[][] = [\n",
    "  [1, 2],\n",
    "  [3, 4],\n",
    "];\n",
    "console.log(matrix[0][1]);"
   ]
  },
  {
   "cell_type": "markdown",
   "metadata": {},
   "source": [
    "### Tuple Types\n",
    "These are similar to the `array` type but contain a fixed number of elements that can be different types. They're useful when you want to represent a fixed collection of related values."
   ]
  },
  {
   "cell_type": "code",
   "execution_count": 25,
   "metadata": {},
   "outputs": [
    {
     "name": "stdout",
     "output_type": "stream",
     "text": [
      "Alice\n"
     ]
    }
   ],
   "source": [
    "let tuple: [string, number, boolean] = [\"Alice\", 30, true];\n",
    "console.log(tuple[0]);"
   ]
  },
  {
   "cell_type": "markdown",
   "metadata": {},
   "source": [
    "Use arrays for lists of similar items, and tuples for fixed collections of related items."
   ]
  },
  {
   "cell_type": "code",
   "execution_count": 26,
   "metadata": {},
   "outputs": [],
   "source": [
    "// Array of numbers\n",
    "let scores: number[] = [85, 92, 78];\n",
    "// Tuple representing a person's data\n",
    "let personData: [string, number, boolean] = [\"Bob\", 28, false];"
   ]
  }
 ],
 "metadata": {
  "kernelspec": {
   "display_name": "Deno",
   "language": "typescript",
   "name": "deno"
  },
  "language_info": {
   "codemirror_mode": "typescript",
   "file_extension": ".ts",
   "mimetype": "text/x.typescript",
   "name": "typescript",
   "nbconvert_exporter": "script",
   "pygments_lexer": "typescript",
   "version": "5.6.2"
  }
 },
 "nbformat": 4,
 "nbformat_minor": 2
}
