{
 "cells": [
  {
   "cell_type": "markdown",
   "metadata": {},
   "source": [
    "Generates a single JSON file from a GitHub repo so that it can be used as a custom GPT resource."
   ]
  },
  {
   "cell_type": "code",
   "execution_count": 1,
   "metadata": {},
   "outputs": [],
   "source": [
    "import { read } from \"https://deno.land/x/streaming_zip/read.ts\";\n",
    "import { Buffer } from \"jsr:@std/streams\"\n",
    "\n",
    "async function downloadRepoAsZip(owner: string, repo: string, branch: string = 'main', token?: string): Promise<Response> {\n",
    "  const url = `https://api.github.com/repos/${owner}/${repo}/zipball/${branch}`;\n",
    "  const headers: HeadersInit = {};\n",
    "\n",
    "  if (token) {\n",
    "    headers['Authorization'] = `token ${token}`;\n",
    "  }\n",
    "\n",
    "  const response = await fetch(url, { headers });\n",
    "  if (response.status === 200) {\n",
    "    return response;\n",
    "  } else {\n",
    "    throw new Error(`Failed to download repository: ${response.status}`);\n",
    "  }\n",
    "}\n",
    "\n",
    "async function processZipStream(zipStream: ReadableStream<Uint8Array>): Promise<unknown[]> {\n",
    "  const files: unknown[] = [];\n",
    "\n",
    "  for await (const entry of read(zipStream)) {\n",
    "    if (entry.type === \"file\") {\n",
    "      const buffer = new Buffer();\n",
    "      await entry.body.stream().pipeTo(buffer.writable);\n",
    "      const data = new TextDecoder().decode(buffer.bytes({ copy: false }));\n",
    "      const path = entry.name.split('/').slice(1).join('/');\n",
    "      files.push({ path, data });\n",
    "    }\n",
    "  }\n",
    "\n",
    "  return files;\n",
    "}\n",
    "\n",
    "async function generateGptRepo(owner: string, repoName: string, branch: string, token?: string) {\n",
    "  try {\n",
    "    // Download the repository as a zip file\n",
    "    const response = await downloadRepoAsZip(owner, repoName, branch, token);\n",
    "\n",
    "    // Process files from zip stream\n",
    "    const files = await processZipStream(response.body!);\n",
    "\n",
    "    // Write output to a file\n",
    "    await Deno.writeTextFile(`${repoName}-repo.json`, JSON.stringify(files, null, 2));\n",
    "  } catch (error) {\n",
    "    console.error(`Error: ${error.message}`);\n",
    "  }\n",
    "}\n",
    "\n",
    "await generateGptRepo(\"ggpwnkthx\", \"deno-jupyter\", \"key-value\");"
   ]
  }
 ],
 "metadata": {
  "kernelspec": {
   "display_name": "Deno",
   "language": "typescript",
   "name": "deno"
  },
  "language_info": {
   "codemirror_mode": "typescript",
   "file_extension": ".ts",
   "mimetype": "text/x.typescript",
   "name": "typescript",
   "nbconvert_exporter": "script",
   "pygments_lexer": "typescript",
   "version": "5.6.2"
  }
 },
 "nbformat": 4,
 "nbformat_minor": 2
}
