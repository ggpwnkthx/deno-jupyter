{
 "cells": [
  {
   "cell_type": "code",
   "execution_count": null,
   "metadata": {},
   "outputs": [
    {
     "name": "stdout",
     "output_type": "stream",
     "text": [
      "Map(4) {\n",
      "  \"MemoryStoragePlugin\" => [class MemoryStoragePlugin extends Plugin],\n",
      "  \"PersistentStoragePlugin\" => [class PersistentStoragePlugin extends MemoryStoragePlugin],\n",
      "  \"DevalueSerializerPlugin\" => [class DevalueSerializerPlugin extends Plugin],\n",
      "  \"CompressionTransformerPlugin\" => [class CompressionTransformerPlugin extends Plugin]\n",
      "}\n",
      "Created new storage file at test.json\n",
      "[\n",
      "  \"b4600f27-b11a-4d11-91fe-e0518285efa5\",\n",
      "  \"72f7e1b6-7ddc-49b2-8e4b-0fba790fbff5\"\n",
      "]\n",
      "{\n",
      "  string: \"hello\",\n",
      "  number: 42,\n",
      "  boolean: true,\n",
      "  array: [ 1, 2, 3 ],\n",
      "  object: { nested: \"value\" },\n",
      "  nullValue: null\n",
      "}\n",
      "{\n",
      "  string: \"hello\",\n",
      "  number: 42,\n",
      "  boolean: true,\n",
      "  array: [ 1, 2, 3 ],\n",
      "  object: { nested: \"value\" },\n",
      "  nullValue: null\n",
      "}\n",
      "[ \"72f7e1b6-7ddc-49b2-8e4b-0fba790fbff5\" ]\n",
      "[]\n"
     ]
    }
   ],
   "source": [
    "import KeyValueStore from \"../mod.ts\";\n",
    "import PersistentStoragePlugin from \"../plugins/storage/persistent.ts\";\n",
    "import DevalueSerializerPlugin from \"../plugins/serializer/devalue.ts\";\n",
    "import CompressionTransformerPlugin from \"../plugins/transformer/compression.ts\";\n",
    "import { PluginRegistry } from \"../plugins/mod.ts\";\n",
    "\n",
    "console.log(PluginRegistry.registry)\n",
    "\n",
    "const testValue = {\n",
    "  string: \"hello\",\n",
    "  number: 42,\n",
    "  boolean: true,\n",
    "  array: [1, 2, 3],\n",
    "  object: { nested: \"value\" },\n",
    "  nullValue: null,\n",
    "};\n",
    "\n",
    "const storage = new PersistentStoragePlugin({ filePath: \"test.json\" });\n",
    "const serializer = new DevalueSerializerPlugin();\n",
    "const transformer = new CompressionTransformerPlugin();\n",
    "\n",
    "console.log(storage.toJSON())\n",
    "\n",
    "const store = new KeyValueStore(storage, serializer, [transformer]);\n",
    "await store.initialize();\n",
    "\n",
    "const testKey1 = crypto.randomUUID();\n",
    "const testKey2 = crypto.randomUUID();\n",
    "\n",
    "await store.set(testKey1, testValue);\n",
    "await store.set(testKey2, testValue);\n",
    "\n",
    "console.log(await store.list());\n",
    "\n",
    "console.log(await store.get(testKey1))\n",
    "console.log(await store.get(testKey2))\n",
    "\n",
    "await store.delete(testKey1)\n",
    "console.log(await store.list());\n",
    "\n",
    "await store.delete(testKey2)\n",
    "console.log(await store.list());"
   ]
  }
 ],
 "metadata": {
  "kernelspec": {
   "display_name": "Deno",
   "language": "typescript",
   "name": "deno"
  },
  "language_info": {
   "codemirror_mode": "typescript",
   "file_extension": ".ts",
   "mimetype": "text/x.typescript",
   "name": "typescript",
   "nbconvert_exporter": "script",
   "pygments_lexer": "typescript",
   "version": "5.6.2"
  }
 },
 "nbformat": 4,
 "nbformat_minor": 2
}
