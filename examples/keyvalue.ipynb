{
 "cells": [
  {
   "cell_type": "code",
   "execution_count": 1,
   "metadata": {},
   "outputs": [
    {
     "name": "stdout",
     "output_type": "stream",
     "text": [
      "JSONSerializerPlugin initialized.\n",
      "CompressionTransformerPlugin initialized.\n",
      "[\n",
      "  [ \"test\", \"key\", \"6f2e8463-dcb9-4573-adfc-1cb08f8c39bb\" ],\n",
      "  [ \"test\", \"key\", \"55973b2c-11fb-41ad-b371-426604c4458f\" ]\n",
      "]\n",
      "{\n",
      "  string: \"hello\",\n",
      "  number: 42,\n",
      "  boolean: true,\n",
      "  array: [ 1, 2, 3 ],\n",
      "  object: { nested: \"value\" },\n",
      "  nullValue: null\n",
      "}\n",
      "{\n",
      "  string: \"hello\",\n",
      "  number: 42,\n",
      "  boolean: true,\n",
      "  array: [ 1, 2, 3 ],\n",
      "  object: { nested: \"value\" },\n",
      "  nullValue: null\n",
      "}\n",
      "[ [ \"test\", \"key\", \"55973b2c-11fb-41ad-b371-426604c4458f\" ] ]\n",
      "[]\n"
     ]
    }
   ],
   "source": [
    "import KeyValueStore from \"../mod.ts\";\n",
    "import PersistentStoragePlugin from \"../plugins/storage/persistent.ts\";\n",
    "import JSONSerializerPlugin from \"../plugins/serializer/json.ts\";\n",
    "import CompressionTransformerPlugin from \"../plugins/transformer/compression.ts\";\n",
    "\n",
    "const testValue = {\n",
    "  string: \"hello\",\n",
    "  number: 42,\n",
    "  boolean: true,\n",
    "  array: [1, 2, 3],\n",
    "  object: { nested: \"value\" },\n",
    "  nullValue: null,\n",
    "};\n",
    "\n",
    "const storage = new PersistentStoragePlugin(\"test.json\");\n",
    "const serializer = new JSONSerializerPlugin();\n",
    "const transformer = new CompressionTransformerPlugin();\n",
    "\n",
    "const store = new KeyValueStore(storage, serializer, [transformer]);\n",
    "await store.initialize();\n",
    "\n",
    "const testKey1 = [\"test\", \"key\", crypto.randomUUID()];\n",
    "const testKey2 = [\"test\", \"key\", crypto.randomUUID()];\n",
    "\n",
    "await store.set(testKey1, testValue);\n",
    "await store.set(testKey2, testValue);\n",
    "\n",
    "console.log(await store.list());\n",
    "\n",
    "console.log(await store.get(testKey1))\n",
    "console.log(await store.get(testKey2))\n",
    "\n",
    "await store.delete(testKey1)\n",
    "console.log(await store.list());\n",
    "\n",
    "await store.delete(testKey2)\n",
    "console.log(await store.list());"
   ]
  }
 ],
 "metadata": {
  "kernelspec": {
   "display_name": "Deno",
   "language": "typescript",
   "name": "deno"
  },
  "language_info": {
   "codemirror_mode": "typescript",
   "file_extension": ".ts",
   "mimetype": "text/x.typescript",
   "name": "typescript",
   "nbconvert_exporter": "script",
   "pygments_lexer": "typescript",
   "version": "5.6.2"
  }
 },
 "nbformat": 4,
 "nbformat_minor": 2
}
