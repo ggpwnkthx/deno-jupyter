{
 "cells": [
  {
   "cell_type": "code",
   "execution_count": null,
   "metadata": {},
   "outputs": [
    {
     "name": "stdout",
     "output_type": "stream",
     "text": [
      "MemoryStoragePlugin initialized.\n",
      "JSONSerializerPlugin initialized.\n",
      "CompressionTransformerPlugin initialized.\n",
      "{ foo: \"bar\" }\n",
      "[ [ \"key\" ] ]\n"
     ]
    }
   ],
   "source": [
    "import KeyValueStore from \"../mod.ts\";\n",
    "import PersistentStoragePlugin from \"../plugins/storage/persistent.ts\";\n",
    "import JSONSerializerPlugin from \"../plugins/serializer/json.ts\";\n",
    "import CompressionTransformerPlugin from \"../plugins/transformer/compression.ts\";\n",
    "\n",
    "const storage = new PersistentStoragePlugin(\"test.json\");\n",
    "const serializer = new JSONSerializerPlugin();\n",
    "const transformer = new CompressionTransformerPlugin();\n",
    "\n",
    "const store = new KeyValueStore(storage, serializer, [transformer]);\n",
    "await store.initialize();\n",
    "\n",
    "await store.set([\"key\"], { foo: \"bar\" });\n",
    "const value = await store.get([\"key\"]);\n",
    "console.log(value);\n",
    "console.log(await store.list())"
   ]
  }
 ],
 "metadata": {
  "kernelspec": {
   "display_name": "Deno",
   "language": "typescript",
   "name": "deno"
  },
  "language_info": {
   "codemirror_mode": "typescript",
   "file_extension": ".ts",
   "mimetype": "text/x.typescript",
   "name": "typescript",
   "nbconvert_exporter": "script",
   "pygments_lexer": "typescript",
   "version": "5.6.2"
  }
 },
 "nbformat": 4,
 "nbformat_minor": 2
}
