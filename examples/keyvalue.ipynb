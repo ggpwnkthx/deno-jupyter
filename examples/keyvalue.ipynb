{
 "cells": [
  {
   "cell_type": "code",
   "execution_count": 1,
   "metadata": {},
   "outputs": [
    {
     "name": "stdout",
     "output_type": "stream",
     "text": [
      "[\n",
      "  \"2fdf6ead-0f77-44c1-811c-a4d35fdce42a\",\n",
      "  \"38cee623-407a-41fe-9fc9-a9bad6055015\"\n",
      "]\n",
      "{\n",
      "  string: \"hello\",\n",
      "  number: 42,\n",
      "  boolean: true,\n",
      "  array: [ 1, 2, 3 ],\n",
      "  object: { nested: \"value\" },\n",
      "  nullValue: null\n",
      "}\n",
      "{\n",
      "  string: \"hello\",\n",
      "  number: 42,\n",
      "  boolean: true,\n",
      "  array: [ 1, 2, 3 ],\n",
      "  object: { nested: \"value\" },\n",
      "  nullValue: null\n",
      "}\n",
      "[ \"38cee623-407a-41fe-9fc9-a9bad6055015\" ]\n",
      "[]\n"
     ]
    }
   ],
   "source": [
    "import KeyValueStore from \"../mod.ts\";\n",
    "import PersistentStoragePlugin from \"../plugins/storage/persistent.ts\";\n",
    "import DevalueSerializerPlugin from \"../plugins/serializer/devalue.ts\";\n",
    "import CompressionTransformerPlugin from \"../plugins/transformer/compression.ts\";\n",
    "\n",
    "const testValue = {\n",
    "  string: \"hello\",\n",
    "  number: 42,\n",
    "  boolean: true,\n",
    "  array: [1, 2, 3],\n",
    "  object: { nested: \"value\" },\n",
    "  nullValue: null,\n",
    "};\n",
    "\n",
    "const storage = new PersistentStoragePlugin(\"test.json\");\n",
    "const serializer = new DevalueSerializerPlugin();\n",
    "const transformer = new CompressionTransformerPlugin();\n",
    "\n",
    "const store = new KeyValueStore(storage, serializer, [transformer]);\n",
    "await store.initialize();\n",
    "\n",
    "const testKey1 = crypto.randomUUID();\n",
    "const testKey2 = crypto.randomUUID();\n",
    "\n",
    "await store.set(testKey1, testValue);\n",
    "await store.set(testKey2, testValue);\n",
    "\n",
    "console.log(await store.list());\n",
    "\n",
    "console.log(await store.get(testKey1))\n",
    "console.log(await store.get(testKey2))\n",
    "\n",
    "await store.delete(testKey1)\n",
    "console.log(await store.list());\n",
    "\n",
    "await store.delete(testKey2)\n",
    "console.log(await store.list());"
   ]
  }
 ],
 "metadata": {
  "kernelspec": {
   "display_name": "Deno",
   "language": "typescript",
   "name": "deno"
  },
  "language_info": {
   "codemirror_mode": "typescript",
   "file_extension": ".ts",
   "mimetype": "text/x.typescript",
   "name": "typescript",
   "nbconvert_exporter": "script",
   "pygments_lexer": "typescript",
   "version": "5.6.2"
  }
 },
 "nbformat": 4,
 "nbformat_minor": 2
}
