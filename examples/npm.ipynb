{
 "cells": [
  {
   "cell_type": "code",
   "execution_count": 1,
   "metadata": {},
   "outputs": [
    {
     "data": {
      "application/vnd.dataresource+json": {
       "data": [
        {
         "age": 25,
         "name": "Alice",
         "salary": 50000
        },
        {
         "age": 30,
         "name": "Bob",
         "salary": 60000
        },
        {
         "age": 35,
         "name": "Cathy",
         "salary": 70000
        }
       ],
       "schema": {
        "fields": [
         {
          "name": "name",
          "type": "string"
         },
         {
          "name": "age",
          "type": "number"
         },
         {
          "name": "salary",
          "type": "number"
         }
        ]
       }
      },
      "text/html": [
       "<table><thead><tr><th>name</th><th>age</th><th>salary</th></tr></thead><tbody><tr><td>Alice</td><td>25</td><td>50000</td></tr><tr><td>Bob</td><td>30</td><td>60000</td></tr><tr><td>Cathy</td><td>35</td><td>70000</td></tr></tbody></table>"
      ]
     },
     "execution_count": 1,
     "metadata": {},
     "output_type": "execute_result"
    }
   ],
   "source": [
    "import pl from \"npm:nodejs-polars\";\n",
    "\n",
    "const df = pl.DataFrame({\n",
    "  name: [\"Alice\", \"Bob\", \"Cathy\"],\n",
    "  age: [25, 30, 35],\n",
    "  salary: [50000, 60000, 70000],\n",
    "});\n",
    "\n",
    "df"
   ]
  }
 ],
 "metadata": {
  "kernelspec": {
   "display_name": "Deno",
   "language": "typescript",
   "name": "deno"
  },
  "language_info": {
   "codemirror_mode": "typescript",
   "file_extension": ".ts",
   "mimetype": "text/x.typescript",
   "name": "typescript",
   "nbconvert_exporter": "script",
   "pygments_lexer": "typescript",
   "version": "5.6.2"
  }
 },
 "nbformat": 4,
 "nbformat_minor": 2
}
