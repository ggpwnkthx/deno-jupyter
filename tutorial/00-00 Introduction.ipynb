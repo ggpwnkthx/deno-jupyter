{
 "cells": [
  {
   "cell_type": "markdown",
   "metadata": {},
   "source": [
    "# Welcome to TypeScript and Deno\n",
    "\n",
    "## What is TypeScript?\n",
    "\n",
    "TypeScript is a **statically typed superset of JavaScript** developed and maintained by [Microsoft](https://www.microsoft.com/). It builds upon JavaScript by adding optional static types, interfaces, classes, and other features that make developing large-scale applications easier and more reliable. The **static type system** allows developers to catch errors early, improving both productivity and code quality.\n",
    "\n",
    "### Key Features of TypeScript\n",
    "- **Optional Typing**: Add types to variables, functions, and more, while still maintaining JavaScript’s flexibility.\n",
    "- **Enhanced JavaScript**: Enjoy modern JavaScript features, even in environments that don’t support them natively.\n",
    "- **Tooling Support**: Leverage powerful tools for debugging, autocomplete, and refactoring.\n",
    "- **Compatibility**: Transpiles to plain JavaScript, ensuring it runs everywhere JavaScript does.\n",
    "\n",
    "By introducing a robust type system and modern JavaScript features, TypeScript provides developers with a better programming experience while maintaining full compatibility with existing JavaScript codebases.\n",
    "\n",
    "## What is Deno?\n",
    "\n",
    "Deno is a **modern runtime for JavaScript and TypeScript**, created by [Ryan Dahl](https://en.wikipedia.org/wiki/Ryan_Dahl), the original author of Node.js. Unlike Node.js, Deno was designed with a focus on security, simplicity, and developer productivity.\n",
    "\n",
    "### Why Use Deno?\n",
    "- **Native TypeScript Support**: Execute TypeScript files directly without additional setup or tooling.\n",
    "- **Security by Default**: Requires explicit permissions for file system access, network requests, and more.\n",
    "- **Modern APIs**: Includes features like built-in dependency management, top-level `await`, and a standard library.\n",
    "- **Improved Tooling**: Comes with a built-in formatter, linter, and test runner.\n",
    "\n",
    "Deno simplifies the development workflow by eliminating the need for separate transpilation steps or dependency managers, allowing you to focus more on coding and less on setup.\n",
    "\n",
    "## Why TypeScript and Deno Together?\n",
    "\n",
    "TypeScript and Deno are a natural pairing. Deno's native TypeScript support means you can write TypeScript code without worrying about extra build steps or configuration. This tight integration encourages developers to take full advantage of TypeScript's powerful type system and tooling support, resulting in better, safer code.\n",
    "\n",
    "### What This Tutorial Covers\n",
    "This tutorial is designed to guide you through TypeScript fundamentals and demonstrate how they integrate seamlessly with Deno. Each section builds on the previous so that you are never surprised by a concept that has not been introduced yet. Topics include:\n",
    "- Core TypeScript concepts: variables, types, functions, and classes.\n",
    "- Deno features: security, dependency management, and standard library usage.\n",
    "- Practical examples and exercises to build your understanding step by step.\n",
    "\n",
    "By the end of this tutorial, you’ll have a strong foundation in TypeScript and the skills to leverage Deno effectively in your projects.\n",
    "\n",
    "---\n",
    "\n",
    "### Getting Started\n",
    "\n",
    "Before diving into the tutorial, read the README.MD file to get your development envionment set up.\n",
    "\n",
    "Once you’re ready, proceed to the next notebook to start learning TypeScript from the ground up!"
   ]
  }
 ],
 "metadata": {
  "kernelspec": {
   "display_name": "Deno",
   "language": "typescript",
   "name": "deno"
  },
  "language_info": {
   "codemirror_mode": "typescript",
   "file_extension": ".ts",
   "mimetype": "text/x.typescript",
   "name": "typescript",
   "nbconvert_exporter": "script",
   "pygments_lexer": "typescript",
   "version": "5.6.2"
  }
 },
 "nbformat": 4,
 "nbformat_minor": 2
}
