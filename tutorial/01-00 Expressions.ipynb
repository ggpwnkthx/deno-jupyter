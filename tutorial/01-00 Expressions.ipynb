{
 "cells": [
  {
   "cell_type": "markdown",
   "metadata": {},
   "source": [
    "# Expressions\n",
    "\n",
    "An **expression** is a piece of code that the programming language evaluates to produce a value.\n",
    "\n",
    "## Types of Expressions\n",
    "\n",
    "### 1. **Literal Expressions**\n",
    "These are the simplest forms of expressions that directly represent values. Examples include numbers, strings, and boolean values.\n",
    "\n",
    "- `42` evaluates to the numeric value `42`.\n",
    "- `\"hello\"` evaluates to a string of character values `\"hello\"`.\n",
    "- `true` evaluates to the boolean value `true`.\n",
    "\n",
    "### 2. **Arithmetic Expressions**\n",
    "Expressions involving mathematical operations:\n",
    "\n",
    "- `5 + 3` evaluates to `8`.\n",
    "- `10 / 2` evaluates to `5`.\n",
    "\n",
    "### 3. **Comparison Expressions**\n",
    "Expressions that compare values:\n",
    "\n",
    "- `5 > 3` evaluates to `true`.\n",
    "- `10 === 5` evaluates to `false`.\n",
    "\n",
    "### 4. **Logical Expressions**\n",
    "Expressions using logical operators combine boolean values to produce new boolean results:\n",
    "\n",
    "- `true && false` evaluates to `false`.\n",
    "- `true || false` evaluates to `true`.\n",
    "\n",
    "Logical expressions are particularly useful for decision-making in programming, as they allow for conditions to be evaluated.\n",
    "\n",
    "## How Expressions Are Evaluated\n",
    "\n",
    "### Precedence\n",
    "TypeScript follows a set of rules called **operator precedence** to determine the order in which parts of an expression are evaluated. Operators with higher precedence are evaluated first.\n",
    "\n",
    "| Operator        | Example      | Evaluates As |\n",
    "|-----------------|--------------|--------------|\n",
    "| Parentheses     | `(5 + 3) * 2` | `16`         |\n",
    "| Multiplication  | `5 * 3 + 2`   | `17`         |\n",
    "| Addition/Subtraction | `5 + 3 - 2` | `6`        |\n",
    "\n",
    "### Associativity\n",
    "When operators have the same precedence, **associativity** determines the order of evaluation:\n",
    "- Left-to-right: Most operators (e.g., `+`, `-`, `*`, `/`).\n",
    "- Right-to-left: Assignment operators (e.g., `=`).\n",
    "\n",
    "#### Examples:\n",
    "- `10 - 5 + 2` is evaluated as `(10 - 5) + 2` → `7`.\n",
    "- `x = y = 5` is evaluated as `x = (y = 5)`.\n",
    "\n",
    "## Nesting Expressions\n",
    "\n",
    "Expressions can be nested inside one another to build more complex logic. The innermost expressions are evaluated first.\n",
    "\n",
    "### Examples:\n",
    "- `2 * (3 + 4)`\n",
    "  - The parentheses are evaluated first: `3 + 4` → `7`.\n",
    "  - Then the multiplication: `2 * 7` → `14`.\n",
    "\n",
    "- `(5 > 3) && (10 > 5)`\n",
    "  - The comparisons are evaluated first: `5 > 3` → `true`, `10 > 5` → `true`.\n",
    "  - Then the logical operator: `true && true` → `true`.\n",
    "\n",
    "### Deep Nesting\n",
    "Complex expressions can involve multiple levels of nesting. Parentheses help make the order of evaluation explicit:\n",
    "- `((2 + 3) * (4 - 1)) / 2`\n",
    "  - `2 + 3` → `5`\n",
    "  - `4 - 1` → `3`\n",
    "  - `5 * 3` → `15`\n",
    "  - `15 / 2` → `7.5`\n"
   ]
  },
  {
   "cell_type": "code",
   "execution_count": 1,
   "metadata": {},
   "outputs": [
    {
     "data": {
      "text/plain": [
       "\u001b[33mtrue\u001b[39m"
      ]
     },
     "execution_count": 1,
     "metadata": {},
     "output_type": "execute_result"
    }
   ],
   "source": [
    "// Literal expressions\n",
    "42;          // Number\n",
    "\"hello\";     // String\n",
    "true;        // Boolean\n",
    "\n",
    "// Arithmetic expressions\n",
    "5 + 3;       // Addition\n",
    "10 / 2;      // Division\n",
    "\n",
    "// Comparison expressions\n",
    "5 > 3;       // Greater than\n",
    "10 === 5;    // Equality check\n",
    "\n",
    "// Logical expressions (introduced after comparison)\n",
    "true && false; // Logical AND\n",
    "true || false; // Logical OR\n",
    "\n",
    "// Nested expression (logical and arithmetic)\n",
    "(5 > 3) && (10 > 5);  // Parentheses ensure clarity\n"
   ]
  }
 ],
 "metadata": {
  "kernelspec": {
   "display_name": "Deno",
   "language": "typescript",
   "name": "deno"
  },
  "language_info": {
   "codemirror_mode": "typescript",
   "file_extension": ".ts",
   "mimetype": "text/x.typescript",
   "name": "typescript",
   "nbconvert_exporter": "script",
   "pygments_lexer": "typescript",
   "version": "5.6.2"
  }
 },
 "nbformat": 4,
 "nbformat_minor": 2
}
