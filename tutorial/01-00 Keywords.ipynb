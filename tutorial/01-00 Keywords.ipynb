{
 "cells": [
  {
   "cell_type": "markdown",
   "metadata": {},
   "source": [
    "# Keywords\n",
    "\n",
    "In TypeScript, certain words have predefined meanings and cannot be used for anything else. These reserved words, called **keywords**, are the foundation of the language's syntax, defining how programs are structured and how they behave. They provide specific instructions and ensure that code is predictable and follows a consistent set of rules.\n",
    "\n",
    "TypeScript provides different categories of reserved words for managing various aspects of a program. This tutorial will go through the keywords in this order:\n",
    "\n",
    "- Types and Annotaion with primative types\n",
    "- Declaring Variables with `let` and `const` to define storage for values in your program\n",
    "- Flow Control with `if`, `else`, `switch`, `case`, `default`, `for`, `while`, `do`, `break`, and `continue` to determine the sequence in which code executes\n",
    "- Error Handling with `try`, `catch`, `finally`, and `throw` to allow you to gracefully handle unexpected issues\n",
    "- Functions with `function`"
   ]
  }
 ],
 "metadata": {
  "kernelspec": {
   "display_name": "Deno",
   "language": "typescript",
   "name": "deno"
  },
  "language_info": {
   "codemirror_mode": "typescript",
   "file_extension": ".ts",
   "mimetype": "text/x.typescript",
   "name": "typescript",
   "nbconvert_exporter": "script",
   "pygments_lexer": "typescript",
   "version": "5.6.2"
  }
 },
 "nbformat": 4,
 "nbformat_minor": 2
}
