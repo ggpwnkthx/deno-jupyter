{
 "cells": [
  {
   "cell_type": "markdown",
   "metadata": {},
   "source": [
    "# Statements\n",
    "\n",
    "A **statement** in TypeScript is an instruction that performs an action. Statements are the building blocks of a program and are executed sequentially unless specified otherwise. Semicolons (`;`) are used to terminate statements. While optional in most cases due to Automatic Semicolon Insertion (ASI), it's good practice to use them consistently to avoid unintended behavior.\n",
    "\n",
    "## Types\n",
    "\n",
    "- **Expression**: A piece of code that evaluates to a value. Expressions are self-contained and do not inherently establish anything new, though they may be used as part of larger constructs that do.\n",
    "- **Declaration**: A piece of code that introduces a new \"thing\" into the program. Declarations often include **expressions**, especially for initialization, but the **declaration** itself is not an **expression**.\n",
    "- **Code Block**: A grouping of statements enclosed in curly braces `{}`. It allows multiple statements to be treated as a single unit. Much like **declarations** use **expressions**, code blocks are a basic building block for more a advanced kinds of statements."
   ]
  }
 ],
 "metadata": {
  "kernelspec": {
   "display_name": "Deno",
   "language": "typescript",
   "name": "deno"
  },
  "language_info": {
   "codemirror_mode": "typescript",
   "file_extension": ".ts",
   "mimetype": "text/x.typescript",
   "name": "typescript",
   "nbconvert_exporter": "script",
   "pygments_lexer": "typescript",
   "version": "5.6.2"
  }
 },
 "nbformat": 4,
 "nbformat_minor": 2
}
