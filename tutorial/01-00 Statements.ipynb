{
 "cells": [
  {
   "cell_type": "markdown",
   "metadata": {},
   "source": [
    "# Statements\n",
    "\n",
    "A **statement** in TypeScript is an instruction that performs an action. Statements are the building blocks of a program and are executed sequentially unless specified otherwise. Semicolons (`;`) are used to terminate statements. While optional in most cases due to Automatic Semicolon Insertion (ASI), it's good practice to use them consistently to avoid unintended behavior.\n",
    "\n",
    "## Types of Statements\n",
    "- Expressions\n",
    "- Declarations\n",
    "- Code Blocks\n",
    "- Control Flow"
   ]
  }
 ],
 "metadata": {
  "kernelspec": {
   "display_name": "Deno",
   "language": "typescript",
   "name": "deno"
  },
  "language_info": {
   "codemirror_mode": "typescript",
   "file_extension": ".ts",
   "mimetype": "text/x.typescript",
   "name": "typescript",
   "nbconvert_exporter": "script",
   "pygments_lexer": "typescript",
   "version": "5.6.2"
  }
 },
 "nbformat": 4,
 "nbformat_minor": 2
}
