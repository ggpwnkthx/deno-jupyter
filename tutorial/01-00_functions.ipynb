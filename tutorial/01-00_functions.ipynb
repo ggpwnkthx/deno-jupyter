{
 "cells": [
  {
   "cell_type": "markdown",
   "metadata": {},
   "source": [
    "# Functions\n",
    "A function is a reusable piece of code that performs a specific task. You can think of a function as a little machine that might take some input, does something, and then might produce an output. Functions help organize code and make it more manageable by allowing you to run the same code multiple times without having to write it out every time.\n",
    "\n",
    "Imagine a function like a coffee machine:\n",
    "- You provide inputs, such as coffee grounds and water.\n",
    "- The machine processes these inputs.\n",
    "- The machine gives you an output, which is a cup of coffee.\n",
    "\n",
    "In programming, functions work similarly. You provide inputs (called **parameters**), the function processes them, and it gives back an output (called a **return value**)."
   ]
  },
  {
   "cell_type": "markdown",
   "metadata": {},
   "source": [
    "## Defining\n",
    "To create a function in TypeScript, you start by using the `function` keyword, followed by the function's name and parentheses `()`. Inside the parentheses, you define any inputs the function needs. After that, you provide the code for the function inside curly braces `{ }`.\n",
    "\n",
    "Here's an example of a defining and running a simple function called `greet` that takes no inputs and simply outputs a greeting message."
   ]
  },
  {
   "cell_type": "code",
   "execution_count": 1,
   "metadata": {},
   "outputs": [
    {
     "data": {
      "text/plain": [
       "\u001b[32m\"Hello, World!\"\u001b[39m"
      ]
     },
     "execution_count": 1,
     "metadata": {},
     "output_type": "execute_result"
    }
   ],
   "source": [
    "function greet() {\n",
    "  return \"Hello, World!\";\n",
    "}\n",
    "\n",
    "greet();"
   ]
  },
  {
   "cell_type": "markdown",
   "metadata": {},
   "source": [
    "In this example:\n",
    "- `greet` is the name of the function.\n",
    "- `return \"Hello, World!\";` specifies what the function should output.\n",
    "\n",
    "When you call `greet` using parentheses `()`, it runs the function and outputs \"Hello, World!\".\n"
   ]
  },
  {
   "cell_type": "markdown",
   "metadata": {},
   "source": [
    "## Inputs\n",
    "Functions often take inputs, or **parameters**, to work with. Parameters allow you to provide information to the function that it can use to produce a result. In the coffee machine example, coffee grounds and water are the inputs.\n",
    "\n",
    "Let's create a new function called `greetPerson` that takes one input, `name`, and uses it to create a personalized greeting."
   ]
  },
  {
   "cell_type": "code",
   "execution_count": 2,
   "metadata": {},
   "outputs": [
    {
     "data": {
      "text/plain": [
       "\u001b[32m\"Hello, Alice!\"\u001b[39m"
      ]
     },
     "execution_count": 2,
     "metadata": {},
     "output_type": "execute_result"
    }
   ],
   "source": [
    "// Defining a function with an input\n",
    "function greetPerson(name) {\n",
    "  return \"Hello, \" + name + \"!\";\n",
    "}\n",
    "\n",
    "// Calling the function with different inputs\n",
    "greetPerson(\"Alice\");"
   ]
  },
  {
   "cell_type": "markdown",
   "metadata": {},
   "source": [
    "In this example:\n",
    "- `name` is the **parameter** for the function. When you call `greetPerson`, you can provide any name as input.\n",
    "- `greetPerson(\"Alice\")` uses `\"Alice\"` as the input, resulting in `\"Hello, Alice!\"`.\n",
    "\n",
    "Parameters make functions more flexible, allowing them to work with different data each time you run them."
   ]
  },
  {
   "cell_type": "markdown",
   "metadata": {},
   "source": [
    "## Outputs\n",
    "\n",
    "The result a function produces is called the **output** or **return value**. You can define a function's output using the `return` keyword, which specifies the value that should be given back when the function runs.\n",
    "\n",
    "For example, let’s create a function called `add` that takes two inputs and outputs their sum."
   ]
  },
  {
   "cell_type": "code",
   "execution_count": 3,
   "metadata": {},
   "outputs": [
    {
     "data": {
      "text/plain": [
       "\u001b[33m30\u001b[39m"
      ]
     },
     "execution_count": 3,
     "metadata": {},
     "output_type": "execute_result"
    }
   ],
   "source": [
    "// Defining a function with two inputs and an output\n",
    "function add(x, y) {\n",
    "  return x + y;\n",
    "}\n",
    "\n",
    "// Calling the function\n",
    "add(10, 20); // Output: 30"
   ]
  },
  {
   "cell_type": "markdown",
   "metadata": {},
   "source": [
    "In this example:\n",
    "- `x` and `y` are the inputs (parameters) for the `add` function.\n",
    "- `return x + y;` tells the function to output the result of `x + y`.\n",
    "- Calling `add(3, 4)` produces `7` as the output, while `add(10, 20)` produces `30`.\n",
    "\n",
    "By using `return`, functions can provide calculated or transformed data, which is helpful for performing tasks like math operations, data transformations, and more."
   ]
  },
  {
   "cell_type": "markdown",
   "metadata": {},
   "source": [
    "## Summary\n",
    "\n",
    "Functions are like mini-programs within your code:\n",
    "- They can take **inputs** (parameters) that allow them to work with different data.\n",
    "- They can produce **outputs** (return values) that provide a result or value.\n",
    "\n",
    "Using functions helps organize code and make it reusable, making your programs easier to understand and maintain."
   ]
  }
 ],
 "metadata": {
  "kernelspec": {
   "display_name": "Deno",
   "language": "typescript",
   "name": "deno"
  },
  "language_info": {
   "codemirror_mode": "typescript",
   "file_extension": ".ts",
   "mimetype": "text/x.typescript",
   "name": "typescript",
   "nbconvert_exporter": "script",
   "pygments_lexer": "typescript",
   "version": "5.6.2"
  }
 },
 "nbformat": 4,
 "nbformat_minor": 2
}
