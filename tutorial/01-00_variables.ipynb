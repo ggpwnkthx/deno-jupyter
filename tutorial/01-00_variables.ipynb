{
 "cells": [
  {
   "cell_type": "markdown",
   "metadata": {},
   "source": [
    "# Variables\n",
    "Declaring a variable in TypeScript means creating a named storage location in memory to hold a value that your program can use and modify. When you declare a variable, you’re essentially telling the program:\n",
    "- What to Call It: You give the variable a name, like age or username, which allows you to refer to it throughout your code.\n",
    "- What Kind of Data It Will Hold: By specifying a type, such as number or string, you define what kind of data can be stored in the variable. This helps prevent errors by making sure you don’t accidentally assign an incompatible type of value to it later.\n",
    "\n",
    "Consider the following example:"
   ]
  },
  {
   "cell_type": "code",
   "execution_count": 1,
   "metadata": {},
   "outputs": [],
   "source": [
    "let age: number = 25;"
   ]
  },
  {
   "cell_type": "markdown",
   "metadata": {},
   "source": [
    "- `let` is a **keyword** that indicates the variable is allowed to change (mutable)\n",
    "- `age` is the **name** of the variable\n",
    "- `: number` is a **type annotation** indicating that `age` can only hold numeric values\n",
    "- `= 25` is the **assignment**, where the initial value of `age` is set to `25`\n",
    "\n",
    "## Keywords\n",
    "Keywords are reserved words in TypeScript (and many other programming languages) that have special meanings and cannot be used as variable names or identifiers. These words are built into the language to perform specific actions or control how the program behaves. Keywords are essential for defining the structure and behavior of your code. When declaring a variale, these are the keywords you can use:\n",
    "- `let`: Declares a variable that can be updated (mutable).\n",
    "- `const`: Declares a variable that cannot be updated (immutable).\n",
    "- `var`: An older keyword for declaring variables that in most cases should not be used."
   ]
  }
 ],
 "metadata": {
  "kernelspec": {
   "display_name": "Deno",
   "language": "typescript",
   "name": "deno"
  },
  "language_info": {
   "codemirror_mode": "typescript",
   "file_extension": ".ts",
   "mimetype": "text/x.typescript",
   "name": "typescript",
   "nbconvert_exporter": "script",
   "pygments_lexer": "typescript",
   "version": "5.6.2"
  }
 },
 "nbformat": 4,
 "nbformat_minor": 2
}
