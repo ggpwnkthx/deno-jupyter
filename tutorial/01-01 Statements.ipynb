{
 "cells": [
  {
   "cell_type": "markdown",
   "metadata": {},
   "source": [
    "# Statements\n",
    "\n",
    "A **statement** in TypeScript is an instruction that performs an action. Statements are the smallest standalone pieces of a program that are executed step by step, in order.\n",
    "\n",
    "Statements can:\n",
    "- Perform actions, such as calculating a value.\n",
    "- Group other instructions together.\n",
    "- Control the flow of the program (what happens and in what order).\n",
    "\n",
    "### Syntax\n",
    "Statements in TypeScript are typically written one per line and can optionally end with a semicolon (`;`). While semicolons are not strictly required due to TypeScript's **Automatic Semicolon Insertion (ASI)** feature, using them consistently is a good practice to avoid unintended behavior.\n",
    "\n",
    "## Types of Statements\n",
    "\n",
    "### Expressions\n",
    "An **expression** is a combination of values and operators that evaluates to a result. When an expression is used as a statement, it becomes an **expression statement**. These are used to perform calculations or other actions within a program. Expression statements evaluate their expressions but do not store or display the result unless combined with other constructs.\n"
   ]
  },
  {
   "cell_type": "code",
   "execution_count": 1,
   "metadata": {},
   "outputs": [
    {
     "data": {
      "text/plain": [
       "\u001b[33m8\u001b[39m"
      ]
     },
     "execution_count": 1,
     "metadata": {},
     "output_type": "execute_result"
    }
   ],
   "source": [
    "3 + 5;"
   ]
  },
  {
   "cell_type": "markdown",
   "metadata": {},
   "source": [
    "### Blocks\n",
    "A **block** groups multiple instructions together into a compound statement. A block is enclosed in curly braces (`{}`) and is treated as a single unit by the program. Blocks are essential for grouping related instructions and controlling program flow.\n"
   ]
  },
  {
   "cell_type": "code",
   "execution_count": 2,
   "metadata": {},
   "outputs": [
    {
     "data": {
      "text/plain": [
       "\u001b[33mtrue\u001b[39m"
      ]
     },
     "execution_count": 2,
     "metadata": {},
     "output_type": "execute_result"
    }
   ],
   "source": [
    "{\n",
    "  5 * 2;\n",
    "  10 > 3;\n",
    "}"
   ]
  },
  {
   "cell_type": "markdown",
   "metadata": {},
   "source": [
    "### Declarations\n",
    "A **declaration** introduces something new to the program and stores it in a way that makes it easy to recall. Declarations will become more relevant as we progress in the tutorial.\n",
    "\n",
    "# Note About Jupyter Notebooks\n",
    "\n",
    "In Jupyter notebooks, when you run a code cell, the notebook automatically evaluates the last statement in the cell and displays its value. This behavior can be very helpful for debugging and understanding code because you can see the immediate result of what you've written. While this automatic display of the evaluation result is convenient, it does not mean that the value is stored or accessible elsewhere in the program. It's simply a feature of the notebook to show you what the code has produced. If you need to use the result later in your program, you will need to explicitly store it (we'll cover this in future sections)."
   ]
  }
 ],
 "metadata": {
  "kernelspec": {
   "display_name": "Deno",
   "language": "typescript",
   "name": "deno"
  },
  "language_info": {
   "codemirror_mode": "typescript",
   "file_extension": ".ts",
   "mimetype": "text/x.typescript",
   "name": "typescript",
   "nbconvert_exporter": "script",
   "pygments_lexer": "typescript",
   "version": "5.6.2"
  }
 },
 "nbformat": 4,
 "nbformat_minor": 2
}
