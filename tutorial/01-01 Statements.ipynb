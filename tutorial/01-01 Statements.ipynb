{
 "cells": [
  {
   "cell_type": "markdown",
   "metadata": {},
   "source": [
    "# Statements\n",
    "\n",
    "A **statement** in TypeScript is an instruction that performs an action. Statements are the smallest standalone pieces of a program that are executed step by step, in order.\n",
    "\n",
    "Statements can:\n",
    "- Perform actions, such as calculating a value.\n",
    "- Group other instructions together.\n",
    "- Control the flow of the program (what happens and in what order).\n",
    "\n",
    "### Syntax\n",
    "Statements in TypeScript are typically written one per line and can optionally end with a semicolon (`;`). While semicolons are not strictly required due to TypeScript's **Automatic Semicolon Insertion (ASI)** feature, using them consistently is a good practice to avoid unintended behavior.\n"
   ]
  },
  {
   "cell_type": "code",
   "execution_count": null,
   "metadata": {},
   "outputs": [
    {
     "data": {
      "text/plain": [
       "\u001b[33m3\u001b[39m"
      ]
     },
     "execution_count": 1,
     "metadata": {},
     "output_type": "execute_result"
    }
   ],
   "source": [
    "3.14;"
   ]
  }
 ],
 "metadata": {
  "kernelspec": {
   "display_name": "Deno",
   "language": "typescript",
   "name": "deno"
  },
  "language_info": {
   "codemirror_mode": "typescript",
   "file_extension": ".ts",
   "mimetype": "text/x.typescript",
   "name": "typescript",
   "nbconvert_exporter": "script",
   "pygments_lexer": "typescript",
   "version": "5.6.2"
  }
 },
 "nbformat": 4,
 "nbformat_minor": 2
}
