{
 "cells": [
  {
   "cell_type": "markdown",
   "metadata": {},
   "source": [
    "# Variables\n",
    "Declaring a variable in TypeScript means creating a named storage location in memory to hold a value that your program can use and modify. When you declare a variable, you’re essentially telling the program:\n",
    "- What to Call It: You give the variable a name, like age or username, which allows you to refer to it throughout your code.\n",
    "- What Kind of Data It Will Hold: By specifying a type, such as number or string, you define what kind of data can be stored in the variable. This helps prevent errors by making sure you don’t accidentally assign an incompatible type of value to it later.\n",
    "\n",
    "Consider the following example:"
   ]
  },
  {
   "cell_type": "code",
   "execution_count": 1,
   "metadata": {},
   "outputs": [],
   "source": [
    "const age: number = 25;"
   ]
  },
  {
   "cell_type": "markdown",
   "metadata": {},
   "source": [
    "- `const` is a **keyword** that indicates the variable is not allowed to change (immutable)\n",
    "- `age` is the **name** of the variable\n",
    "- `: number` is a **type annotation** indicating that `age` can only hold numeric values\n",
    "- `= 25` is the **assignment**, where the initial value of `age` is set to `25`\n",
    "\n",
    "## Keywords\n",
    "Keywords are reserved words in TypeScript (and many other programming languages) that have special meanings and cannot be used as variable names or identifiers. These words are built into the language to perform specific actions or control how the program behaves. Keywords are essential for defining the structure and behavior of your code. When declaring a variale, these are the keywords you can use:\n",
    "- `let`: Declares a variable that can be updated (mutable).\n",
    "- `const`: Declares a variable that cannot be updated (immutable).\n",
    "- `var`: An older keyword for declaring variables that in most cases should not be used."
   ]
  },
  {
   "cell_type": "markdown",
   "metadata": {},
   "source": [
    "## Properties and Methods\n",
    "\n",
    "Variables can have associated properties and methods. A property is an attribute of a variable, holding a specific piece of data about the variable. For example, a variable holding text data will have a `length` property that stores the number of characters stored in the variable.\n",
    "\n",
    "A method, on the other hand, is a special type of property whose value is a function. Unlike regular properties, methods operate within the context of the variable they belong to. This means they can access and manipulate data directly associated with that variable, making them powerful tools for interacting with different types of data.\n",
    "\n",
    "One example of a variable with a property that is a method is the built-in (meaning it is always pre-defined for you) `console` variable. The `console` variable lets you display messages from your program as it runs. These messages can appear in:\n",
    "- developer console in a web browser\n",
    "- command line when using Deno\n",
    "- area below each code cell in these tutorial Jupyter notebooks"
   ]
  },
  {
   "cell_type": "code",
   "execution_count": 2,
   "metadata": {},
   "outputs": [
    {
     "name": "stdout",
     "output_type": "stream",
     "text": [
      "Hello, Deno!\n"
     ]
    }
   ],
   "source": [
    "console.log(\"Hello, Deno!\");"
   ]
  },
  {
   "cell_type": "markdown",
   "metadata": {},
   "source": [
    "In this example:\n",
    "- `console` is a variable with properties\n",
    "- `log` is one of the properies of the `console` variable, and because its value is a function, we call it a method\n",
    "\n",
    "When we call `console.log(\"Hello, Deno!\");`, we are invoking the `log` method of `console`, which outputs \"Hello, Deno!\" to the pre-configured display area."
   ]
  }
 ],
 "metadata": {
  "kernelspec": {
   "display_name": "Deno",
   "language": "typescript",
   "name": "deno"
  },
  "language_info": {
   "codemirror_mode": "typescript",
   "file_extension": ".ts",
   "mimetype": "text/x.typescript",
   "name": "typescript",
   "nbconvert_exporter": "script",
   "pygments_lexer": "typescript",
   "version": "5.6.2"
  }
 },
 "nbformat": 4,
 "nbformat_minor": 2
}
