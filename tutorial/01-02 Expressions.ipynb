{
 "cells": [
  {
   "cell_type": "markdown",
   "metadata": {},
   "source": [
    "# Expressions\n",
    "\n",
    "An **expression** is a piece of code that the programming language evaluates to produce a value.\n",
    "\n",
    "## Types\n",
    "\n",
    "### Logical\n",
    "Logical operators combine boolean values to produce a new boolean result.\n",
    "\n",
    "| Operator | Description            | Example                  | Evaluates As |\n",
    "|----------|------------------------|--------------------------|--------------|\n",
    "| `&&`     | Logical AND            | `true && false`          | `false`      |\n",
    "| `\\|\\|`     | Logical OR             | `true \\|\\| false`          | `true`       |\n",
    "| `!`      | Logical NOT            | `!true`                  | `false`      |\n"
   ]
  },
  {
   "cell_type": "code",
   "execution_count": 1,
   "metadata": {},
   "outputs": [
    {
     "data": {
      "text/plain": [
       "\u001b[33mfalse\u001b[39m"
      ]
     },
     "execution_count": 1,
     "metadata": {},
     "output_type": "execute_result"
    }
   ],
   "source": [
    "true && false;\n",
    "true || false;\n",
    "!true;"
   ]
  },
  {
   "cell_type": "markdown",
   "metadata": {},
   "source": [
    "### Comparison\n",
    "These operators compare two values and return a boolean (`true` or `false`).\n",
    "\n",
    "| Operator | Description             | Example          | Evaluates As |\n",
    "|----------|-------------------------|------------------|--------------|\n",
    "| `>`      | Greater than            | `5 > 3`          | `true`       |\n",
    "| `<`      | Less than               | `5 < 3`          | `false`      |\n",
    "| `>=`     | Greater than or equal   | `5 >= 5`         | `true`       |\n",
    "| `<=`     | Less than or equal      | `3 <= 4`         | `true`       |\n",
    "| `===`    | Strict equality         | `5 === 5`        | `true`       |\n",
    "| `!==`    | Strict inequality       | `5 !== 3`        | `true`       |\n"
   ]
  },
  {
   "cell_type": "code",
   "execution_count": 2,
   "metadata": {},
   "outputs": [
    {
     "data": {
      "text/plain": [
       "\u001b[33mtrue\u001b[39m"
      ]
     },
     "execution_count": 2,
     "metadata": {},
     "output_type": "execute_result"
    }
   ],
   "source": [
    "5 > 3;\n",
    "5 < 3;\n",
    "5 >= 5;\n",
    "3 <= 4;\n",
    "5 === 5;\n",
    "5 !== 3;"
   ]
  },
  {
   "cell_type": "markdown",
   "metadata": {},
   "source": [
    "\n",
    "### Arithmetic\n",
    "These operators perform mathematical operations on numeric values.\n",
    "\n",
    "| Operator | Description         | Example         | Evaluates As |\n",
    "|----------|---------------------|-----------------|--------------|\n",
    "| `+`      | Addition            | `5 + 3`         | `8`          |\n",
    "| `-`      | Subtraction         | `10 - 4`        | `6`          |\n",
    "| `*`      | Multiplication      | `2 * 3`         | `6`          |\n",
    "| `/`      | Division            | `8 / 2`         | `4`          |\n",
    "| `%`      | Modulus (remainder) | `7 % 3`         | `1`          |\n",
    "| `**`     | Exponentiation      | `2 ** 3`        | `8`          |\n"
   ]
  },
  {
   "cell_type": "code",
   "execution_count": 3,
   "metadata": {},
   "outputs": [
    {
     "data": {
      "text/plain": [
       "\u001b[33m8\u001b[39m"
      ]
     },
     "execution_count": 3,
     "metadata": {},
     "output_type": "execute_result"
    }
   ],
   "source": [
    "5 + 3;\n",
    "10 - 4;\n",
    "2 * 3;\n",
    "8 / 2;\n",
    "7 % 3;\n",
    "2 ** 3;"
   ]
  },
  {
   "cell_type": "markdown",
   "metadata": {},
   "source": [
    "## Evaluation\n",
    "\n",
    "### Precedence\n",
    "TypeScript follows a set of rules called **operator precedence** to determine the order in which parts of an expression are evaluated. Operators with higher precedence are evaluated first.\n",
    "\n",
    "| Operator        | Example      | Evaluates As |\n",
    "|-----------------|--------------|--------------|\n",
    "| Parentheses     | `(5 + 3) * 2` | `16`         |\n",
    "| Multiplication  | `5 * 3 + 2`   | `17`         |\n",
    "| Addition/Subtraction | `5 + 3 - 2` | `6`        |\n",
    "\n",
    "### Associativity\n",
    "When operators have the same precedence, **associativity** determines the order of evaluation:\n",
    "- Left-to-right: Most operators (e.g., `+`, `-`, `*`, `/`).\n",
    "- Right-to-left: Assignment operators (e.g., `=`).\n",
    "\n",
    "#### Examples:\n",
    "- `10 - 5 + 2` is evaluated as `(10 - 5) + 2` → `7`.\n",
    "- `x = y = 5` is evaluated as `x = (y = 5)`.\n",
    "\n",
    "## Nesting Expressions\n",
    "\n",
    "Expressions can be nested inside one another to build more complex logic. The innermost expressions are evaluated first.\n",
    "\n",
    "### Examples:\n",
    "- `2 * (3 + 4)`\n",
    "  - The parentheses are evaluated first: `3 + 4` → `7`.\n",
    "  - Then the multiplication: `2 * 7` → `14`.\n",
    "\n",
    "- `(5 > 3) && (10 > 5)`\n",
    "  - The comparisons are evaluated first: `5 > 3` → `true`, `10 > 5` → `true`.\n",
    "  - Then the logical operator: `true && true` → `true`.\n",
    "\n",
    "### Deep Nesting\n",
    "Complex expressions can involve multiple levels of nesting. Parentheses help make the order of evaluation explicit:\n",
    "- `((2 + 3) * (4 - 1)) / 2`\n",
    "  - `2 + 3` → `5`\n",
    "  - `4 - 1` → `3`\n",
    "  - `5 * 3` → `15`\n",
    "  - `15 / 2` → `7.5`\n"
   ]
  }
 ],
 "metadata": {
  "kernelspec": {
   "display_name": "Deno",
   "language": "typescript",
   "name": "deno"
  },
  "language_info": {
   "codemirror_mode": "typescript",
   "file_extension": ".ts",
   "mimetype": "text/x.typescript",
   "name": "typescript",
   "nbconvert_exporter": "script",
   "pygments_lexer": "typescript",
   "version": "5.6.2"
  }
 },
 "nbformat": 4,
 "nbformat_minor": 2
}
