{
 "cells": [
  {
   "cell_type": "markdown",
   "metadata": {},
   "source": [
    "# Types\n",
    "\n",
    "## What are Types?\n",
    "Types help describe the kind of data a program uses, such as numbers, text, or logical values like `true` or `false`. They describe the shape and behavior of data, helping the program and developer understand how data should be used. All data is stored in memory as a series of bits (1s and 0s), and it's absolutely essential for your app to understand what the position of each those bits means. Being able to write and read bits to represent a particular type of data is called encoding and decoding.\n",
    "\n",
    "## Why Use Types?\n",
    "- **Prevent Errors**: Catch mistakes early, such as assigning text to a number or calling a non-existent property.\n",
    "- **Improve Clarity**: Clearly communicate the purpose of data to others and to future you.\n",
    "- **Leverage Tools**: Unlock features like autocomplete and inline error checking, making development faster and smoother.\n",
    "\n",
    "***Note***: Types are not a substitute for runtime checks. For example, TypeScript won't prevent invalid data received from APIs unless you validate it explicitly."
   ]
  },
  {
   "cell_type": "markdown",
   "metadata": {},
   "source": [
    "## Primitive Types\n",
    "\n",
    "Primitive types are the simplest forms of data in TypeScript. They represent single values and are stored in memory differently depending on their type.\n",
    "\n",
    "Each primitive type is stored in memory differently. Here's a quick overview:\n",
    "\n",
    "| Type       | Memory Representation                                                                 |\n",
    "|------------|---------------------------------------------------------------------------------------|\n",
    "| `boolean`  | 1 bit (`0` or `1`), padded to 8 bits for alignment                                    |\n",
    "| `null`     | 32-bit or 64-bit pointer (e.g., `0x00000000`)                                         |\n",
    "| `undefined`| Internal token, often `0xFFFFFFFF`                                                    |\n",
    "| `number`   | 64 bits (1 sign bit, 11 exponent bits, 52 mantissa bits)                              |\n",
    "| `bigint`   | Dynamically allocated bits based on the size of the integer                           |\n",
    "| `string`   | UTF-16 encoding, 16 bits (2 bytes) per character                                      |\n"
   ]
  }
 ],
 "metadata": {
  "kernelspec": {
   "display_name": "Deno",
   "language": "typescript",
   "name": "deno"
  },
  "language_info": {
   "codemirror_mode": "typescript",
   "file_extension": ".ts",
   "mimetype": "text/x.typescript",
   "name": "typescript",
   "nbconvert_exporter": "script",
   "pygments_lexer": "typescript",
   "version": "5.6.2"
  }
 },
 "nbformat": 4,
 "nbformat_minor": 2
}
