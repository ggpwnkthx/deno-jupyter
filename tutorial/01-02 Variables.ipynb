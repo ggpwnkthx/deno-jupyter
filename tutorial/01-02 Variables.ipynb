{
 "cells": [
  {
   "cell_type": "markdown",
   "metadata": {},
   "source": [
    "# Variables\n",
    "\n",
    "A variable is like a labeled container in which you store data. Variables allow programs to hold information and reuse it throughout the program.\n",
    "\n",
    "When you create a variable, you:\n",
    "- Give it a **name** so you can refer to it later.\n",
    "- Specify a **type** to define what kind of data it will hold.\n",
    "- Assign a **value**, which is the data stored inside the variable.\n",
    "\n",
    "## Syntax\n",
    "To declare variables in TypeScript, you use the keywords `let` or `const`:\n",
    "- `let`: Allows the variable to be reassigned later.\n",
    "- `const`: Makes the variable immutable (its value cannot be changed).\n",
    "\n",
    "***Note***: *You should know that `var` is also a keyword that exists for declaring variables, but don't use it. It has outdated rules that can cause bugs. It remains available to support legacy behavior from older JavaScript, but it’s use is problematic in modern TypeScript.*"
   ]
  },
  {
   "cell_type": "code",
   "execution_count": 1,
   "metadata": {},
   "outputs": [
    {
     "data": {
      "text/plain": [
       "\u001b[33m27\u001b[39m"
      ]
     },
     "execution_count": 1,
     "metadata": {},
     "output_type": "execute_result"
    }
   ],
   "source": [
    "// Using 'let'\n",
    "let temperature: number = 25; // Temperature can change\n",
    "temperature = 27; // value updated to 27\n",
    "\n",
    "// Using 'const'\n",
    "const pi: number = 3.14159; // pi will never change"
   ]
  },
  {
   "cell_type": "markdown",
   "metadata": {},
   "source": [
    "- `temperature` and `pi` are variable names.\n",
    "- `number` specifies the type of data (numeric values).\n",
    "- `25` and `3.14159` are the initial values assigned to the variables.\n",
    "\n",
    "## Expressions\n",
    "\n",
    "An **expression** is any code that produces a value. For example, `5 + 3` or `temperature * 2` are expressions. You can assign the result of an expression to a variable:\n"
   ]
  },
  {
   "cell_type": "code",
   "execution_count": 2,
   "metadata": {},
   "outputs": [],
   "source": [
    "const result: number = 5 + 3; // result holds the value 8\n",
    "const doubled: number = result * 2; // doubled holds the value 16"
   ]
  },
  {
   "cell_type": "markdown",
   "metadata": {},
   "source": [
    "## Code Blocks and Scope\n",
    "\n",
    "A **code block** is a group of statements enclosed in curly braces `{}`. These statements are executed together. Variables declared inside a code block have **block scope**, meaning they can only be accessed within that block.\n",
    "\n",
    "The **scope** of a variable determines where it can be accessed in your program. Code blocks define boundaries for a variable's scope. Nested blocks create smaller, inner scopes within a larger scope."
   ]
  },
  {
   "cell_type": "code",
   "execution_count": 3,
   "metadata": {},
   "outputs": [],
   "source": [
    "{\n",
    "  const outerVariable: string = \"I am in the outer block!\";\n",
    "  { // Nested block starts here\n",
    "    const innerVariable: string = \"I am in the inner block!\";\n",
    "    const message: string = outerVariable + \" and \" + innerVariable; // Works fine\n",
    "    // message holds \"I am in the outer block! and I am in the inner block!\"\n",
    "  }\n",
    "  // innerVariable is not accessible here; trying to use it would result in an error.\n",
    "  // const anotherMessage = outerVariable + innerVariable; // ERROR\n",
    "}\n",
    "// outerVariable is also not accessible here; it exists only within its block."
   ]
  },
  {
   "cell_type": "markdown",
   "metadata": {},
   "source": [
    "- Variables declared in an outer block are accessible to inner (nested) blocks.\n",
    "- Variables declared in an inner block are **not** accessible to the outer block.\n",
    "- Each block creates a new scope, restricting the visibility of variables declared within it.\n",
    "\n",
    "### Global Scope\n",
    "A variable that is declared outside of any function or block is part of the global scope. This means they are accessible everywhere.\n",
    "\n",
    "### Best Practices\n",
    "1. Use `const` by default for variables whose values won't change.\n",
    "2. Use `let` only when you expect the variable's value to change.\n",
    "3. Avoid using `var`, as it does not have block scope and can lead to unexpected behavior.\n",
    "4. Minimize the scope of variables to where they are needed for better readability and maintainability.\n"
   ]
  }
 ],
 "metadata": {
  "kernelspec": {
   "display_name": "Deno",
   "language": "typescript",
   "name": "deno"
  },
  "language_info": {
   "codemirror_mode": "typescript",
   "file_extension": ".ts",
   "mimetype": "text/x.typescript",
   "name": "typescript",
   "nbconvert_exporter": "script",
   "pygments_lexer": "typescript",
   "version": "5.6.2"
  }
 },
 "nbformat": 4,
 "nbformat_minor": 2
}
