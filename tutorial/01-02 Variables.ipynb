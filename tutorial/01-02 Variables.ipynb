{
 "cells": [
  {
   "cell_type": "markdown",
   "metadata": {},
   "source": [
    "# Variables\n",
    "\n",
    "Declaring a variable in TypeScript means creating a named storage location in memory to hold a value that your program can use and modify. When you declare a variable, you’re essentially telling the program:\n",
    "- What to call it by giving the variable a name, like `age` or `username`, which allows you to refer to it throughout your code.\n",
    "- What kind of data it will hold by specifying a type, such as number or string, you define what kind of data can be stored in the variable. This helps prevent errors by making sure you don’t accidentally assign an incompatible type of value to it later.\n",
    "- What data to assign it, by storing the approriately oriented 1s and 0s in memory.\n",
    "\n",
    "## Keywords\n",
    "- `let`: Declares a variable that can be reassigned later (mutable).\n",
    "- `const`: Declares a variable that cannot be reassigned (immutable).\n",
    "- `var`: Available to support legacy behavior from older JavaScript, but it’s use is problematic in modern TypeScript.\n",
    "\n",
    "Although TypeScript allows using `var` to declare variables, **don’t use it** – only use `let` or `const`.\n",
    "\n",
    "## Syntax"
   ]
  },
  {
   "cell_type": "code",
   "execution_count": 1,
   "metadata": {},
   "outputs": [],
   "source": [
    "// Use 'let' for variables that may change\n",
    "let name: string = \"Alice\";"
   ]
  },
  {
   "cell_type": "markdown",
   "metadata": {},
   "source": [
    "- `let` is the **keyword**\n",
    "- `name` is the **name** of the variable\n",
    "- `: string` is a **type annotation** indicating that `name` can only hold text values\n",
    "- `= \"Alice\"` is the **assignment**, where the initial value of `name` is set to `\"Alice\"`"
   ]
  },
  {
   "cell_type": "code",
   "execution_count": 2,
   "metadata": {},
   "outputs": [],
   "source": [
    "// Use 'const' for values that won't change\n",
    "const age: number = 25;"
   ]
  },
  {
   "cell_type": "markdown",
   "metadata": {},
   "source": [
    "- `const` is the **keyword**\n",
    "- `age` is the **name** of the variable\n",
    "- `: number` is a **type annotation** indicating that `age` can only hold numeric values\n",
    "- `= 25` is the **assignment**, where the initial value of `age` is set to `25`"
   ]
  }
 ],
 "metadata": {
  "kernelspec": {
   "display_name": "Deno",
   "language": "typescript",
   "name": "deno"
  },
  "language_info": {
   "codemirror_mode": "typescript",
   "file_extension": ".ts",
   "mimetype": "text/x.typescript",
   "name": "typescript",
   "nbconvert_exporter": "script",
   "pygments_lexer": "typescript",
   "version": "5.6.2"
  }
 },
 "nbformat": 4,
 "nbformat_minor": 2
}
