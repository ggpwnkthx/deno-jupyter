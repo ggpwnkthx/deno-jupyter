{
 "cells": [
  {
   "cell_type": "markdown",
   "metadata": {},
   "source": [
    "## Code Blocks\n",
    "\n",
    "A **code block** is a group of statements enclosed in curly braces `{}`. These statements are executed together. Variables declared inside a code block have **block scope**, meaning they can only be accessed within that block.\n",
    "\n",
    "The **scope** of a variable determines where it can be accessed in your program. Code blocks define boundaries for a variable's scope. Nested blocks create smaller, inner scopes within a larger scope."
   ]
  },
  {
   "cell_type": "code",
   "execution_count": 1,
   "metadata": {},
   "outputs": [],
   "source": [
    "{\n",
    "  const outerVariable: string = \"I am in the outer block!\";\n",
    "  { // Nested block starts here\n",
    "    const innerVariable: string = \"I am in the inner block!\";\n",
    "    const message: string = outerVariable + \" and \" + innerVariable; // Works fine\n",
    "    // message holds \"I am in the outer block! and I am in the inner block!\"\n",
    "  }\n",
    "  // innerVariable is not accessible here; trying to use it would result in an error.\n",
    "  // const anotherMessage = outerVariable + innerVariable; // ERROR\n",
    "}\n",
    "// outerVariable is also not accessible here; it exists only within its block."
   ]
  },
  {
   "cell_type": "markdown",
   "metadata": {},
   "source": [
    "- Variables declared in an outer block are accessible to inner (nested) blocks.\n",
    "- Variables declared in an inner block are **not** accessible to the outer block.\n",
    "- Each block creates a new scope, restricting the visibility of variables declared within it.\n",
    "\n",
    "### Global Scope\n",
    "A variable that is declared outside of any function or block is part of the global scope. This means they are accessible everywhere.\n"
   ]
  }
 ],
 "metadata": {
  "kernelspec": {
   "display_name": "Deno",
   "language": "typescript",
   "name": "deno"
  },
  "language_info": {
   "codemirror_mode": "typescript",
   "file_extension": ".ts",
   "mimetype": "text/x.typescript",
   "name": "typescript",
   "nbconvert_exporter": "script",
   "pygments_lexer": "typescript",
   "version": "5.6.2"
  }
 },
 "nbformat": 4,
 "nbformat_minor": 2
}
