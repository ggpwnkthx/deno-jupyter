{
 "cells": [
  {
   "cell_type": "markdown",
   "metadata": {},
   "source": [
    "# Expressions\n",
    "\n",
    "An **expression** is any code that produces a value. Expressions can be as simple as a number or a string, or as complex as mathematical operations or function calls. For example:\n",
    "\n",
    "- `5 + 3` evaluates to `8`.\n",
    "- `\"Hello, \" + \"World!\"` evaluates to `\"Hello, World!\"`.\n",
    "\n",
    "Expressions are the building blocks of programs and are often used to assign values to variables."
   ]
  },
  {
   "cell_type": "code",
   "execution_count": 1,
   "metadata": {},
   "outputs": [],
   "source": [
    "// Simple arithmetic expression\n",
    "const sum = 5 + 3; // sum is 8\n",
    "// String concatenation\n",
    "const greeting = \"Hello, \" + \"World!\"; // greeting is \"Hello, World!\"\n",
    "// Using a variable in an expression\n",
    "const doubled = sum * 2; // doubled is 16"
   ]
  },
  {
   "cell_type": "markdown",
   "metadata": {},
   "source": [
    "## Code Blocks\n",
    "\n",
    "A **code block** is a group of statements enclosed in curly braces `{}`. These statements are executed together and, like expressions, a code block can produce a value. \n",
    "\n",
    "Code blocks are more powerful than single expressions because they can contain multiple expressions and statements, such as variable declarations and other logic.\n"
   ]
  },
  {
   "cell_type": "code",
   "execution_count": 2,
   "metadata": {},
   "outputs": [
    {
     "data": {
      "text/plain": [
       "\u001b[33m8\u001b[39m"
      ]
     },
     "execution_count": 2,
     "metadata": {},
     "output_type": "execute_result"
    }
   ],
   "source": [
    "{\n",
    "  const a = 5;\n",
    "  const b = 3;\n",
    "  a + b; // The block produces the value 8\n",
    "}"
   ]
  },
  {
   "cell_type": "markdown",
   "metadata": {},
   "source": [
    "## Nested Code Blocks\n",
    "\n",
    "Code blocks can contain other code blocks inside them, forming **nested blocks**. This nesting creates **scopes**, which determine where variables can be accessed in your program.\n",
    "\n",
    "### Scope\n",
    "\n",
    "The **scope** of a variable is the region in your code where the variable is defined and can be used. When working with nested blocks, it's important to understand three kinds of scope:\n",
    "\n",
    "1. **Global Scope**: Variables declared outside any block or function are in the global scope. They are accessible from anywhere in the program.\n",
    "2. **Block Scope**: Variables declared inside a code block (`{}`) are only accessible within that block and its nested blocks.\n",
    "3. **Inner (Nested) Scope**: When one block is inside another, the inner block has access to variables from the outer block. However, the reverse is not true—variables declared in the inner block are not accessible in the outer block.\n"
   ]
  },
  {
   "cell_type": "code",
   "execution_count": 3,
   "metadata": {},
   "outputs": [
    {
     "data": {
      "text/plain": [
       "\u001b[32m\"I am global, I am in the outer block, and I am in the inner block\"\u001b[39m"
      ]
     },
     "execution_count": 3,
     "metadata": {},
     "output_type": "execute_result"
    }
   ],
   "source": [
    "// Global scope\n",
    "const globalVar = \"I am global\";\n",
    "{\n",
    "  // Outer block scope\n",
    "  const outerVar = \"I am in the outer block\";\n",
    "  {\n",
    "    // Inner block scope\n",
    "    const innerVar = \"I am in the inner block\";\n",
    "    // Access variables from inner and outer blocks\n",
    "    const message = `${globalVar}, ${outerVar}, and ${innerVar}`;\n",
    "    message; // Produces: \"I am global, I am in the outer block, and I am in the inner block\"\n",
    "  }\n",
    "  // innerVar is NOT accessible here; this would cause an error:\n",
    "  // const errorMessage = `${outerVar} and ${innerVar}`;\n",
    "}\n",
    "// outerVar is NOT accessible here; this would cause an error:\n",
    "// console.log(outerVar);"
   ]
  }
 ],
 "metadata": {
  "kernelspec": {
   "display_name": "Deno",
   "language": "typescript",
   "name": "deno"
  },
  "language_info": {
   "codemirror_mode": "typescript",
   "file_extension": ".ts",
   "mimetype": "text/x.typescript",
   "name": "typescript",
   "nbconvert_exporter": "script",
   "pygments_lexer": "typescript",
   "version": "5.6.2"
  }
 },
 "nbformat": 4,
 "nbformat_minor": 2
}
