{
 "cells": [
  {
   "cell_type": "markdown",
   "metadata": {},
   "source": [
    "# Expressions\n",
    "\n",
    "An **expression** is any code that produces a value. For example, `5 + 3` or `temperature * 2` are expressions. You can assign the result of an expression to a variable:\n"
   ]
  },
  {
   "cell_type": "code",
   "execution_count": null,
   "metadata": {},
   "outputs": [],
   "source": [
    "const temperature: number = 5 + 3; // result holds the value 8\n",
    "const doubled: number = temperature * 2; // doubled holds the value 16"
   ]
  },
  {
   "cell_type": "markdown",
   "metadata": {},
   "source": [
    "## Code Blocks\n",
    "\n",
    "A **code block** is a group of statements enclosed in curly braces `{}`. These statements are executed together to produce a final result. A **return value** is the data that a block provides after completing its execution. \n",
    "\n",
    "The **scope** of a variable determines where it can be accessed in your program. Code blocks define boundaries for a variable's scope. Nested blocks create smaller, inner scopes within a larger scope.\n"
   ]
  },
  {
   "cell_type": "code",
   "execution_count": null,
   "metadata": {},
   "outputs": [
    {
     "data": {
      "text/plain": [
       "\u001b[32m\"I am in the outer block! and I am in the inner block!\"\u001b[39m"
      ]
     },
     "execution_count": 2,
     "metadata": {},
     "output_type": "execute_result"
    }
   ],
   "source": [
    "{\n",
    "  const outerVariable: string = \"I am in the outer block!\";\n",
    "  { // Nested block starts here\n",
    "    const innerVariable: string = \"I am in the inner block!\";\n",
    "    outerVariable + \" and \" + innerVariable; \n",
    "  }\n",
    "  // innerVariable is not accessible here; trying to use it would result in an error.\n",
    "  // const anotherMessage = outerVariable + innerVariable; // ERROR\n",
    "}"
   ]
  },
  {
   "cell_type": "markdown",
   "metadata": {},
   "source": [
    "- Variables declared in an outer block are accessible to inner (nested) blocks.\n",
    "- Variables declared in an inner block are **not** accessible to the outer block.\n",
    "- Each block creates a new scope, restricting the visibility of variables declared within it.\n",
    "\n",
    "### Global Scope\n",
    "A variable that is declared outside of any function or block is part of the global scope. This means they are accessible everywhere.\n"
   ]
  }
 ],
 "metadata": {
  "kernelspec": {
   "display_name": "Deno",
   "language": "typescript",
   "name": "deno"
  },
  "language_info": {
   "codemirror_mode": "typescript",
   "file_extension": ".ts",
   "mimetype": "text/x.typescript",
   "name": "typescript",
   "nbconvert_exporter": "script",
   "pygments_lexer": "typescript",
   "version": "5.6.2"
  }
 },
 "nbformat": 4,
 "nbformat_minor": 2
}
