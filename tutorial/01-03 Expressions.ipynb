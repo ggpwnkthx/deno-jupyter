{
 "cells": [
  {
   "cell_type": "markdown",
   "metadata": {},
   "source": [
    "# Expressions\n",
    "\n",
    "An **expression** is any code that produces a value. Expressions can be as simple as a number or a string, or as complex as mathematical operations or function calls. For example:\n",
    "\n",
    "- `5 + 3` evaluates to `8`.\n",
    "- `\"Hello, \" + \"World!\"` evaluates to `\"Hello, World!\"`.\n",
    "\n",
    "Expressions are the building blocks of programs and are often used to assign values to variables."
   ]
  },
  {
   "cell_type": "code",
   "execution_count": 1,
   "metadata": {},
   "outputs": [],
   "source": [
    "// Simple arithmetic expression\n",
    "const sum = 5 + 3; // sum is 8\n",
    "// String concatenation\n",
    "const greeting = \"Hello, \" + \"World!\"; // greeting is \"Hello, World!\"\n",
    "// Using a variable in an expression\n",
    "const doubled = sum * 2; // doubled is 16"
   ]
  }
 ],
 "metadata": {
  "kernelspec": {
   "display_name": "Deno",
   "language": "typescript",
   "name": "deno"
  },
  "language_info": {
   "codemirror_mode": "typescript",
   "file_extension": ".ts",
   "mimetype": "text/x.typescript",
   "name": "typescript",
   "nbconvert_exporter": "script",
   "pygments_lexer": "typescript",
   "version": "5.6.2"
  }
 },
 "nbformat": 4,
 "nbformat_minor": 2
}
