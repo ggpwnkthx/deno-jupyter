{
 "cells": [
  {
   "cell_type": "markdown",
   "metadata": {},
   "source": [
    "# Expressions\n",
    "\n",
    "An **expression** is a piece of code that the programming language evaluates to produce a value. Expressions are the building blocks of TypeScript logic, and understanding them is critical to writing reliable, efficient code."
   ]
  },
  {
   "cell_type": "markdown",
   "metadata": {},
   "source": [
    "## Logical\n",
    "Logical operators combine boolean values to produce a new boolean result. These are commonly used in conditions to decide the flow of your program.\n",
    "\n",
    " Operator | Description            | Example                  | Evaluates As \n",
    "----------|------------------------|--------------------------|--------------\n",
    " `&&`     | Logical AND            | `true && false`          | `false`      \n",
    " `\\|\\|`   | Logical OR             | `true \\|\\| false`        | `true`       \n",
    " `!`      | Logical NOT            | `!true`                  | `false`      "
   ]
  },
  {
   "cell_type": "code",
   "execution_count": 1,
   "metadata": {},
   "outputs": [
    {
     "data": {
      "text/plain": [
       "\u001b[33mfalse\u001b[39m"
      ]
     },
     "execution_count": 1,
     "metadata": {},
     "output_type": "execute_result"
    }
   ],
   "source": [
    "// Logical expressions example\n",
    "true && false; // AND: false\n",
    "true || false; // OR: true\n",
    "!true; // NOT: false"
   ]
  },
  {
   "cell_type": "markdown",
   "metadata": {},
   "source": [
    "## Comparison\n",
    "Comparison operators compare two values and return a boolean (`true` or `false`).\n",
    "\n",
    "| Operator | Description             | Example          | Evaluates As |\n",
    "|----------|-------------------------|------------------|--------------|\n",
    "| `>`      | Greater than            | `5 > 3`          | `true`       |\n",
    "| `<`      | Less than               | `5 < 3`          | `false`      |\n",
    "| `>=`     | Greater than or equal   | `5 >= 5`         | `true`       |\n",
    "| `<=`     | Less than or equal      | `3 <= 4`         | `true`       |\n",
    "| `===`    | Strict equality         | `5 === 5`        | `true`       |\n",
    "| `!==`    | Strict inequality       | `5 !== 3`        | `true`       |"
   ]
  },
  {
   "cell_type": "code",
   "execution_count": 2,
   "metadata": {},
   "outputs": [
    {
     "data": {
      "text/plain": [
       "\u001b[33mtrue\u001b[39m"
      ]
     },
     "execution_count": 2,
     "metadata": {},
     "output_type": "execute_result"
    }
   ],
   "source": [
    "// Comparison expressions example\n",
    "5 > 3; // true\n",
    "5 < 3; // false\n",
    "5 === 5; // true\n",
    "5 !== 3; // true"
   ]
  },
  {
   "cell_type": "markdown",
   "metadata": {},
   "source": [
    "## Arithmetic\n",
    "Arithmetic operators perform mathematical operations on numeric values.\n",
    "\n",
    "| Operator | Description         | Example         | Evaluates As |\n",
    "|----------|---------------------|-----------------|--------------|\n",
    "| `+`      | Addition            | `5 + 3`         | `8`          |\n",
    "| `-`      | Subtraction         | `10 - 4`        | `6`          |\n",
    "| `*`      | Multiplication      | `2 * 3`         | `6`          |\n",
    "| `/`      | Division            | `8 / 2`         | `4`          |\n",
    "| `%`      | Modulus (remainder) | `7 % 3`         | `1`          |\n",
    "| `**`     | Exponentiation      | `2 ** 3`        | `8`          |"
   ]
  },
  {
   "cell_type": "code",
   "execution_count": 3,
   "metadata": {},
   "outputs": [
    {
     "data": {
      "text/plain": [
       "\u001b[33m8\u001b[39m"
      ]
     },
     "execution_count": 3,
     "metadata": {},
     "output_type": "execute_result"
    }
   ],
   "source": [
    "// Arithmetic expressions example\n",
    "5 + 3; // 8\n",
    "10 - 4; // 6\n",
    "2 * 3; // 6\n",
    "8 / 2; // 4\n",
    "7 % 3; // 1\n",
    "2 ** 3; // 8"
   ]
  },
  {
   "cell_type": "markdown",
   "metadata": {},
   "source": [
    "## Order of Operations\n",
    "When writing complex expressions, TypeScript uses **operator precedence** to decide the order of evaluation. Operators with higher precedence are evaluated before those with lower precedence. If operators have the same precedence, **associativity** determines the order of evaluation.\n",
    "\n",
    "### Operator Precedence\n",
    "| Precedence | Operator         | Description          |\n",
    "|------------|------------------|----------------------|\n",
    "| Highest    | `()`             | Parentheses          |\n",
    "| 2nd        | `**`             | Exponentiation       |\n",
    "| 3rd        | `*`, `/`, `%`    | Multiplication, etc. |\n",
    "| Lowest     | `+`, `-`         | Addition, Subtraction|\n",
    "\n",
    "### Associativity\n",
    "- **Left-to-right**: Most operators (e.g., `+`, `-`, `*`, `/`).\n",
    "- **Right-to-left**: Assignment (`=`) and exponentiation (`**`).\n"
   ]
  },
  {
   "cell_type": "code",
   "execution_count": 4,
   "metadata": {},
   "outputs": [
    {
     "data": {
      "text/plain": [
       "\u001b[33m224\u001b[39m"
      ]
     },
     "execution_count": 4,
     "metadata": {},
     "output_type": "execute_result"
    }
   ],
   "source": [
    "2 ** 5 * (3 + 4);\n",
    "\n",
    "// (3 + 4) = 7\n",
    "// 2 ** 5 = 32\n",
    "// 32 * 7 = 224"
   ]
  }
 ],
 "metadata": {
  "kernelspec": {
   "display_name": "Deno",
   "language": "typescript",
   "name": "deno"
  },
  "language_info": {
   "codemirror_mode": "typescript",
   "file_extension": ".ts",
   "mimetype": "text/x.typescript",
   "name": "typescript",
   "nbconvert_exporter": "script",
   "pygments_lexer": "typescript",
   "version": "5.6.2"
  }
 },
 "nbformat": 4,
 "nbformat_minor": 2
}
