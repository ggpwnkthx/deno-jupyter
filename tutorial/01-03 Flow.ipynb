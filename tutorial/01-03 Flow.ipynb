{
 "cells": [
  {
   "cell_type": "markdown",
   "metadata": {},
   "source": [
    "# Flow\n",
    "\n",
    "## Conditional Statements\n",
    "\n",
    "These allow you to execute different blocks of code based on specific conditions.\n",
    "\n",
    "- `if`: Executes a block if the condition evaluates to true.\n",
    "- `else`: Provides an alternate block if the condition is false.\n",
    "- `switch`: Selects one of many code blocks to execute.\n",
    "- `case`: Defines a block in a `switch` statement.\n",
    "- `default`: Defines a fallback block in a `switch` statement.\n",
    "\n",
    "#### Syntax"
   ]
  },
  {
   "cell_type": "code",
   "execution_count": 1,
   "metadata": {},
   "outputs": [],
   "source": [
    "const userRole: string = \"admin\";\n",
    "\n",
    "// If-else example\n",
    "if (userRole === \"admin\") {\n",
    "  // Admin-specific actions\n",
    "} else if (userRole === \"user\") {\n",
    "  // User-specific actions\n",
    "} else {\n",
    "  // Guest or unknown role actions\n",
    "}\n",
    "\n",
    "// Switch-case example\n",
    "switch (userRole) {\n",
    "  case \"admin\":\n",
    "    // Admin actions\n",
    "    break;\n",
    "  case \"user\":\n",
    "    // User actions\n",
    "    break;\n",
    "  default:\n",
    "    // Default actions\n",
    "}"
   ]
  },
  {
   "cell_type": "markdown",
   "metadata": {},
   "source": [
    "## Loops\n",
    "\n",
    "These allow you to execute a block of code multiple times based on a condition or a specific range.\n",
    "\n",
    "- `for`: Iterates over a sequence (e.g., numbers, arrays).\n",
    "- `while`: Repeats as long as a condition is true.\n",
    "- `do`: Executes the block once before checking the condition.\n",
    "\n",
    "#### Syntax"
   ]
  },
  {
   "cell_type": "code",
   "execution_count": 2,
   "metadata": {},
   "outputs": [
    {
     "data": {
      "text/plain": [
       "\u001b[33m2\u001b[39m"
      ]
     },
     "execution_count": 2,
     "metadata": {},
     "output_type": "execute_result"
    }
   ],
   "source": [
    "// For loop example: Print numbers from 1 to 5\n",
    "for (let i: number = 1; i <= 5; i++) {\n",
    "  // i represents the current iteration\n",
    "}\n",
    "\n",
    "// While loop example: Count down from 5\n",
    "let countdown = 5;\n",
    "while (countdown > 0) {\n",
    "  countdown--;\n",
    "}\n",
    "\n",
    "// Do-while example: Always execute once\n",
    "let start = 0;\n",
    "do {\n",
    "  start++;\n",
    "} while (start < 3);"
   ]
  },
  {
   "cell_type": "markdown",
   "metadata": {},
   "source": [
    "## Loop Control\n",
    "\n",
    "Control the flow of loops with these keywords:\n",
    "\n",
    "- `break`: Exits the loop immediately.\n",
    "- `continue`: Skips the current iteration and moves to the next one.\n",
    "\n",
    "#### Syntax"
   ]
  },
  {
   "cell_type": "code",
   "execution_count": 3,
   "metadata": {},
   "outputs": [],
   "source": [
    "// Break example: Exit loop at a specific point\n",
    "for (let i: number = 0; i < 10; i++) {\n",
    "  if (i === 5) {\n",
    "    break; // Exit the loop when i is 5\n",
    "  }\n",
    "}\n",
    "\n",
    "// Continue example: Skip specific iterations\n",
    "for (let i: number = 0; i < 10; i++) {\n",
    "  if (i % 2 === 0) {\n",
    "    continue; // Skip even numbers\n",
    "  }\n",
    "}"
   ]
  }
 ],
 "metadata": {
  "kernelspec": {
   "display_name": "Deno",
   "language": "typescript",
   "name": "deno"
  },
  "language_info": {
   "codemirror_mode": "typescript",
   "file_extension": ".ts",
   "mimetype": "text/x.typescript",
   "name": "typescript",
   "nbconvert_exporter": "script",
   "pygments_lexer": "typescript",
   "version": "5.6.2"
  }
 },
 "nbformat": 4,
 "nbformat_minor": 2
}
