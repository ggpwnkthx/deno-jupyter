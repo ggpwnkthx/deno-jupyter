{
 "cells": [
  {
   "cell_type": "markdown",
   "metadata": {},
   "source": [
    "# Functions\n",
    "\n",
    "Functions are reusable blocks of code that perform specific tasks. They allow you to organize your program into smaller, manageable parts. They are kind of like a recipe: it takes inputs (called **parameters**), processes them, and may produce an output (called the **return value**). Functions can also perform tasks without returning anything.\n",
    "\n",
    "## Declaring a Function\n",
    "You declare a function using the `function` keyword, followed by the name of the function, parentheses `()` for parameters, and curly braces `{}` for the code block.\n",
    "\n",
    "### Syntax"
   ]
  },
  {
   "cell_type": "code",
   "execution_count": null,
   "metadata": {},
   "outputs": [],
   "source": [
    "function functionName(parameter1: boolean, parameter2: string): string {\n",
    "  return `${parameter2} is ${parameter1}`;\n",
    "}"
   ]
  },
  {
   "cell_type": "markdown",
   "metadata": {},
   "source": [
    "### Example"
   ]
  },
  {
   "cell_type": "code",
   "execution_count": null,
   "metadata": {},
   "outputs": [
    {
     "data": {
      "text/plain": [
       "\u001b[33m16\u001b[39m"
      ]
     },
     "execution_count": 2,
     "metadata": {},
     "output_type": "execute_result"
    }
   ],
   "source": [
    "function square(num: number): number {\n",
    "  return num * num;\n",
    "}\n",
    "\n",
    "square(4);"
   ]
  },
  {
   "cell_type": "markdown",
   "metadata": {},
   "source": [
    "## Input / Output\n",
    "\n",
    "- Parameters are the input values that a function accepts. These are defined inside the parentheses.\n",
    "- The return value is output of the function, specified using the `return` keyword.\n",
    "\n",
    "### Example\n",
    "Let's create a function that adds two numbers:"
   ]
  },
  {
   "cell_type": "code",
   "execution_count": null,
   "metadata": {},
   "outputs": [
    {
     "data": {
      "text/plain": [
       "\u001b[33m12\u001b[39m"
      ]
     },
     "execution_count": 3,
     "metadata": {},
     "output_type": "execute_result"
    }
   ],
   "source": [
    "function add(a: number, b: number): number {\n",
    "  return a + b;\n",
    "}\n",
    "\n",
    "add(5, 7);"
   ]
  },
  {
   "cell_type": "markdown",
   "metadata": {},
   "source": [
    "Functions that don't return a value simply omit the `return` statement:"
   ]
  },
  {
   "cell_type": "code",
   "execution_count": null,
   "metadata": {},
   "outputs": [],
   "source": [
    "function markAttendance(studentName: string, isPresent: boolean): void {\n",
    "  let attendanceRecord = studentName\n",
    "  if (isPresent) {\n",
    "    attendanceRecord = attendanceRecord + \" is present.\";\n",
    "    // Use attendanceRecord for further processing (e.g., storing in a list)\n",
    "  } else {\n",
    "    attendanceRecord = attendanceRecord + \" is absent.\";\n",
    "    // Handle the absence similarly\n",
    "  }\n",
    "}\n",
    "\n",
    "markAttendance(\"Charlie\", true)"
   ]
  },
  {
   "cell_type": "markdown",
   "metadata": {},
   "source": [
    "# Scope\n",
    "\n",
    "This refers to where variables are accessible within your code. There are three primary types of scope:\n",
    "\n",
    "## Global Scope\n",
    "Variables declared outside of any function or block. They are accessible everywhere."
   ]
  },
  {
   "cell_type": "code",
   "execution_count": null,
   "metadata": {},
   "outputs": [
    {
     "data": {
      "text/plain": [
       "\u001b[32m\"I am global and accessible here\"\u001b[39m"
      ]
     },
     "execution_count": 5,
     "metadata": {},
     "output_type": "execute_result"
    }
   ],
   "source": [
    "const globalVar = \"I am global\";\n",
    "\n",
    "function useGlobalVar(): string {\n",
    "  const localVar = globalVar + \" and accessible here\";\n",
    "  return localVar\n",
    "}\n",
    "\n",
    "// globalVar can be used anywhere\n",
    "useGlobalVar()\n",
    "const extendedGlobal = globalVar + \" is still available\";"
   ]
  },
  {
   "cell_type": "markdown",
   "metadata": {},
   "source": [
    "## Function Scope\n",
    "Variables declared inside a function. They are only accessible within that function."
   ]
  },
  {
   "cell_type": "code",
   "execution_count": null,
   "metadata": {},
   "outputs": [],
   "source": [
    "function calculateSquare(num: number): number {\n",
    "  const result = num * num; // result is only accessible within this function\n",
    "  return result;\n",
    "}\n",
    "\n",
    "// result cannot be used here\n",
    "// let doubledResult = result * 2; // This would throw an error"
   ]
  },
  {
   "cell_type": "markdown",
   "metadata": {},
   "source": [
    "## Block Scope\n",
    "Variables declared inside a block (e.g., within `{}`) using `let` or `const`. They are only accessible within that block."
   ]
  },
  {
   "cell_type": "code",
   "execution_count": 7,
   "metadata": {},
   "outputs": [],
   "source": [
    "if (true) {\n",
    "  const blockScopedVar = \"I exist only within this block\";\n",
    "}\n",
    "\n",
    "// blockScopedVar cannot be used here\n",
    "// let anotherVar = blockScopedVar; // This would throw an error"
   ]
  }
 ],
 "metadata": {
  "kernelspec": {
   "display_name": "Deno",
   "language": "typescript",
   "name": "deno"
  },
  "language_info": {
   "codemirror_mode": "typescript",
   "file_extension": ".ts",
   "mimetype": "text/x.typescript",
   "name": "typescript",
   "nbconvert_exporter": "script",
   "pygments_lexer": "typescript",
   "version": "5.6.2"
  }
 },
 "nbformat": 4,
 "nbformat_minor": 2
}
