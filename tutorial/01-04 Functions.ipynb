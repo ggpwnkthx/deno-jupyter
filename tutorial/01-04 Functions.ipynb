{
 "cells": [
  {
   "cell_type": "markdown",
   "metadata": {},
   "source": [
    "# Functions\n",
    "\n",
    "Functions are a cornerstone of programming, enabling code reuse and organization. In TypeScript, a **function** is a **code block** that can take input values (called **parameters**).\n",
    "\n",
    "There are three main ways to define functions:\n",
    "\n",
    "1. Named Functions\n",
    "2. Anonymous Functions (often assigned to variables)\n",
    "3. Arrow Functions\n",
    "\n",
    "## Named Functions\n",
    "\n",
    "A named function is declared using the `function` keyword, followed by the function name. This style is traditional in JavaScript and TypeScript.\n",
    "\n",
    "### Syntax\n",
    "```typescript\n",
    "function functionName(parameters: Type): ReturnType {\n",
    "  // code block\n",
    "}\n",
    "```"
   ]
  },
  {
   "cell_type": "code",
   "execution_count": 1,
   "metadata": {},
   "outputs": [
    {
     "data": {
      "text/plain": [
       "\u001b[33m7\u001b[39m"
      ]
     },
     "execution_count": 1,
     "metadata": {},
     "output_type": "execute_result"
    }
   ],
   "source": [
    "function add(a: number, b: number): number {\n",
    "  return a + b;\n",
    "}\n",
    "\n",
    "add(3, 4);"
   ]
  },
  {
   "cell_type": "markdown",
   "metadata": {},
   "source": [
    "Named functions are useful for defining reusable logic in a structured way. However, they are less flexible than other approaches because their names are fixed and may introduce naming conflicts.\n",
    "\n",
    "## Anonymous Functions\n",
    "\n",
    "An anonymous function does not have a name and is often assigned to a variable. These are sometimes called **function expressions**.\n",
    "\n",
    "### Syntax\n",
    "```typescript\n",
    "const variableName = function(parameters: Type): ReturnType {\n",
    "  // code block\n",
    "};\n",
    "```\n"
   ]
  },
  {
   "cell_type": "code",
   "execution_count": 2,
   "metadata": {},
   "outputs": [
    {
     "data": {
      "text/plain": [
       "\u001b[33m-1\u001b[39m"
      ]
     },
     "execution_count": 2,
     "metadata": {},
     "output_type": "execute_result"
    }
   ],
   "source": [
    "const subtract = function(a: number, b: number): number {\n",
    "  return a - b;\n",
    "};\n",
    "\n",
    "subtract(3, 4);"
   ]
  },
  {
   "cell_type": "markdown",
   "metadata": {},
   "source": [
    "Anonymous functions are often preferred over named function because assigning a function to a variable allows you to use it like any other variable.\n",
    "\n",
    "## Arrow Functions\n",
    "\n",
    "Arrow functions are a shorthand for anonymous functions. They are concise and commonly used in modern TypeScript.\n"
   ]
  },
  {
   "cell_type": "code",
   "execution_count": 3,
   "metadata": {},
   "outputs": [
    {
     "data": {
      "text/plain": [
       "\u001b[33m12\u001b[39m"
      ]
     },
     "execution_count": 3,
     "metadata": {},
     "output_type": "execute_result"
    }
   ],
   "source": [
    "const multiply = (a: number, b: number): number => {\n",
    "  return a * b;\n",
    "};\n",
    "\n",
    "multiply(3, 4);"
   ]
  },
  {
   "cell_type": "markdown",
   "metadata": {},
   "source": [
    "- The `=>` symbol defines the arrow function.\n",
    "- Arrow functions are typically used when you don't need a named function.\n",
    "- They are especially useful for short, simple functions.\n",
    "\n",
    "If the function body has just one expression, you can make it even shorter by omitting the curly braces `{}` and the `return` keyword. The value of the single expression is automatically returned:"
   ]
  },
  {
   "cell_type": "code",
   "execution_count": 4,
   "metadata": {},
   "outputs": [
    {
     "data": {
      "text/plain": [
       "\u001b[33m0.75\u001b[39m"
      ]
     },
     "execution_count": 4,
     "metadata": {},
     "output_type": "execute_result"
    }
   ],
   "source": [
    "const divide = (a: number, b: number): number => a / b;\n",
    "\n",
    "divide(3, 4);"
   ]
  },
  {
   "cell_type": "markdown",
   "metadata": {},
   "source": [
    "Generally speaking, using the arrow functions is preferred. However, it's important to note that they are not processed exactly the same way as named or anonymous functions. We'll get more into that later in the tutorial, though."
   ]
  }
 ],
 "metadata": {
  "kernelspec": {
   "display_name": "Deno",
   "language": "typescript",
   "name": "deno"
  },
  "language_info": {
   "codemirror_mode": "typescript",
   "file_extension": ".ts",
   "mimetype": "text/x.typescript",
   "name": "typescript",
   "nbconvert_exporter": "script",
   "pygments_lexer": "typescript",
   "version": "5.6.2"
  }
 },
 "nbformat": 4,
 "nbformat_minor": 2
}
