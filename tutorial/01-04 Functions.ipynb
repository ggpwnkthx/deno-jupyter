{
 "cells": [
  {
   "cell_type": "markdown",
   "metadata": {},
   "source": [
    "# Functions\n",
    "\n",
    "Functions are reusable blocks of code that perform specific tasks. They allow you to organize your program into smaller, manageable parts. They are kind of like a recipe: it takes inputs (called **parameters**), processes them, and may produce an output (called the **return value**). Functions can also perform tasks without returning anything.\n",
    "\n",
    "You declare a function using the `function` keyword, followed by the name of the function, parentheses `()` for parameters (input values), and curly braces `{}` for the code block."
   ]
  },
  {
   "cell_type": "code",
   "execution_count": 1,
   "metadata": {},
   "outputs": [],
   "source": [
    "function greet(name: string): string {\n",
    "  return `Hello, ${name}!`;\n",
    "}"
   ]
  },
  {
   "cell_type": "markdown",
   "metadata": {},
   "source": [
    "- `function` keyword: Indicates that we are defining a function.\n",
    "- `greet`: The name of the function. Choose descriptive names that reflect what the function does.\n",
    "- `(name: string)`: The parameter list. In this case, the function accepts one parameter named name of type string.\n",
    "- `: string`: The return type. This specifies that the function will return a value of type string.\n",
    "- `{}`: The function body. This contains the code that runs when the function is called.\n",
    "- `return` keyword: Specifies the output of the function."
   ]
  },
  {
   "cell_type": "markdown",
   "metadata": {},
   "source": [
    "## Input / Output\n",
    "\n",
    "- Parameters are the input values that a function accepts. These are defined inside the parentheses.\n",
    "- The return value is output of the function, specified using the `return` keyword.\n",
    "\n",
    "### Example\n",
    "Let's create a function that adds two numbers:"
   ]
  },
  {
   "cell_type": "code",
   "execution_count": 2,
   "metadata": {},
   "outputs": [
    {
     "data": {
      "text/plain": [
       "\u001b[33m12\u001b[39m"
      ]
     },
     "execution_count": 2,
     "metadata": {},
     "output_type": "execute_result"
    }
   ],
   "source": [
    "function add(a: number, b: number): number {\n",
    "  return a + b;\n",
    "}\n",
    "\n",
    "add(5, 7);"
   ]
  },
  {
   "cell_type": "markdown",
   "metadata": {},
   "source": [
    "Functions that don't return a value simply omit the `return` statement:"
   ]
  },
  {
   "cell_type": "code",
   "execution_count": 3,
   "metadata": {},
   "outputs": [],
   "source": [
    "function markAttendance(studentName: string, isPresent: boolean): void {\n",
    "  let attendanceRecord = studentName\n",
    "  if (isPresent) {\n",
    "    attendanceRecord = attendanceRecord + \" is present.\";\n",
    "    // Use attendanceRecord for further processing (e.g., storing in a list)\n",
    "  } else {\n",
    "    attendanceRecord = attendanceRecord + \" is absent.\";\n",
    "    // Handle the absence similarly\n",
    "  }\n",
    "}\n",
    "\n",
    "markAttendance(\"Charlie\", true)"
   ]
  }
 ],
 "metadata": {
  "kernelspec": {
   "display_name": "Deno",
   "language": "typescript",
   "name": "deno"
  },
  "language_info": {
   "codemirror_mode": "typescript",
   "file_extension": ".ts",
   "mimetype": "text/x.typescript",
   "name": "typescript",
   "nbconvert_exporter": "script",
   "pygments_lexer": "typescript",
   "version": "5.6.2"
  }
 },
 "nbformat": 4,
 "nbformat_minor": 2
}
