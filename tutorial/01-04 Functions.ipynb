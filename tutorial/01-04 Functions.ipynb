{
 "cells": [
  {
   "cell_type": "markdown",
   "metadata": {},
   "source": [
    "# Functions\n",
    "\n",
    "A **function** is a variable whose value is a **code block** that can also take input (called **parameters**) and provide output (called **return values**)."
   ]
  },
  {
   "cell_type": "code",
   "execution_count": 1,
   "metadata": {},
   "outputs": [],
   "source": [
    "// Assign a function to a variable\n",
    "const multiply = function(a: number, b: number): number {\n",
    "  return a * b;\n",
    "};\n",
    "\n",
    "// Use the variable to call the function\n",
    "const result = multiply(3, 4); // result now holds the value 12"
   ]
  },
  {
   "cell_type": "markdown",
   "metadata": {},
   "source": [
    "- `multiply` is a variable holding a function.\n",
    "- When you assign a function to a variable, you can use that variable to \"call\" the function with input values (e.g., `3` and `4`).\n",
    "- The function processes the input and \"returns\" the output, which you can assign to another variable (e.g., `result`).\n",
    "\n",
    "This style of creating functions is sometimes called an **anonymous function** because the function doesn't have its own name."
   ]
  },
  {
   "cell_type": "markdown",
   "metadata": {},
   "source": [
    "## Arrow Functions\n",
    "\n",
    "Arrow functions are a shorter way to write functions. They work just like anonymous functions, but they take up less space. Here's the same example using an arrow function:\n"
   ]
  },
  {
   "cell_type": "code",
   "execution_count": 2,
   "metadata": {},
   "outputs": [],
   "source": [
    "// Arrow function assigned to a variable\n",
    "const multiply = (a: number, b: number): number => {\n",
    "  return a * b;\n",
    "};\n",
    "\n",
    "// Call the function\n",
    "const result = multiply(3, 4); // result now holds the value 12"
   ]
  },
  {
   "cell_type": "markdown",
   "metadata": {},
   "source": [
    "- The `=>` symbol defines the arrow function.\n",
    "- Arrow functions are typically used when you don't need a named function.\n",
    "- They are especially useful for short, simple functions.\n",
    "\n",
    "If the function body has just one expression, you can make it even shorter by omitting the curly braces `{}` and the `return` keyword. The value of the single expression is automatically returned:"
   ]
  },
  {
   "cell_type": "code",
   "execution_count": 3,
   "metadata": {},
   "outputs": [],
   "source": [
    "// Shorter arrow function\n",
    "const multiply = (a: number, b: number): number => a * b;\n",
    "\n",
    "// Call the function\n",
    "const result = multiply(3, 4); // result now holds the value 12"
   ]
  },
  {
   "cell_type": "markdown",
   "metadata": {},
   "source": [
    "### Use Cases for Arrow Functions\n",
    "Arrow functions are often preferred for their simplicity, especially when defining small functions to assign to variables or pass as arguments to other functions (we'll see this later in the tutorial).\n",
    "\n",
    "Their concise syntax makes them easier to read and write."
   ]
  },
  {
   "cell_type": "markdown",
   "metadata": {},
   "source": [
    "## The `function` Keyword\n",
    "\n",
    "In TypeScript, you can also use the `function` keyword to define a function. This is how functions have been traditionally defined in JavaScript. However, **this style is generally avoided** in modern TypeScript because it takes up more space and can lead to confusion when combined with older JavaScript practices.\n",
    "\n",
    "Here's an example:\n"
   ]
  },
  {
   "cell_type": "code",
   "execution_count": 4,
   "metadata": {},
   "outputs": [],
   "source": [
    "function add(a: number, b: number): number {\n",
    "  return a + b;\n",
    "}\n",
    "const result = add(3, 4);"
   ]
  }
 ],
 "metadata": {
  "kernelspec": {
   "display_name": "Deno",
   "language": "typescript",
   "name": "deno"
  },
  "language_info": {
   "codemirror_mode": "typescript",
   "file_extension": ".ts",
   "mimetype": "text/x.typescript",
   "name": "typescript",
   "nbconvert_exporter": "script",
   "pygments_lexer": "typescript",
   "version": "5.6.2"
  }
 },
 "nbformat": 4,
 "nbformat_minor": 2
}
