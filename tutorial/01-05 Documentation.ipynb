{
 "cells": [
  {
   "cell_type": "markdown",
   "metadata": {},
   "source": [
    "# Documentation\n",
    "\n",
    "In programming, documentation refers to the practice of writing descriptive text within your code to help explain its purpose, functionality, and behavior. In TypeScript, documentation is typically added using **comments**. These comments are ignored by the TypeScript compiler but serve as valuable notes for developers reading or maintaining the code.\n",
    "\n",
    "Adding good documentation to your code makes it easier to understand, debug, and collaborate with others."
   ]
  },
  {
   "cell_type": "markdown",
   "metadata": {},
   "source": [
    "## Types of Comments\n",
    "\n",
    "TypeScript provides two main types of comments:\n",
    "\n",
    "1. **Single-Line Comments**\n",
    "2. **Multi-Line Comments**"
   ]
  },
  {
   "cell_type": "markdown",
   "metadata": {},
   "source": [
    "### Single-Line Comments\n",
    "\n",
    "Single-line comments begin with `//` and extend to the end of the current line. These are often used to describe a single line of code or leave quick notes.\n",
    "\n",
    "#### Syntax:\n",
    "```typescript\n",
    "// This is a single-line comment\n",
    "```\n",
    "\n",
    "#### Example:\n"
   ]
  },
  {
   "cell_type": "code",
   "execution_count": 1,
   "metadata": {},
   "outputs": [],
   "source": [
    "// Declaring a constant value for gravity\n",
    "const gravity = 9.8; // Acceleration due to gravity in m/s^2"
   ]
  },
  {
   "cell_type": "markdown",
   "metadata": {},
   "source": [
    "### Multi-Line Comments\n",
    "\n",
    "Multi-line comments begin with `/*` and end with `*/`. These are useful for providing more detailed explanations or when commenting out blocks of code temporarily.\n",
    "\n",
    "#### Syntax:\n",
    "```typescript\n",
    "/*\n",
    " This is a multi-line comment.\n",
    " It spans multiple lines.\n",
    "*/\n",
    "```\n",
    "\n",
    "#### Example:\n"
   ]
  },
  {
   "cell_type": "code",
   "execution_count": 2,
   "metadata": {},
   "outputs": [],
   "source": [
    "/*\n",
    "  Below is a constant value for the speed of light.\n",
    "  It is defined in meters per second (m/s).\n",
    "*/\n",
    "const speedOfLight = 299792458;"
   ]
  },
  {
   "cell_type": "markdown",
   "metadata": {},
   "source": [
    "### Best Practices for Comments\n",
    "\n",
    "1. **Be Clear and Concise**:\n",
    "   - Avoid vague comments like `// Calculate something`.\n",
    "   - Instead, write `// Calculate the area of a circle`.\n",
    "\n",
    "2. **Keep Comments Up-to-Date**:\n",
    "   - If the code changes, ensure that the comments are updated as well.\n",
    "\n",
    "3. **Avoid Over-Commenting**:\n",
    "   - Comments should explain *why* the code exists, not *what* it does (if the code is self-explanatory).\n",
    "   - For example, instead of writing `// Add 5 to x`, simply write clear code like `x += 5;`."
   ]
  },
  {
   "cell_type": "markdown",
   "metadata": {},
   "source": [
    "## Docstrings\n",
    "\n",
    "A **docstring** is a special type of multi-line comment used to describe the purpose and functionality of specific parts of your code. While docstrings are not natively enforced in TypeScript, they are a widely adopted practice for improving code readability.\n",
    "\n",
    "Docstrings often follow a structured format and provide more context than regular comments. For example, they may describe what a variable represents, how it is used, or its expected data type.\n",
    "\n",
    "#### Syntax:\n",
    "```typescript\n",
    "/**\n",
    " * This is a docstring.\n",
    " * It provides detailed documentation about the following code.\n",
    " */\n",
    "```\n",
    "\n",
    "#### Example:\n"
   ]
  },
  {
   "cell_type": "code",
   "execution_count": 3,
   "metadata": {},
   "outputs": [],
   "source": [
    "/**\n",
    " * Represents the gravitational constant.\n",
    " * This value is used to calculate the gravitational force between two objects.\n",
    " * Unit: m^3 kg^-1 s^-2\n",
    " */\n",
    "const gravitationalConstant = 6.67430e-11;"
   ]
  },
  {
   "cell_type": "markdown",
   "metadata": {},
   "source": [
    "### Why Use Docstrings?\n",
    "\n",
    "1. **Improves Readability**:\n",
    "   - Provides a clear understanding of the purpose and behavior of the code.\n",
    "\n",
    "2. **Encourages Good Practices**:\n",
    "   - Encourages developers to think critically about the code they are writing.\n",
    "\n",
    "3. **Supports Code Collaboration**:\n",
    "   - Helps other developers understand your code, especially in collaborative environments.\n",
    "\n",
    "### Docstring Best Practices\n",
    "\n",
    "1. **Be Specific**:\n",
    "   - Mention what the code does and why it is important.\n",
    "\n",
    "2. **Use Consistent Formatting**:\n",
    "   - Follow a consistent structure for all docstrings in your codebase.\n",
    "\n",
    "3. **Use for Important Code Elements**:\n",
    "   - Use docstrings for constants, configuration values, or sections of the code that are not self-explanatory."
   ]
  },
  {
   "cell_type": "markdown",
   "metadata": {},
   "source": [
    "### Summary\n",
    "\n",
    "Comments and docstrings are essential tools for writing readable and maintainable code. Use single-line comments for short notes, multi-line comments for detailed explanations, and docstrings for structured documentation.\n",
    "\n",
    "By adding meaningful documentation to your code, you can make it more understandable for both yourself and others."
   ]
  }
 ],
 "metadata": {
  "kernelspec": {
   "display_name": "Deno",
   "language": "typescript",
   "name": "deno"
  },
  "language_info": {
   "codemirror_mode": "typescript",
   "file_extension": ".ts",
   "mimetype": "text/x.typescript",
   "name": "typescript",
   "nbconvert_exporter": "script",
   "pygments_lexer": "typescript",
   "version": "5.6.2"
  }
 },
 "nbformat": 4,
 "nbformat_minor": 2
}
