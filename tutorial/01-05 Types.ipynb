{
 "cells": [
  {
   "cell_type": "markdown",
   "metadata": {},
   "source": [
    "# Types\n",
    "\n",
    "Types help describe the kind of data a program uses, such as numbers, text, or logical values like `true` or `false`. They describe the shape and behavior of data, helping the program (and the developer) understand how data should be used. By using types, TypeScript enables catching errors early and provides better tools like autocomplete and inline error checking.\n",
    "\n",
    "***Note***: Types are not a substitute for runtime checks. For example, TypeScript won't prevent invalid data received from APIs unless you validate it explicitly."
   ]
  },
  {
   "cell_type": "markdown",
   "metadata": {},
   "source": [
    "## Type Annotations vs. Type Inference\n",
    "\n",
    "In TypeScript, every value has a type. Sometimes, you can specify a type explicitly. Other times, TypeScript can figure out (or \"infer\") the type based on the value provided.\n",
    "\n",
    "### Explicit Type Annotation\n",
    "\n",
    "You can explicitly tell TypeScript what type a value is. This is useful when you want to be clear about the type of data you expect or when TypeScript cannot infer the type automatically."
   ]
  },
  {
   "cell_type": "code",
   "execution_count": 1,
   "metadata": {},
   "outputs": [
    {
     "data": {
      "text/plain": [
       "\u001b[33m8\u001b[39m"
      ]
     },
     "execution_count": 1,
     "metadata": {},
     "output_type": "execute_result"
    }
   ],
   "source": [
    "(3 + 5) as number; // TypeScript knows this is a number because of the annotation"
   ]
  },
  {
   "cell_type": "markdown",
   "metadata": {},
   "source": [
    "### Type Inference\n",
    "\n",
    "TypeScript can often determine the type of a value based on the data provided, without requiring an explicit annotation. This is called **type inference**.\n",
    "\n",
    "For example, if you add two numbers, TypeScript infers that the result is also a number:"
   ]
  },
  {
   "cell_type": "code",
   "execution_count": 2,
   "metadata": {},
   "outputs": [
    {
     "data": {
      "text/plain": [
       "\u001b[33m8\u001b[39m"
      ]
     },
     "execution_count": 2,
     "metadata": {},
     "output_type": "execute_result"
    }
   ],
   "source": [
    "(3 + 5); // TypeScript infers that this is a number based on the operation"
   ]
  },
  {
   "cell_type": "markdown",
   "metadata": {},
   "source": [
    "Type inference allows you to write shorter, more readable code while still benefiting from TypeScript's type checking."
   ]
  },
  {
   "cell_type": "markdown",
   "metadata": {},
   "source": [
    "### Type Annotation vs. Inference: When to Use Each\n",
    "\n",
    "1. **Use Explicit Annotations** when:\n",
    "   - The type is unclear or complex.\n",
    "   - You want to document your intent explicitly for other developers (or your future self).\n",
    "   - TypeScript cannot infer the type correctly.\n",
    "\n",
    "2. **Rely on Inference** when:\n",
    "   - The type is obvious and simple (e.g., arithmetic operations, basic literals).\n",
    "   - You want to write concise code without sacrificing safety.\n",
    "\n",
    "***Example***: Explicit vs. inferred types:\n",
    "- **Explicit**: `(3 + 5) as number;`\n",
    "- **Inferred**: `(3 + 5);`"
   ]
  },
  {
   "cell_type": "markdown",
   "metadata": {},
   "source": [
    "### Why Inference Matters\n",
    "\n",
    "Type inference reduces the need for boilerplate type annotations, while still ensuring safety. It makes code less verbose without sacrificing clarity."
   ]
  },
  {
   "cell_type": "markdown",
   "metadata": {},
   "source": [
    "## Primitives\n",
    "\n",
    "TypeScript supports several basic data types, known as *primitives*:\n",
    "\n",
    "| Type       | Description                                                                           |\n",
    "|------------|---------------------------------------------------------------------------------------|\n",
    "| `boolean`  | Represents true/false values.                                                        |\n",
    "| `number`   | Represents numeric values (integers and floating points).                            |\n",
    "| `string`   | Represents sequences of characters.                                                  |\n",
    "| `null`     | Represents the intentional absence of any value.                                     |\n",
    "| `undefined`| Represents an uninitialized value.                                                   |\n",
    "| `bigint`   | Represents integers of arbitrary precision.                                          |\n",
    "\n",
    "Below, we introduce how these primitives work."
   ]
  },
  {
   "cell_type": "markdown",
   "metadata": {},
   "source": [
    "### `boolean`\n",
    "\n",
    "The `boolean` type is used to represent `true` or `false` values. This type is commonly used for decision-making in code."
   ]
  },
  {
   "cell_type": "code",
   "execution_count": 3,
   "metadata": {},
   "outputs": [
    {
     "data": {
      "text/plain": [
       "\u001b[33mtrue\u001b[39m"
      ]
     },
     "execution_count": 3,
     "metadata": {},
     "output_type": "execute_result"
    }
   ],
   "source": [
    "true; // TypeScript infers that this is a boolean"
   ]
  },
  {
   "cell_type": "markdown",
   "metadata": {},
   "source": [
    "### `number`\n",
    "\n",
    "The `number` type is used for numeric values. TypeScript supports both integers and floating-point numbers."
   ]
  },
  {
   "cell_type": "code",
   "execution_count": 4,
   "metadata": {},
   "outputs": [
    {
     "data": {
      "text/plain": [
       "\u001b[33m6\u001b[39m"
      ]
     },
     "execution_count": 4,
     "metadata": {},
     "output_type": "execute_result"
    }
   ],
   "source": [
    "3 * 2; // TypeScript infers that this is a number"
   ]
  },
  {
   "cell_type": "markdown",
   "metadata": {},
   "source": [
    "### `string`\n",
    "\n",
    "The `string` type is used to represent textual data. Strings can be written using single quotes (`'`), double quotes (`\"`), or template literals (`` ` ``).\n",
    "\n",
    "Template literals allow embedding expressions within strings."
   ]
  },
  {
   "cell_type": "code",
   "execution_count": 5,
   "metadata": {},
   "outputs": [
    {
     "data": {
      "text/plain": [
       "\u001b[32m\"Hello, world!\"\u001b[39m"
      ]
     },
     "execution_count": 5,
     "metadata": {},
     "output_type": "execute_result"
    }
   ],
   "source": [
    "`Hello, world!`; // Inferred as a string"
   ]
  }
 ],
 "metadata": {
  "kernelspec": {
   "display_name": "Deno",
   "language": "typescript",
   "name": "deno"
  },
  "language_info": {
   "codemirror_mode": "typescript",
   "file_extension": ".ts",
   "mimetype": "text/x.typescript",
   "name": "typescript",
   "nbconvert_exporter": "script",
   "pygments_lexer": "typescript",
   "version": "5.6.2"
  }
 },
 "nbformat": 4,
 "nbformat_minor": 2
}
