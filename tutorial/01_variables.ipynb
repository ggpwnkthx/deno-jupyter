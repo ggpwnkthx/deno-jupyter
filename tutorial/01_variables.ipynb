{
 "cells": [
  {
   "cell_type": "markdown",
   "metadata": {},
   "source": [
    "# Introduction to TypeScript\n",
    "TypeScript is a typed superset of JavaScript that adds optional static types to the language. This feature allows developers to define the structure of data and catch errors early in the development process. In this tutorial, we'll explore variables, types, arrays, tuples, objects, functions, and classes in TypeScript. We'll start with the basics of variables and progressively delve into more complex concepts, providing meaningful examples and explanations along the way."
   ]
  },
  {
   "cell_type": "markdown",
   "metadata": {},
   "source": [
    "## Variables\n",
    "Variables are named storage locations that hold data values. They allow you to store information that can be referenced and manipulated in your programs.\n",
    "### Declaring Variables\n",
    "- `let`: Used for variables that can be reassigned.\n",
    "- `const`: Used for variables that should not be reassigned.\n",
    "- `var`: An older way to declare variables, generally avoided in modern TypeScript due to scope issues."
   ]
  },
  {
   "cell_type": "code",
   "execution_count": 1,
   "metadata": {},
   "outputs": [],
   "source": [
    "let age: number = 25;         // 'let' allows reassignment\n",
    "age = 26;                     // This is acceptable\n",
    "const name: string = \"Alice\"; // 'const' does not allow reassignment\n",
    "try {\n",
    "  name = \"Bob\";               // Error: Cannot assign to 'name' because it is a constant.\n",
    "} catch {}"
   ]
  }
 ],
 "metadata": {
  "kernelspec": {
   "display_name": "Deno",
   "language": "typescript",
   "name": "deno"
  },
  "language_info": {
   "codemirror_mode": "typescript",
   "file_extension": ".ts",
   "mimetype": "text/x.typescript",
   "name": "typescript",
   "nbconvert_exporter": "script",
   "pygments_lexer": "typescript",
   "version": "5.6.2"
  }
 },
 "nbformat": 4,
 "nbformat_minor": 2
}
