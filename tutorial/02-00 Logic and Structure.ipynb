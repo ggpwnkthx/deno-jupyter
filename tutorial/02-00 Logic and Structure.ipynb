{
 "cells": [
  {
   "cell_type": "markdown",
   "metadata": {},
   "source": [
    "# Programming Logic and Structures\n",
    "\n",
    "In this section, we will explore the core programming constructs that bring your code to life. You'll learn how to store and manipulate data, group statements into reusable blocks, and control the flow of execution in your programs. By the end of this section, you’ll have the skills to write dynamic and interactive TypeScript code.\n",
    "\n",
    "## Key Concepts\n",
    "\n",
    "1. **Keywords**:\n",
    "   - Reserved words in TypeScript with special meanings.\n",
    "   - Understand how to use keywords effectively to structure your code.\n",
    "\n",
    "2. **Variables**:\n",
    "   - How to declare variables using the keywords `let` and `const`, and understand the differences between them.\n",
    "   - The importance of types in variable declarations.\n",
    "\n",
    "3. **Code Blocks**:\n",
    "   - How to group multiple statements into a logical unit using curly braces `{}`.\n",
    "   - Understanding **scope** and how it affects variable visibility and lifetime.\n",
    "\n",
    "4. **Functions**:\n",
    "   - Writing reusable blocks of code with named functions, anonymous functions, and arrow functions.\n",
    "   - Understanding function parameters, return types, and scope within functions.\n",
    "\n",
    "5. **Flow Control**:\n",
    "   - Making decisions in your code with conditional statements like `if`, `else`, and `switch`.\n",
    "   - Using loops (`for`, `while`) to repeat actions and process collections.\n",
    "   - Controlling loop execution with `break` and `continue`.\n",
    "\n",
    "6. **Error Handling**:\n",
    "   - Managing unexpected errors gracefully using `try`, `catch`, `finally`, and `throw`.\n",
    "   - Writing robust programs that recover from runtime issues."
   ]
  }
 ],
 "metadata": {
  "kernelspec": {
   "display_name": "Deno",
   "language": "typescript",
   "name": "deno"
  },
  "language_info": {
   "codemirror_mode": "typescript",
   "file_extension": ".ts",
   "mimetype": "text/x.typescript",
   "name": "typescript",
   "nbconvert_exporter": "script",
   "pygments_lexer": "typescript",
   "version": "5.6.2"
  }
 },
 "nbformat": 4,
 "nbformat_minor": 2
}
