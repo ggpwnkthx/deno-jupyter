{
 "cells": [
  {
   "cell_type": "markdown",
   "metadata": {},
   "source": [
    "# Primative Types\n",
    "Types define the shape of data, specifying what kind of values can be stored and manipulated. TypeScript's type system helps catch errors during development by enforcing type constraints."
   ]
  },
  {
   "cell_type": "markdown",
   "metadata": {},
   "source": [
    "## `boolean`\n",
    "This type has two possible values: `true` or `false`. It's used for logical operations and control flow."
   ]
  },
  {
   "cell_type": "code",
   "execution_count": 1,
   "metadata": {},
   "outputs": [
    {
     "name": "stdout",
     "output_type": "stream",
     "text": [
      "true\n",
      "false\n"
     ]
    }
   ],
   "source": [
    "const isLoggedIn: boolean = true;\n",
    "console.log(isLoggedIn)\n",
    "const hasPremiumAccess: boolean = false;\n",
    "console.log(hasPremiumAccess)"
   ]
  },
  {
   "cell_type": "markdown",
   "metadata": {},
   "source": [
    "## `number`\n",
    "This type represents both integer and floating-point numbers. TypeScript, like JavaScript, uses the IEEE 754 double-precision 64-bit floating-point format."
   ]
  },
  {
   "cell_type": "code",
   "execution_count": 2,
   "metadata": {},
   "outputs": [],
   "source": [
    "let age: number = 30;\n",
    "let temperature: number = 98.6;\n",
    "let distanceTraveled: number = 5e3;   // Scientific notation\n",
    "let hexCode: number = 0xf00d;         // Hexadecimal\n",
    "let binarySequence: number = 0b1010;  // Binary\n",
    "let octal: number = 0o744;            // Octal"
   ]
  },
  {
   "cell_type": "markdown",
   "metadata": {},
   "source": [
    "## `bigint`\n",
    "This type is used for arbitrarily large integers. It can represent whole numbers larger than `2^53 - 1`, which is the largest whole number JavaScript can reliably represent with the `number` type.\n",
    "\n",
    "*Note: You cannot mix `bigint` and `number` types in operations.*"
   ]
  },
  {
   "cell_type": "code",
   "execution_count": 3,
   "metadata": {},
   "outputs": [
    {
     "name": "stdout",
     "output_type": "stream",
     "text": [
      "2469135780246913578024691357802469135780n\n"
     ]
    }
   ],
   "source": [
    "let bigIntVar: bigint = 1234567890123456789012345678901234567890n;\n",
    "let anotherBigInt = BigInt(\"1234567890123456789012345678901234567890\");\n",
    "console.log(bigIntVar + anotherBigInt);"
   ]
  },
  {
   "cell_type": "markdown",
   "metadata": {},
   "source": [
    "## `string`\n",
    "This type is used to represent textual data. You can use single quotes (`'`), double quotes (`\"`), or backticks (``` ` ```) for template literals.\n",
    "- `'`: Single quotes are often used for regular strings without any special functionality.\n",
    "- `\"`: Double quotes serve a similar purpose to single quotes and are largely interchangeable. They are often chosen for consistency, such as when single quotes are already being used within the text itself.\n",
    "- ``` ` ```: Known as template literals, backticks provide additional functionality. They support string interpolation, which allows you to insert variables directly into the string by wrapping them in `${}`, and also support multiline strings."
   ]
  },
  {
   "cell_type": "code",
   "execution_count": 4,
   "metadata": {},
   "outputs": [
    {
     "name": "stdout",
     "output_type": "stream",
     "text": [
      "Hello, Alice!\n",
      "Please read report_2024.pdf!\n"
     ]
    }
   ],
   "source": [
    "const firstName: string = \"Alice\";\n",
    "const fileName: string = \"report_2024.pdf\";\n",
    "const greeting: string = `Hello, ${firstName}!\n",
    "Please read ${fileName}!`;\n",
    "\n",
    "console.log(greeting)"
   ]
  },
  {
   "cell_type": "markdown",
   "metadata": {},
   "source": [
    "## `symbol`\n",
    "This type represents unique identifiers. Symbols are immutable and unique, often used to avoid property name collisions in objects."
   ]
  },
  {
   "cell_type": "code",
   "execution_count": 5,
   "metadata": {},
   "outputs": [
    {
     "name": "stdout",
     "output_type": "stream",
     "text": [
      "Red\n"
     ]
    }
   ],
   "source": [
    "const COLOR_RED: symbol = Symbol(\"red\");\n",
    "const COLOR_BLUE: symbol = Symbol(\"blue\");\n",
    "\n",
    "function getColorName(color: symbol): string {\n",
    "  switch (color) {\n",
    "    case COLOR_RED:\n",
    "      return \"Red\";\n",
    "    case COLOR_BLUE:\n",
    "      return \"Blue\";\n",
    "    default:\n",
    "      return \"Unknown\";\n",
    "  }\n",
    "}\n",
    "\n",
    "console.log(getColorName(COLOR_RED))"
   ]
  },
  {
   "cell_type": "markdown",
   "metadata": {},
   "source": [
    "## Unions\n",
    "You can use the Union syntax to allow a variable to hold more than one type and/or conditional typing."
   ]
  },
  {
   "cell_type": "code",
   "execution_count": 6,
   "metadata": {},
   "outputs": [
    {
     "name": "stdout",
     "output_type": "stream",
     "text": [
      "Hello\n",
      "42\n"
     ]
    }
   ],
   "source": [
    "let multiType: string | number;\n",
    "multiType = \"Hello\";\n",
    "console.log(multiType)\n",
    "multiType = 42;\n",
    "\n",
    "console.log(multiType);"
   ]
  },
  {
   "cell_type": "markdown",
   "metadata": {},
   "source": [
    "## `null`\n",
    "This type represents the intentional absence of any object value."
   ]
  },
  {
   "cell_type": "code",
   "execution_count": 7,
   "metadata": {},
   "outputs": [
    {
     "name": "stdout",
     "output_type": "stream",
     "text": [
      "1234n\n"
     ]
    }
   ],
   "source": [
    "function getID(): bigint | null {\n",
    "  if(true) {\n",
    "    return 1234n;\n",
    "  }\n",
    "  return null\n",
    "}\n",
    "\n",
    "console.log(getID())"
   ]
  },
  {
   "cell_type": "markdown",
   "metadata": {},
   "source": [
    "## `undefined`\n",
    "This type represents a variable that has been declared but not initialized with a value. It is also the default return value of functions that do not return anything."
   ]
  },
  {
   "cell_type": "code",
   "execution_count": 8,
   "metadata": {},
   "outputs": [
    {
     "name": "stdout",
     "output_type": "stream",
     "text": [
      "undefined\n",
      "undefined\n"
     ]
    }
   ],
   "source": [
    "let notInitialized: undefined;\n",
    "console.log(notInitialized);\n",
    "\n",
    "function doNothing(): undefined {\n",
    "  return;\n",
    "}\n",
    "console.log(doNothing())"
   ]
  },
  {
   "cell_type": "markdown",
   "metadata": {},
   "source": [
    "## Understanding `null` and `undefined`\n",
    "By default, `null` and `undefined` are subtypes of all other types. However, with the `--strictNullChecks` compiler option enabled, `null` and `undefined` are only assignable to `any`, `unknown`, `void`, and their respective types.\n",
    "\n",
    "Example with `--strictNullChecks` enabled:"
   ]
  },
  {
   "cell_type": "code",
   "execution_count": 9,
   "metadata": {},
   "outputs": [],
   "source": [
    "try {\n",
    "  let author: string = null;      // Error: Type 'null' is not assignable to type 'string'.\n",
    "  let age: number = undefined;  // Error: Type 'undefined' is not assignable to type 'number'.\n",
    "} catch {}\n",
    "\n",
    "let author: string | null = null;\n",
    "let age: number | undefined = undefined;"
   ]
  }
 ],
 "metadata": {
  "kernelspec": {
   "display_name": "Deno",
   "language": "typescript",
   "name": "deno"
  },
  "language_info": {
   "codemirror_mode": "typescript",
   "file_extension": ".ts",
   "mimetype": "text/x.typescript",
   "name": "typescript",
   "nbconvert_exporter": "script",
   "pygments_lexer": "typescript",
   "version": "5.6.2"
  }
 },
 "nbformat": 4,
 "nbformat_minor": 2
}
