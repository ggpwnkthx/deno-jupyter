{
 "cells": [
  {
   "cell_type": "markdown",
   "metadata": {},
   "source": [
    "## Code Blocks\n",
    "\n",
    "A **code block** is a group of statements enclosed in curly braces `{}`. Code blocks are more flexible than a single expressions because they can contain multiple expressions and statements, such as variable declarations and other logic.\n"
   ]
  },
  {
   "cell_type": "code",
   "execution_count": 1,
   "metadata": {},
   "outputs": [],
   "source": [
    "{\n",
    "  const a: number = 5;\n",
    "  const b: number = 3;\n",
    "  const combo = a + b;\n",
    "}"
   ]
  },
  {
   "cell_type": "markdown",
   "metadata": {},
   "source": [
    "### Nesting\n",
    "\n",
    "Code blocks can contain other code blocks inside them, forming **nested blocks**. This nesting creates **scopes**, which determine where variables can be accessed in your program.\n",
    "\n",
    "### Scope\n",
    "\n",
    "The **scope** of a variable is the region in your code where the variable is defined and can be used. When working with nested blocks, it's important to understand three kinds of scope:\n",
    "\n",
    "1. **Global Scope**: Variables declared outside any block or function are in the global scope. They are accessible from anywhere in the program.\n",
    "2. **Block Scope**: Variables declared inside a code block (`{}`) are only accessible within that block and its nested blocks.\n",
    "3. **Inner (Nested) Scope**: When one block is inside another, the inner block has access to variables from the outer block. However, the reverse is not true—variables declared in the inner block are not accessible in the outer block.\n"
   ]
  },
  {
   "cell_type": "code",
   "execution_count": 2,
   "metadata": {},
   "outputs": [],
   "source": [
    "// Global scope\n",
    "const globalVar = \"I am global\";\n",
    "{\n",
    "  // Outer block scope\n",
    "  const outerVar = \"I am in the outer block\";\n",
    "  {\n",
    "    // Inner block scope\n",
    "    const innerVar = \"I am in the inner block\";\n",
    "    // Access variables from inner and outer blocks\n",
    "    const message = `${globalVar}, ${outerVar}, and ${innerVar}`; // Produces: \"I am global, I am in the outer block, and I am in the inner block\"\n",
    "  }\n",
    "  // innerVar is NOT accessible here; this would cause an error:\n",
    "  // const errorMessage = `${outerVar} and ${innerVar}`;\n",
    "}\n",
    "// outerVar is NOT accessible here; this would cause an error:"
   ]
  }
 ],
 "metadata": {
  "kernelspec": {
   "display_name": "Deno",
   "language": "typescript",
   "name": "deno"
  },
  "language_info": {
   "codemirror_mode": "typescript",
   "file_extension": ".ts",
   "mimetype": "text/x.typescript",
   "name": "typescript",
   "nbconvert_exporter": "script",
   "pygments_lexer": "typescript",
   "version": "5.6.2"
  }
 },
 "nbformat": 4,
 "nbformat_minor": 2
}
