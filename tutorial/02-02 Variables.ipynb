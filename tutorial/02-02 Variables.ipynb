{
 "cells": [
  {
   "cell_type": "markdown",
   "metadata": {},
   "source": [
    "# Variables\n",
    "\n",
    "A variable is like a labeled container in which you store data. Variables allow programs to hold information and reuse it throughout the program.\n",
    "\n",
    "When you create a variable, you:\n",
    "- Give it a **name** so you can refer to it later.\n",
    "- Specify a **type** to define what kind of data it will hold.\n",
    "- Assign a **value**, which is the data stored inside the variable.\n",
    "\n",
    "## Syntax\n",
    "To declare variables in TypeScript, you use the keywords `let` or `const`:\n",
    "- `let`: Allows the variable to be reassigned later.\n",
    "- `const`: Makes the variable immutable (its value cannot be changed).\n",
    "\n",
    "***Note***: *You should know that `var` is also a keyword that exists for declaring variables, but don't use it. It has outdated rules that can cause bugs. It remains available to support legacy behavior from older JavaScript, but it’s use is problematic in modern TypeScript.*"
   ]
  },
  {
   "cell_type": "code",
   "execution_count": 1,
   "metadata": {},
   "outputs": [
    {
     "data": {
      "text/plain": [
       "\u001b[33m27\u001b[39m"
      ]
     },
     "execution_count": 1,
     "metadata": {},
     "output_type": "execute_result"
    }
   ],
   "source": [
    "let temperature: number = 25; // temperature can change\n",
    "temperature = 27; // value updated to 27\n",
    "\n",
    "const pi: number = 3.14159; // pi will never change"
   ]
  },
  {
   "cell_type": "markdown",
   "metadata": {},
   "source": [
    "- `temperature` and `pi` are variable names.\n",
    "- `number` specifies the type of data (numeric values).\n",
    "- `25` and `3.14159` are the initial values assigned to the variables.\n"
   ]
  },
  {
   "cell_type": "markdown",
   "metadata": {},
   "source": [
    "## Scope\n",
    "\n",
    "Code blocks can contain other code blocks inside them, forming **nested blocks**. This nesting creates **scopes**, which determine where variables can be accessed in your program. The **scope** of a variable is the region in your code where the variable is defined and can be used. When working with nested blocks, it's important to understand three kinds of scope:\n",
    "\n",
    "1. **Global Scope**: Variables declared outside any block or function are in the global scope. They are accessible from anywhere in the program.\n",
    "2. **Block Scope**: Variables declared inside a code block (`{}`) are only accessible within that block and its nested blocks.\n",
    "3. **Inner (Nested) Scope**: When one block is inside another, the inner block has access to variables from the outer block. However, the reverse is not true—variables declared in the inner block are not accessible in the outer block.\n"
   ]
  },
  {
   "cell_type": "code",
   "execution_count": 2,
   "metadata": {},
   "outputs": [],
   "source": [
    "// Global scope\n",
    "const globalVar = \"I am global\";\n",
    "{\n",
    "  // Outer block scope\n",
    "  const outerVar = \"I am in the outer block\";\n",
    "  {\n",
    "    // Inner block scope\n",
    "    const innerVar = \"I am in the inner block\";\n",
    "    // Access variables from inner and outer blocks\n",
    "    const message = `${globalVar}, ${outerVar}, and ${innerVar}`; // Produces: \"I am global, I am in the outer block, and I am in the inner block\"\n",
    "  }\n",
    "  // innerVar is NOT accessible here\n",
    "}\n",
    "// outerVar is NOT accessible here"
   ]
  }
 ],
 "metadata": {
  "kernelspec": {
   "display_name": "Deno",
   "language": "typescript",
   "name": "deno"
  },
  "language_info": {
   "codemirror_mode": "typescript",
   "file_extension": ".ts",
   "mimetype": "text/x.typescript",
   "name": "typescript",
   "nbconvert_exporter": "script",
   "pygments_lexer": "typescript",
   "version": "5.6.2"
  }
 },
 "nbformat": 4,
 "nbformat_minor": 2
}
