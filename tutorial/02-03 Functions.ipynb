{
 "cells": [
  {
   "cell_type": "markdown",
   "metadata": {},
   "source": [
    "# Functions\n",
    "\n",
    "**Functions** are a fundamental concept in programming that allow you to encapsulate and reuse logic efficiently. While code blocks (`{}`) allow you to group multiple statements together, functions extend this concept by accepting **parameters**, which act as placeholders for input values that can vary each time the function is executed. Functions also produce an output value, known as the **return** value, which is the result of the executed code block. This combination of dynamic input and reusable output makes functions highly versatile and essential for structuring and simplifying complex programs.\n",
    "\n",
    "## Anonymous Functions\n",
    "\n",
    "Anonymous functions are defined in-place and can used directly wherever any expression can be used, like in variable assignment statements.\n",
    "\n",
    "### Syntax\n",
    "```typescript\n",
    "const variableName = function(parameters: Type): ReturnType {\n",
    "  // Code block\n",
    "  return value; // Optional\n",
    "};\n",
    "```\n",
    "\n",
    "They're often assigned to variables, like this:"
   ]
  },
  {
   "cell_type": "code",
   "execution_count": 1,
   "metadata": {},
   "outputs": [],
   "source": [
    "const subtract = function(a: number, b: number): number {\n",
    "  const total = a - b;\n",
    "  return total;\n",
    "};"
   ]
  },
  {
   "cell_type": "markdown",
   "metadata": {},
   "source": [
    "## Calling Functions\n",
    "\n",
    "Once a function is defined, you can **call** it by writing its name followed by parentheses `()`. This action triggers the function's execution, evaluating its code block. Any data you want to pass to the function is provided inside the parentheses as **arguments**. These arguments are matched to the function's **parameters** based on their order in the function definition.\n",
    "\n",
    "### Syntax\n",
    "```typescript\n",
    "functionName(argument1, argument2, ...);\n",
    "```\n"
   ]
  },
  {
   "cell_type": "code",
   "execution_count": 2,
   "metadata": {},
   "outputs": [
    {
     "data": {
      "text/plain": [
       "\u001b[33m-1\u001b[39m"
      ]
     },
     "execution_count": 2,
     "metadata": {},
     "output_type": "execute_result"
    }
   ],
   "source": [
    "subtract(3, 4);"
   ]
  },
  {
   "cell_type": "markdown",
   "metadata": {},
   "source": [
    "## Arrow Functions\n",
    "\n",
    "Arrow functions are named for their use of the `=>` symbol, which provides a concise way to define functions. They are generally preferred in modern TypeScript due to their simplicity and predictable behavior. Unlike traditional functions, arrow functions do not create a new context when called. Instead, they operate within the existing scope where they were defined. This makes them particularly useful in scenarios like callbacks, where maintaining access to the outer environment's variables is essential. These characteristics will be explored further in later sections.\n",
    "\n",
    "### Syntax\n",
    "```typescript\n",
    "(parameters: Type): ReturnType => {\n",
    "  // Code block\n",
    "  return value; // Optional\n",
    "};\n",
    "```\n"
   ]
  },
  {
   "cell_type": "code",
   "execution_count": 3,
   "metadata": {},
   "outputs": [
    {
     "data": {
      "text/plain": [
       "\u001b[33m12\u001b[39m"
      ]
     },
     "execution_count": 3,
     "metadata": {},
     "output_type": "execute_result"
    }
   ],
   "source": [
    "const multiply = (a: number, b: number): number => {\n",
    "  const total = a * b;\n",
    "  return total;\n",
    "};\n",
    "\n",
    "multiply(3, 4);"
   ]
  },
  {
   "cell_type": "markdown",
   "metadata": {},
   "source": [
    "If the code block has just one expression, you can make it even shorter by omitting the curly braces `{}` and the `return` keyword. The value of the single expression is returned:"
   ]
  },
  {
   "cell_type": "code",
   "execution_count": 4,
   "metadata": {},
   "outputs": [
    {
     "data": {
      "text/plain": [
       "\u001b[33m0.75\u001b[39m"
      ]
     },
     "execution_count": 4,
     "metadata": {},
     "output_type": "execute_result"
    }
   ],
   "source": [
    "const divide = (a: number, b: number): number => a / b;\n",
    "\n",
    "divide(3, 4);"
   ]
  },
  {
   "cell_type": "markdown",
   "metadata": {},
   "source": [
    "## Named Functions and Hoisting\n",
    "\n",
    "We can use the `function` keyword followed by a name to create a reusable reference (similar to a variable). Due to a runtime concept called **hoisting**, it's important to make a distinction between named function statements and variable declaration statements where the value is an anonymous function.\n",
    "\n",
    "**Hoisting** refers to how the TypeScript runtime processes code before execution. It's like the way a teacher might organize a classroom before a lesson starts. Imagine you have notes scattered throughout your notebook, but before the class begins, the teacher arranges all the important definitions and declarations at the front so everyone knows they're there.\n",
    "\n",
    "### Syntax\n",
    "\n",
    "```typescript\n",
    "function functionName(parameter: Type): ReturnType {\n",
    "  // Code block\n",
    "  return value; // Optional\n",
    "}\n",
    "```\n",
    "\n",
    "The following example works just fine despite calling the function before it's declared in the code:\n"
   ]
  },
  {
   "cell_type": "code",
   "execution_count": 5,
   "metadata": {},
   "outputs": [
    {
     "data": {
      "text/plain": [
       "\u001b[33m9\u001b[39m"
      ]
     },
     "execution_count": 5,
     "metadata": {},
     "output_type": "execute_result"
    }
   ],
   "source": [
    "square(3);\n",
    "\n",
    "function square(a: number): number {\n",
    "  const total = a ** 2;\n",
    "  return total\n",
    "} "
   ]
  },
  {
   "cell_type": "markdown",
   "metadata": {},
   "source": [
    "The reason for this is because the runtime compiler \"hoists\" (or moves) all the named functions to the top of their containing scope before the other statements are evaluated.\n",
    "\n",
    "However, note that the following does **NOT** work:"
   ]
  },
  {
   "cell_type": "code",
   "execution_count": 6,
   "metadata": {},
   "outputs": [
    {
     "ename": "ReferenceError",
     "evalue": "cube is not defined",
     "output_type": "error",
     "traceback": [
      "Stack trace:",
      "ReferenceError: cube is not defined",
      "    at <anonymous>:1:22"
     ]
    }
   ],
   "source": [
    "cube(3);\n",
    "\n",
    "const cube = function(a: number): number {\n",
    "  const total = a ** 3;\n",
    "  return total\n",
    "}"
   ]
  },
  {
   "cell_type": "markdown",
   "metadata": {},
   "source": [
    "At runtime, the primary difference lies in when and how references are available:\n",
    "\n",
    "- Declared function references are immediately accessible throughout their scope due to hoisting, regardless of its position in the code.\n",
    "- Assigned variable references are accessible only after the statement has been evaluated, making them more localized and safer in modern coding practices."
   ]
  }
 ],
 "metadata": {
  "kernelspec": {
   "display_name": "Deno",
   "language": "typescript",
   "name": "deno"
  },
  "language_info": {
   "codemirror_mode": "typescript",
   "file_extension": ".ts",
   "mimetype": "text/x.typescript",
   "name": "typescript",
   "nbconvert_exporter": "script",
   "pygments_lexer": "typescript",
   "version": "5.6.2"
  }
 },
 "nbformat": 4,
 "nbformat_minor": 2
}
