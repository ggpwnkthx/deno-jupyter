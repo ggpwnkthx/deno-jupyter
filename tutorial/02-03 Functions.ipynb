{
 "cells": [
  {
   "cell_type": "markdown",
   "metadata": {},
   "source": [
    "# Functions\n",
    "\n",
    "Functions are essential in programming as they allow you to encapsulate and reuse logic. We previously discussed code blocks, which group multiple statements together inside `{}` braces. Functions take this concept further by allowing us to:\n",
    "\n",
    "- Assign the block to a variable\n",
    "- Provide input data (**parameters**)\n",
    "- Evaluate expressions inside the code block\n",
    "- **Return** dynamic output data based on the input data\n",
    "\n",
    "## Named Functions\n",
    "\n",
    "We can use the **function** keyword followed by a name to create a reusable reference (similar to a variable) that stores the code block as its value. This allows the function to be invoked using its name, just like referencing a variable. It essentially is a variable, but it's important to make a distinction due to a concept called **hoisting** that will be discussed at the end of this tutorial.\n",
    "\n",
    "### Syntax\n",
    "\n",
    "This style is traditional in JavaScript:\n",
    "```typescript\n",
    "function functionName(parameter: Type): ReturnType {\n",
    "  // Code block\n",
    "  return value; // Optional\n",
    "}\n",
    "```"
   ]
  },
  {
   "cell_type": "code",
   "execution_count": 1,
   "metadata": {},
   "outputs": [
    {
     "data": {
      "text/plain": [
       "\u001b[33m7\u001b[39m"
      ]
     },
     "execution_count": 1,
     "metadata": {},
     "output_type": "execute_result"
    }
   ],
   "source": [
    "function add(a: number, b: number): number {\n",
    "  const total = a + b;\n",
    "  return total;\n",
    "}\n",
    "\n",
    "add(3, 4);"
   ]
  },
  {
   "cell_type": "markdown",
   "metadata": {},
   "source": [
    "## Anonymous Functions\n",
    "\n",
    "Anonymous functions are function declaration expressions that don't include the name but the expression itself has a value. \n",
    "\n",
    "### Syntax\n",
    "```typescript\n",
    "function(parameters: Type): ReturnType {\n",
    "  // Code block\n",
    "  return value; // Optional\n",
    "};\n",
    "```\n"
   ]
  },
  {
   "cell_type": "markdown",
   "metadata": {},
   "source": [
    "They're often assigned to variables, like this:"
   ]
  },
  {
   "cell_type": "code",
   "execution_count": 2,
   "metadata": {},
   "outputs": [
    {
     "data": {
      "text/plain": [
       "\u001b[33m-1\u001b[39m"
      ]
     },
     "execution_count": 2,
     "metadata": {},
     "output_type": "execute_result"
    }
   ],
   "source": [
    "const subtract = function(a: number, b: number): number {\n",
    "  const total = a - b;\n",
    "  return total;\n",
    "};\n",
    "\n",
    "subtract(3, 4);"
   ]
  },
  {
   "cell_type": "markdown",
   "metadata": {},
   "source": [
    "Anonymous functions are often preferred over named functions because you can prevent naming conflicts by scoping functions to variables.\n",
    "\n",
    "## Arrow Functions\n",
    "\n",
    "Arrow functions are named for their use of the `=>` symbol as a keyword in thier delcaration statement. They're generally the preferred syntax in modern TypeScript because of thier concise syntax and avoids confusion with the `this` keyword (covered later).\n",
    "\n",
    "### Syntax\n",
    "```typescript\n",
    "(parameters: Type): ReturnType => {\n",
    "  // Code block\n",
    "  return value; // Optional\n",
    "};\n",
    "```\n"
   ]
  },
  {
   "cell_type": "code",
   "execution_count": 3,
   "metadata": {},
   "outputs": [
    {
     "data": {
      "text/plain": [
       "\u001b[33m12\u001b[39m"
      ]
     },
     "execution_count": 3,
     "metadata": {},
     "output_type": "execute_result"
    }
   ],
   "source": [
    "const multiply = (a: number, b: number): number => {\n",
    "  const total = a * b;\n",
    "  return total;\n",
    "};\n",
    "\n",
    "multiply(3, 4);"
   ]
  },
  {
   "cell_type": "markdown",
   "metadata": {},
   "source": [
    "If the code block has just one expression, you can make it even shorter by omitting the curly braces `{}` and the `return` keyword. The value of the single expression is returned:"
   ]
  },
  {
   "cell_type": "code",
   "execution_count": 4,
   "metadata": {},
   "outputs": [
    {
     "data": {
      "text/plain": [
       "\u001b[33m0.75\u001b[39m"
      ]
     },
     "execution_count": 4,
     "metadata": {},
     "output_type": "execute_result"
    }
   ],
   "source": [
    "const divide = (a: number, b: number): number => a / b;\n",
    "\n",
    "divide(3, 4);"
   ]
  },
  {
   "cell_type": "markdown",
   "metadata": {},
   "source": [
    "## Hoisting\n",
    "\n",
    "**Hoisting** refers to how the TypeScript runtime processes code before execution. It's like the way a teacher might organize a classroom before a lesson starts. Imagine you have notes scattered throughout your notebook, but before the class begins, the teacher arranges all the important definitions and declarations at the front so everyone knows they're there.\n",
    "\n",
    "For example, the following works just fine despite calling the function before it's declared in the code:\n"
   ]
  },
  {
   "cell_type": "code",
   "execution_count": 5,
   "metadata": {},
   "outputs": [
    {
     "data": {
      "text/plain": [
       "\u001b[33m9\u001b[39m"
      ]
     },
     "execution_count": 5,
     "metadata": {},
     "output_type": "execute_result"
    }
   ],
   "source": [
    "square(3);\n",
    "\n",
    "function square(a: number): number {\n",
    "  const total = a ** 2;\n",
    "  return total\n",
    "} "
   ]
  },
  {
   "cell_type": "markdown",
   "metadata": {},
   "source": [
    "The reason for this is because the runtime \"hoists\" or moves all the named functions to the top of their containing scope (like a page or a chapter) before the code actually runs.\n",
    "\n",
    "However, note that the following does **NOT** work:"
   ]
  },
  {
   "cell_type": "code",
   "execution_count": 6,
   "metadata": {},
   "outputs": [
    {
     "ename": "ReferenceError",
     "evalue": "cube is not defined",
     "output_type": "error",
     "traceback": [
      "Stack trace:",
      "ReferenceError: cube is not defined",
      "    at <anonymous>:1:22"
     ]
    }
   ],
   "source": [
    "cube(3);\n",
    "\n",
    "const cube = function(a: number): number {\n",
    "  const total = a ** 3;\n",
    "  return total\n",
    "}"
   ]
  },
  {
   "cell_type": "markdown",
   "metadata": {},
   "source": [
    "At runtime, the primary difference lies in when and how references are available:\n",
    "\n",
    "- Declared function references are immediately accessible throughout their scope due to hoisting, regardless of its position in the code.\n",
    "- Assigned variable references are accessible only after the statement has been evaluated, making them more localized and safer in modern coding practices."
   ]
  }
 ],
 "metadata": {
  "kernelspec": {
   "display_name": "Deno",
   "language": "typescript",
   "name": "deno"
  },
  "language_info": {
   "codemirror_mode": "typescript",
   "file_extension": ".ts",
   "mimetype": "text/x.typescript",
   "name": "typescript",
   "nbconvert_exporter": "script",
   "pygments_lexer": "typescript",
   "version": "5.6.2"
  }
 },
 "nbformat": 4,
 "nbformat_minor": 2
}
