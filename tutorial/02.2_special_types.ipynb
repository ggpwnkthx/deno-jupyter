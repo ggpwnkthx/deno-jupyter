{
 "cells": [
  {
   "cell_type": "markdown",
   "metadata": {},
   "source": [
    "# Special Types\n",
    "While not primitive types, the following are fundamental to TypeScript's type system:\n",
    "## `any`\n",
    "Represents any type. It disables type checking for that variable, and it should be avoided when possible. Typically it's only used when migrating JavaScript codebases to TypeScript incrementally."
   ]
  },
  {
   "cell_type": "code",
   "execution_count": 1,
   "metadata": {},
   "outputs": [
    {
     "name": "stdout",
     "output_type": "stream",
     "text": [
      "Could be a string\n",
      "true\n"
     ]
    }
   ],
   "source": [
    "let anything: any = 4;\n",
    "anything = \"Could be a string\";\n",
    "console.log(anything);\n",
    "anything = true; // Now it's a boolean\n",
    "console.log(anything);"
   ]
  },
  {
   "cell_type": "markdown",
   "metadata": {},
   "source": [
    "## `unknown`\n",
    "Similar to `any`, but safer because you cannot perform operations on an `unknown` type without first asserting its type."
   ]
  },
  {
   "cell_type": "code",
   "execution_count": 2,
   "metadata": {},
   "outputs": [
    {
     "name": "stdout",
     "output_type": "stream",
     "text": [
      "MAYBE A STRING\n"
     ]
    }
   ],
   "source": [
    "let notSure: unknown = 4;\n",
    "notSure = \"Maybe a string\";\n",
    "if (typeof notSure === \"string\") {\n",
    "  console.log(notSure.toUpperCase());\n",
    "}"
   ]
  },
  {
   "cell_type": "markdown",
   "metadata": {},
   "source": [
    "## `void`\n",
    "Represents the absence of any type. Commonly used as the return type of functions that do not return a value."
   ]
  },
  {
   "cell_type": "code",
   "execution_count": 3,
   "metadata": {},
   "outputs": [
    {
     "name": "stdout",
     "output_type": "stream",
     "text": [
      "Hello, World!\n"
     ]
    }
   ],
   "source": [
    "function logMessage(message: string): void {\n",
    "  console.log(message);\n",
    "}\n",
    "logMessage(\"Hello, World!\");"
   ]
  },
  {
   "cell_type": "markdown",
   "metadata": {},
   "source": [
    "## `never`\n",
    "Represents the type of values that never occur. For functions that always throw an error or never return."
   ]
  },
  {
   "cell_type": "code",
   "execution_count": 4,
   "metadata": {},
   "outputs": [
    {
     "name": "stdout",
     "output_type": "stream",
     "text": [
      "Error: Oops! It broke.\n",
      "    at throwError (<anonymous>:2:9)\n",
      "    at <anonymous>:5:3\n"
     ]
    }
   ],
   "source": [
    "function throwError(errorMsg: string): never {\n",
    "  throw new Error(errorMsg);\n",
    "}\n",
    "try {\n",
    "  throwError(\"Oops! It broke.\");\n",
    "} catch (e) {\n",
    "  console.log(e)\n",
    "}"
   ]
  }
 ],
 "metadata": {
  "kernelspec": {
   "display_name": "Deno",
   "language": "typescript",
   "name": "deno"
  },
  "language_info": {
   "codemirror_mode": "typescript",
   "file_extension": ".ts",
   "mimetype": "text/x.typescript",
   "name": "typescript",
   "nbconvert_exporter": "script",
   "pygments_lexer": "typescript",
   "version": "5.6.2"
  }
 },
 "nbformat": 4,
 "nbformat_minor": 2
}
