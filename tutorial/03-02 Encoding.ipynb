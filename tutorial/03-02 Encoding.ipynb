{
 "cells": [
  {
   "cell_type": "markdown",
   "metadata": {},
   "source": [
    "# Encoding\n",
    "\n",
    "In TypeScript, primitive types are the foundation for building and managing data. To truly understand how TypeScript works with data, it's essential to explore **encoding** and how it relate to variables.\n",
    "\n",
    "All data is a sequences of bits (`0`s and `1`s). The **type** of data determines how these bits should be interpreted."
   ]
  },
  {
   "cell_type": "markdown",
   "metadata": {},
   "source": [
    "## `boolean`\n",
    "\n",
    "- Represents **true** or **false** values.\n",
    "- Stored as a single bit (`0` for `false`, `1` for `true`), though padded to 8 bits for byte alignment.\n",
    "\n",
    "`true` -> `00000001`"
   ]
  },
  {
   "cell_type": "markdown",
   "metadata": {},
   "source": [
    "## `string`\n",
    "\n",
    "- Represents sequences of characters, encoded using **UTF-16**.\n",
    "- Each character typically requires 2 bytes (16 bits).\n",
    "- Characters outside the Basic Multilingual Plane use **surrogate pairs** (4 bytes).\n",
    "\n",
    "`'Hello'` -> \n",
    "```plaintext\n",
    "  H → `01001000`\n",
    "  e → `01100101`\n",
    "  l → `01101100`\n",
    "  l → `01101100`\n",
    "  o → `01101111`\n",
    "  ```"
   ]
  },
  {
   "cell_type": "markdown",
   "metadata": {},
   "source": [
    "## `number`\n",
    "\n",
    "- Represents **numeric values**, including integers and floating-point numbers.\n",
    "- Encoded using IEEE 754 format (64 bits):\n",
    "  - **1 bit** for the sign (positive/negative).\n",
    "  - **11 bits** for the exponent.\n",
    "  - **52 bits** for the mantissa.\n",
    "\n",
    "`123` -> `0 10000000101 1110110000000000000000000000000000000000000000000000`"
   ]
  },
  {
   "cell_type": "markdown",
   "metadata": {},
   "source": [
    "## `bigint`\n",
    "\n",
    "Unlike `number`, which has a fixed size, `bigint` allows for integers of **arbitrary precision**. Its encoding uses multiple chunks of memory to store large values.\n",
    "\n",
    "### Memory Details:\n",
    "- Metadata is stored to manage the value:\n",
    "  - **Type tag:** Identifies it as `bigint`.\n",
    "  - **Sign bit:** Indicates positive (`0`) or negative (`1`).\n",
    "  - **Chunk count:** Number of memory blocks allocated.\n",
    "  - **Pointer:** Address of the first chunk of data.\n",
    "- Actual data spans multiple memory locations.\n",
    "\n",
    "### Example Value: `987654321987654321n`\n",
    "- Metadata:\n",
    "  - Type tag: `BigInt`\n",
    "  - Sign: `0` (positive)\n",
    "  - Chunks: `6`\n",
    "  - Pointer: `104` (points to the first data chunk).\n",
    "- Data:\n",
    "  `11011011 00100101 10101101 10111111 10011011 11000101`\n",
    "\n",
    "This level of complexity is abstracted by TypeScript, letting developers focus on solving problems instead of managing low-level details."
   ]
  }
 ],
 "metadata": {
  "kernelspec": {
   "display_name": "Deno",
   "language": "typescript",
   "name": "deno"
  },
  "language_info": {
   "codemirror_mode": "typescript",
   "file_extension": ".ts",
   "mimetype": "text/x.typescript",
   "name": "typescript",
   "nbconvert_exporter": "script",
   "pygments_lexer": "typescript",
   "version": "5.6.2"
  }
 },
 "nbformat": 4,
 "nbformat_minor": 2
}
