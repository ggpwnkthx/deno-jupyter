{
 "cells": [
  {
   "cell_type": "markdown",
   "metadata": {},
   "source": [
    "# Objects\n",
    "\n",
    "In the previous lesson, we learned about **tuples**, which are fixed-length collections of values where each position has a specific type. Tuples are great for simple, structured data where the order and type of elements are fixed, such as coordinates or quiz questions.\n",
    "\n",
    "However, as your programs grow in complexity, you might need a more flexible and descriptive way to group related data. This is where **objects** shine.\n",
    "\n",
    "Unlike tuples, objects allow you to give meaningful names (keys) to each piece of data (value). For example, instead of referring to `point[0]` or `point[1]` in a tuple, you can use `point.x` or `point.y` in an object, which makes your code more readable and easier to maintain.\n",
    "\n",
    "### Key Differences Between Tuples and Objects\n",
    "| Feature       | Tuple                                    | Object                                  |\n",
    "|---------------|-----------------------------------------|-----------------------------------------|\n",
    "| **Structure** | Fixed number of elements, ordered       | Key-value pairs, unordered              |\n",
    "| **Access**    | By position/index (e.g., `tuple[0]`)    | By key (e.g., `object.key`)             |\n",
    "| **Use Case**  | Simple, structured data                | Flexible, descriptive data              |\n",
    "\n",
    "For instance, consider representing a **book**:\n",
    "- A tuple might look like this: `[\"The Great Gatsby\", \"F. Scott Fitzgerald\", 180]`. Here, you must remember what each position represents.\n",
    "- An object would look like this: `{ title: \"The Great Gatsby\", author: \"F. Scott Fitzgerald\", numberOfPages: 180 }`. Here, each piece of data has a descriptive label.\n",
    "\n",
    "In this lesson, we'll explore how to define, access, and manipulate objects in TypeScript, along with how to use the `type` keyword to define object shapes."
   ]
  },
  {
   "cell_type": "markdown",
   "metadata": {},
   "source": [
    "## `type`\n",
    "\n",
    "To make our code more robust, we can define the shape of objects using the `type` keyword. This allows TypeScript to enforce the structure of objects and catch errors early.\n",
    "\n",
    "For example, we can define a `Book` type to ensure all book objects have the correct properties:"
   ]
  },
  {
   "cell_type": "code",
   "execution_count": 1,
   "metadata": {},
   "outputs": [
    {
     "data": {
      "text/plain": [
       "{ title: \u001b[32m\"1984\"\u001b[39m, author: \u001b[32m\"George Orwell\"\u001b[39m, numberOfPages: \u001b[33m328\u001b[39m }"
      ]
     },
     "execution_count": 1,
     "metadata": {},
     "output_type": "execute_result"
    }
   ],
   "source": [
    "type Book = {\n",
    "  title: string;\n",
    "  author: string;\n",
    "  numberOfPages: number;\n",
    "};\n",
    "\n",
    "// Creating a book object that conforms to the Book type\n",
    "const newBook: Book = {\n",
    "  title: '1984',\n",
    "  author: 'George Orwell',\n",
    "  numberOfPages: 328,\n",
    "};\n",
    "\n",
    "newBook;"
   ]
  },
  {
   "cell_type": "markdown",
   "metadata": {},
   "source": [
    "## Properties\n",
    "\n",
    "You can access properties of an object using dot notation (`.`) or bracket notation (`[]`). To update a property, simply assign a new value to it:"
   ]
  },
  {
   "cell_type": "code",
   "execution_count": 2,
   "metadata": {},
   "outputs": [
    {
     "data": {
      "text/plain": [
       "\u001b[32m\"1984\"\u001b[39m"
      ]
     },
     "execution_count": 2,
     "metadata": {},
     "output_type": "execute_result"
    }
   ],
   "source": [
    "newBook.title;"
   ]
  },
  {
   "cell_type": "code",
   "execution_count": 3,
   "metadata": {},
   "outputs": [
    {
     "data": {
      "text/plain": [
       "\u001b[33m328\u001b[39m"
      ]
     },
     "execution_count": 3,
     "metadata": {},
     "output_type": "execute_result"
    }
   ],
   "source": [
    "newBook[\"numberOfPages\"];"
   ]
  },
  {
   "cell_type": "markdown",
   "metadata": {},
   "source": [
    "You can change the value assigned to a property, or create new properties, just like any other variable."
   ]
  },
  {
   "cell_type": "code",
   "execution_count": 4,
   "metadata": {},
   "outputs": [
    {
     "data": {
      "text/plain": [
       "{\n",
       "  title: \u001b[32m\"1984\"\u001b[39m,\n",
       "  author: \u001b[32m\"George Orwell\"\u001b[39m,\n",
       "  numberOfPages: \u001b[33m380\u001b[39m,\n",
       "  options: { edition: \u001b[32m\"3rd\"\u001b[39m, typeFace: \u001b[32m\"san serif\"\u001b[39m }\n",
       "}"
      ]
     },
     "execution_count": 4,
     "metadata": {},
     "output_type": "execute_result"
    }
   ],
   "source": [
    "newBook.numberOfPages = 380;\n",
    "newBook.options = {\n",
    "  edition: \"3rd\",\n",
    "  typeFace: \"san serif\"\n",
    "};\n",
    "\n",
    "newBook;"
   ]
  },
  {
   "cell_type": "markdown",
   "metadata": {},
   "source": [
    "You can remove a property from an object using the `delete` operator. Be cautious, as this may lead to unexpected behavior if other parts of your program depend on the deleted property."
   ]
  },
  {
   "cell_type": "code",
   "execution_count": 5,
   "metadata": {},
   "outputs": [
    {
     "data": {
      "text/plain": [
       "{ title: \u001b[32m\"1984\"\u001b[39m, author: \u001b[32m\"George Orwell\"\u001b[39m, numberOfPages: \u001b[33m380\u001b[39m }"
      ]
     },
     "execution_count": 5,
     "metadata": {},
     "output_type": "execute_result"
    }
   ],
   "source": [
    "delete newBook.options; // Remove the author property\n",
    "newBook;"
   ]
  },
  {
   "cell_type": "markdown",
   "metadata": {},
   "source": [
    "## Methods\n",
    "\n",
    "Objects can also contain functions called **methods**. Methods allow objects to perform actions or calculations related to their data. Inside a method, the `this` keyword refers to the object it belongs to.\n",
    "\n",
    "Let's add a method to the `Book` type that prints a short description of the book:"
   ]
  },
  {
   "cell_type": "code",
   "execution_count": 6,
   "metadata": {},
   "outputs": [
    {
     "data": {
      "text/plain": [
       "\u001b[32m\"'1984' by George Orwell has 350 pages.\"\u001b[39m"
      ]
     },
     "execution_count": 6,
     "metadata": {},
     "output_type": "execute_result"
    }
   ],
   "source": [
    "type BookWithMethod = {\n",
    "  title: string;\n",
    "  author: string;\n",
    "  numberOfPages: number;\n",
    "  getSummary: () => string;\n",
    "};\n",
    "\n",
    "const advancedBook: BookWithMethod = {\n",
    "  title: '1984',\n",
    "  author: 'George Orwell',\n",
    "  numberOfPages: 350,\n",
    "  getSummary: function () {\n",
    "    return `'${this.title}' by ${this.author} has ${this.numberOfPages} pages.`;\n",
    "  }\n",
    "};\n",
    "\n",
    "advancedBook.getSummary();"
   ]
  }
 ],
 "metadata": {
  "kernelspec": {
   "display_name": "Deno",
   "language": "typescript",
   "name": "deno"
  },
  "language_info": {
   "codemirror_mode": "typescript",
   "file_extension": ".ts",
   "mimetype": "text/x.typescript",
   "name": "typescript",
   "nbconvert_exporter": "script",
   "pygments_lexer": "typescript",
   "version": "5.6.2"
  }
 },
 "nbformat": 4,
 "nbformat_minor": 2
}
