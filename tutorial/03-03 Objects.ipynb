{
 "cells": [
  {
   "cell_type": "markdown",
   "metadata": {},
   "source": [
    "# Objects\n",
    "\n",
    "Objects are a type of tool that allows you to group related data and behaviors into a single, structured unit. Objects are made up of **key-value pairs**, where the keys are descriptive names and the values are data or functions associated with those keys.\n",
    "\n",
    "## Instantiation\n",
    "\n",
    "For example, consider representing a book. You can use an object to group all relevant details like title, author, and page count into a single entity:\n"
   ]
  },
  {
   "cell_type": "code",
   "execution_count": 1,
   "metadata": {},
   "outputs": [
    {
     "data": {
      "text/plain": [
       "{ title: \u001b[32m\"1984\"\u001b[39m, author: \u001b[32m\"George Orwell\"\u001b[39m, numberOfPages: \u001b[33m328\u001b[39m }"
      ]
     },
     "execution_count": 1,
     "metadata": {},
     "output_type": "execute_result"
    }
   ],
   "source": [
    "const book = {\n",
    "  title: \"1984\",\n",
    "  author: \"George Orwell\",\n",
    "  numberOfPages: 328\n",
    "};\n",
    "book;"
   ]
  },
  {
   "cell_type": "markdown",
   "metadata": {},
   "source": [
    "\n",
    "In this example, `book` is an object with three properties: `title`, `author`, and `numberOfPages`.\n",
    "\n",
    "## Defining Object Shapes with `type`\n",
    "\n",
    "To enforce a consistent structure for objects, you can define their shape using the `type` keyword. This ensures that objects you create conform to the specified structure and helps TypeScript catch errors at compile time.\n",
    "\n",
    "Here’s how you can define a `Book` type:"
   ]
  },
  {
   "cell_type": "code",
   "execution_count": 2,
   "metadata": {},
   "outputs": [],
   "source": [
    "type Book = {\n",
    "  title: string;\n",
    "  author: string;\n",
    "  numberOfPages: number;\n",
    "};\n",
    "\n",
    "// Example of an object conforming to the Book type\n",
    "const myBook: Book = {\n",
    "  title: \"1984\",\n",
    "  author: \"George Orwell\",\n",
    "  numberOfPages: 328\n",
    "};"
   ]
  },
  {
   "cell_type": "markdown",
   "metadata": {},
   "source": [
    "## Properties\n",
    "\n",
    "You can access an object's **properties** using dot `.` notation or bracket `[]` notation. To update a property, assign a new value to it using the same notation."
   ]
  },
  {
   "cell_type": "code",
   "execution_count": 3,
   "metadata": {},
   "outputs": [
    {
     "data": {
      "text/plain": [
       "\u001b[33m350\u001b[39m"
      ]
     },
     "execution_count": 3,
     "metadata": {},
     "output_type": "execute_result"
    }
   ],
   "source": [
    "// Accessing properties\n",
    "const title = myBook.title; // '1984'\n",
    "const pages = myBook[\"numberOfPages\"]; // 328\n",
    "\n",
    "// Modifying a property\n",
    "myBook.numberOfPages = 350;"
   ]
  },
  {
   "cell_type": "markdown",
   "metadata": {},
   "source": [
    "You can add new properties to an object or remove existing ones. Adding new properties dynamically can be useful, but be cautious as it may lead to unexpected results if not properly managed.\n"
   ]
  },
  {
   "cell_type": "code",
   "execution_count": 4,
   "metadata": {},
   "outputs": [
    {
     "data": {
      "text/plain": [
       "\u001b[33mtrue\u001b[39m"
      ]
     },
     "execution_count": 4,
     "metadata": {},
     "output_type": "execute_result"
    }
   ],
   "source": [
    "// Adding a new property\n",
    "myBook.genre = \"Dystopian\";\n",
    "\n",
    "// Removing a property\n",
    "delete myBook.genre;"
   ]
  },
  {
   "cell_type": "markdown",
   "metadata": {},
   "source": [
    "## Methods\n",
    "\n",
    "An object can also contain functions as its properties. These functions are called **methods** and allow the object to perform actions or calculations related to its data. Within a method, you can use the `this` keyword to refer to the object itself."
   ]
  },
  {
   "cell_type": "code",
   "execution_count": 5,
   "metadata": {},
   "outputs": [
    {
     "data": {
      "text/plain": [
       "\u001b[32m\"1984 by George Orwell has 328 pages.\"\u001b[39m"
      ]
     },
     "execution_count": 5,
     "metadata": {},
     "output_type": "execute_result"
    }
   ],
   "source": [
    "type BookWithMethod = {\n",
    "  title: string;\n",
    "  author: string;\n",
    "  numberOfPages: number;\n",
    "  getSummary: () => string;\n",
    "};\n",
    "\n",
    "const detailedBook: BookWithMethod = {\n",
    "  title: \"1984\",\n",
    "  author: \"George Orwell\",\n",
    "  numberOfPages: 328,\n",
    "  getSummary: function () {\n",
    "    return `${this.title} by ${this.author} has ${this.numberOfPages} pages.`;\n",
    "  }\n",
    "};\n",
    "\n",
    "// Using the method\n",
    "detailedBook.getSummary();"
   ]
  },
  {
   "cell_type": "markdown",
   "metadata": {},
   "source": [
    "Objects are a powerful and flexible way to structure and manage data in TypeScript. By defining object shapes with `type` and using methods, you can create well-organized and maintainable code."
   ]
  }
 ],
 "metadata": {
  "kernelspec": {
   "display_name": "Deno",
   "language": "typescript",
   "name": "deno"
  },
  "language_info": {
   "codemirror_mode": "typescript",
   "file_extension": ".ts",
   "mimetype": "text/x.typescript",
   "name": "typescript",
   "nbconvert_exporter": "script",
   "pygments_lexer": "typescript",
   "version": "5.6.2"
  }
 },
 "nbformat": 4,
 "nbformat_minor": 2
}
