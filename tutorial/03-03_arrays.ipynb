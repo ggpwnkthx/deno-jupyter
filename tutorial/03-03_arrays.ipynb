{
 "cells": [
  {
   "cell_type": "markdown",
   "metadata": {},
   "source": [
    "# Arrays\n",
    "An `array` is a kind of container of elements stored in a single variable. Each element in an array has a specific position, called an `index`, starting from `0`. Arrays are especially useful when you want to store and manipulate multiple values of the same type."
   ]
  },
  {
   "cell_type": "markdown",
   "metadata": {},
   "source": [
    "## Instantiation\n",
    "In TypeScript, you can annotate a variable as an array of any type by adding square brackets (`[]`) after the type. You can specify the type of elements in the array using TypeScript's type annotations."
   ]
  },
  {
   "cell_type": "code",
   "execution_count": 1,
   "metadata": {},
   "outputs": [
    {
     "name": "stdout",
     "output_type": "stream",
     "text": [
      "[ 1, 2, 3, 4, 5 ]\n",
      "[ \"Apple\", \"Banana\", \"Cherry\" ]\n"
     ]
    }
   ],
   "source": [
    "const number_list: number[] = [1, 2, 3, 4, 5];\n",
    "console.log(number_list);\n",
    "\n",
    "const fruit_list: string[] = [\"Apple\", \"Banana\", \"Cherry\"];\n",
    "console.log(fruit_list);"
   ]
  },
  {
   "cell_type": "markdown",
   "metadata": {},
   "source": [
    "## Accessing Elements\n",
    "You can access elements in an array using indices. Note, arrays in TypeScript are zero-indexed, so the first element is at index `0`. If you try to access an index that doesn’t exist (for example, `colors[3]`), TypeScript will give you an error, helping you avoid mistakes."
   ]
  },
  {
   "cell_type": "code",
   "execution_count": 2,
   "metadata": {},
   "outputs": [
    {
     "name": "stdout",
     "output_type": "stream",
     "text": [
      "red\n",
      "green\n",
      "blue\n"
     ]
    }
   ],
   "source": [
    "const colors: string[] = [\"red\", \"green\", \"blue\"];\n",
    "// Access the first element\n",
    "console.log(colors[0]);\n",
    "// Access the second element\n",
    "console.log(colors[1]);\n",
    "// Access the third element\n",
    "console.log(colors[2]); // \"blue\""
   ]
  },
  {
   "cell_type": "markdown",
   "metadata": {},
   "source": [
    "## Changing Elements\n",
    "You can change the value of a specific element in an array by assigning a new value to a specific index. In this example, we replaced `\"dog\"` with `\"rabbit\"` at index `1`."
   ]
  },
  {
   "cell_type": "code",
   "execution_count": 3,
   "metadata": {},
   "outputs": [
    {
     "name": "stdout",
     "output_type": "stream",
     "text": [
      "[ \"cat\", \"dog\", \"bird\" ]\n",
      "[ \"cat\", \"rabbit\", \"bird\" ]\n"
     ]
    }
   ],
   "source": [
    "const animals: string[] = [\"cat\", \"dog\", \"bird\"];\n",
    "console.log(animals);\n",
    "\n",
    "animals[1] = \"rabbit\"; // Changes \"dog\" to \"rabbit\"\n",
    "console.log(animals);"
   ]
  },
  {
   "cell_type": "markdown",
   "metadata": {},
   "source": [
    "## Adding Elements\n",
    "You can add an element to the end of an array by directly assigning it to the next available index."
   ]
  },
  {
   "cell_type": "code",
   "execution_count": 4,
   "metadata": {},
   "outputs": [
    {
     "name": "stdout",
     "output_type": "stream",
     "text": [
      "[ \"carrot\", \"potato\" ]\n",
      "[ \"carrot\", \"potato\", \"broccoli\" ]\n"
     ]
    }
   ],
   "source": [
    "const vegetables: string[] = [\"carrot\", \"potato\"];\n",
    "console.log(vegetables);\n",
    "\n",
    "vegetables[2] = \"broccoli\"; // Adds \"broccoli\" to the end of the array\n",
    "console.log(vegetables);"
   ]
  },
  {
   "cell_type": "markdown",
   "metadata": {},
   "source": [
    "## Removing Elements\n",
    "In TypeScript (and JavaScript), you can use the `delete` keyword to remove an element from an array. However, `delete` doesn’t actually reduce the array’s length or shift other elements. Instead, it removes the value at a specific index and leaves an empty slot at that index."
   ]
  },
  {
   "cell_type": "code",
   "execution_count": 5,
   "metadata": {},
   "outputs": [
    {
     "name": "stdout",
     "output_type": "stream",
     "text": [
      "[ \"soccer\", \"basketball\", \"tennis\" ]\n",
      "[ \"soccer\", <1 empty item>, \"tennis\" ]\n"
     ]
    }
   ],
   "source": [
    "const sports: string[] = [\"soccer\", \"basketball\", \"tennis\"];\n",
    "console.log(sports);\n",
    "\n",
    "delete sports[1]; // This will leave an empty slot at index 1\n",
    "console.log(sports);"
   ]
  },
  {
   "cell_type": "markdown",
   "metadata": {},
   "source": [
    "***Note***: While `delete` can remove the value of an element, it's not the most common way to handle array removal, as it creates gaps in the array. Later, once we introduce methods, you'll learn about more practical ways to fully removing elements."
   ]
  }
 ],
 "metadata": {
  "kernelspec": {
   "display_name": "Deno",
   "language": "typescript",
   "name": "deno"
  },
  "language_info": {
   "codemirror_mode": "typescript",
   "file_extension": ".ts",
   "mimetype": "text/x.typescript",
   "name": "typescript",
   "nbconvert_exporter": "script",
   "pygments_lexer": "typescript",
   "version": "5.6.2"
  }
 },
 "nbformat": 4,
 "nbformat_minor": 2
}
