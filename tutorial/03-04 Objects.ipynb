{
 "cells": [
  {
   "cell_type": "markdown",
   "metadata": {},
   "source": [
    "# Objects\n",
    "\n",
    "In TypeScript, objects are one of the most powerful and flexible data structures. An **object** is a collection of key-value pairs, where the keys are strings (or symbols), and the values can be of any type. Objects allow you to group related data together, making your code more organized and easier to understand.\n",
    "\n",
    "## Defining\n",
    "\n",
    "You can create objects using curly braces `{}`. Each property in an object is written as `key: value`, separated by commas.\n"
   ]
  },
  {
   "cell_type": "code",
   "execution_count": 1,
   "metadata": {},
   "outputs": [
    {
     "data": {
      "text/plain": [
       "{ name: \u001b[32m\"Alice\"\u001b[39m, age: \u001b[33m30\u001b[39m, isAdmin: \u001b[33mtrue\u001b[39m }"
      ]
     },
     "execution_count": 1,
     "metadata": {},
     "output_type": "execute_result"
    }
   ],
   "source": [
    "const user = {\n",
    "  name: \"Alice\",\n",
    "  age: 30,\n",
    "  isAdmin: true\n",
    "};\n",
    "\n",
    "user;"
   ]
  },
  {
   "cell_type": "markdown",
   "metadata": {},
   "source": [
    "## Accessing Properties\n",
    "\n",
    "You can access object properties using dot notation (`.`) or bracket notation (`[]`)."
   ]
  },
  {
   "cell_type": "code",
   "execution_count": 2,
   "metadata": {},
   "outputs": [
    {
     "data": {
      "text/plain": [
       "\u001b[32m\"Alice\"\u001b[39m"
      ]
     },
     "execution_count": 2,
     "metadata": {},
     "output_type": "execute_result"
    }
   ],
   "source": [
    "user.name;"
   ]
  },
  {
   "cell_type": "code",
   "execution_count": 3,
   "metadata": {},
   "outputs": [
    {
     "data": {
      "text/plain": [
       "\u001b[33m30\u001b[39m"
      ]
     },
     "execution_count": 3,
     "metadata": {},
     "output_type": "execute_result"
    }
   ],
   "source": [
    "user[\"age\"];"
   ]
  },
  {
   "cell_type": "markdown",
   "metadata": {},
   "source": [
    "## Adding and Updating Properties\n",
    "\n",
    "You can add new properties to an object or update existing ones by assigning values to keys."
   ]
  },
  {
   "cell_type": "code",
   "execution_count": 4,
   "metadata": {},
   "outputs": [
    {
     "data": {
      "text/plain": [
       "{ name: \u001b[32m\"Alice\"\u001b[39m, age: \u001b[33m30\u001b[39m, isAdmin: \u001b[33mfalse\u001b[39m, location: \u001b[32m\"Wonderland\"\u001b[39m }"
      ]
     },
     "execution_count": 4,
     "metadata": {},
     "output_type": "execute_result"
    }
   ],
   "source": [
    "user.isAdmin = false;\n",
    "user.location = \"Wonderland\";\n",
    "\n",
    "user;"
   ]
  },
  {
   "cell_type": "markdown",
   "metadata": {},
   "source": [
    "## Deleting Properties\n",
    "\n",
    "Use the `delete` operator to remove a property from an object."
   ]
  },
  {
   "cell_type": "code",
   "execution_count": 5,
   "metadata": {},
   "outputs": [
    {
     "data": {
      "text/plain": [
       "{ name: \u001b[32m\"Alice\"\u001b[39m, age: \u001b[33m30\u001b[39m, isAdmin: \u001b[33mfalse\u001b[39m }"
      ]
     },
     "execution_count": 5,
     "metadata": {},
     "output_type": "execute_result"
    }
   ],
   "source": [
    "delete user.location;\n",
    "\n",
    "user;"
   ]
  },
  {
   "cell_type": "markdown",
   "metadata": {},
   "source": [
    "## Object Methods\n",
    "\n",
    "Objects can have **methods**, which are functions stored as properties. Methods allow objects to perform actions or calculations related to their data.\n",
    "\n",
    "### `this`\n",
    "\n",
    "In a method, the `this` keyword refers to the object that the method belongs to. It allows methods to access other properties of the same object. Think of `this` as a way for the method to refer to \"itself\".\n",
    "\n",
    "For example, if an object represents a user, a method can use `this` to access the user's `name` or other properties."
   ]
  },
  {
   "cell_type": "code",
   "execution_count": 6,
   "metadata": {},
   "outputs": [
    {
     "data": {
      "text/plain": [
       "\u001b[32m\"Hello, Alice!\"\u001b[39m"
      ]
     },
     "execution_count": 6,
     "metadata": {},
     "output_type": "execute_result"
    }
   ],
   "source": [
    "const userWithMethod = {\n",
    "  name: \"Alice\",\n",
    "  sayHello: function() {\n",
    "    return `Hello, ${this.name}!`;\n",
    "  }\n",
    "};\n",
    "\n",
    "userWithMethod.sayHello();"
   ]
  },
  {
   "cell_type": "markdown",
   "metadata": {},
   "source": [
    "### Common Mistakes\n",
    "\n",
    "Arrow functions are often used to avoid issues with `this` since they don’t have their own `this` context. However, they may not always be suitable, especially if you need `this` to refer to the object itself.\n"
   ]
  },
  {
   "cell_type": "code",
   "execution_count": 7,
   "metadata": {},
   "outputs": [
    {
     "data": {
      "text/plain": [
       "\u001b[32m\"Hello, !\"\u001b[39m"
      ]
     },
     "execution_count": 7,
     "metadata": {},
     "output_type": "execute_result"
    }
   ],
   "source": [
    "const userWithArrowMethod = {\n",
    "  name: \"Alice\",\n",
    "  sayHello: () => {\n",
    "    return `Hello, ${this.name}!`;\n",
    "  }\n",
    "};\n",
    "\n",
    "userWithArrowMethod.sayHello();"
   ]
  },
  {
   "cell_type": "markdown",
   "metadata": {},
   "source": [
    "Be cautious when using `this` inside methods, especially if the method is used outside of its original object. The value of `this` can change depending on how the method is called."
   ]
  },
  {
   "cell_type": "code",
   "execution_count": 8,
   "metadata": {},
   "outputs": [
    {
     "ename": "TypeError",
     "evalue": "Cannot read properties of undefined (reading 'name')",
     "output_type": "error",
     "traceback": [
      "Stack trace:",
      "TypeError: Cannot read properties of undefined (reading 'name')",
      "    at sayHello (<anonymous>:4:27)",
      "    at <anonymous>:2:1"
     ]
    }
   ],
   "source": [
    "const sayHelloStandalone = userWithMethod.sayHello;\n",
    "sayHelloStandalone()"
   ]
  }
 ],
 "metadata": {
  "kernelspec": {
   "display_name": "Deno",
   "language": "typescript",
   "name": "deno"
  },
  "language_info": {
   "codemirror_mode": "typescript",
   "file_extension": ".ts",
   "mimetype": "text/x.typescript",
   "name": "typescript",
   "nbconvert_exporter": "script",
   "pygments_lexer": "typescript",
   "version": "5.6.2"
  }
 },
 "nbformat": 4,
 "nbformat_minor": 2
}
