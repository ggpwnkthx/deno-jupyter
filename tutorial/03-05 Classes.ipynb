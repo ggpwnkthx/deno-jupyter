{
 "cells": [
  {
   "cell_type": "markdown",
   "metadata": {},
   "source": [
    "# Classes\n",
    "\n",
    "In the previous lesson, we learned about **objects**, which allow us to group related data and actions into key-value pairs. While objects are great for organizing data and methods, they have limitations when it comes to creating multiple similar entities with shared structure and behavior.\n",
    "\n",
    "For example, imagine you're creating a program to manage books in a library. Using objects, you could create individual book objects:\n",
    "```typescript\n",
    "const book1 = { title: \"1984\", author: \"George Orwell\", numberOfPages: 328 };\n",
    "const book2 = { title: \"Brave New World\", author: \"Aldous Huxley\", numberOfPages: 311 };\n",
    "```\n",
    "But what if you want to ensure all books have a consistent structure and behavior, like a method to print their details? Instead of duplicating logic across objects, we can use **classes**.\n",
    "\n",
    "A **class** is like a blueprint for creating objects. It defines the structure (properties) and behavior (methods) that objects created from the class will have. You can think of a class as a factory that produces objects with the same shape and functionality.\n",
    "\n",
    "## Defining\n",
    "To define a class in TypeScript, use the `class` keyword:\n"
   ]
  },
  {
   "cell_type": "code",
   "execution_count": 1,
   "metadata": {},
   "outputs": [],
   "source": [
    "class Book {\n",
    "  title: string;\n",
    "  author: string;\n",
    "  numberOfPages: number;\n",
    "\n",
    "  // Constructor: Used to initialize properties\n",
    "  constructor(title: string, author: string, numberOfPages: number) {\n",
    "    this.title = title;\n",
    "    this.author = author;\n",
    "    this.numberOfPages = numberOfPages;\n",
    "  }\n",
    "\n",
    "  describe(): string {\n",
    "    return `'${this.title}' by ${this.author}, ${this.numberOfPages} pages`;\n",
    "  }\n",
    "\n",
    "  isLengthy(): boolean {\n",
    "    return this.numberOfPages > 300;\n",
    "  }\n",
    "}"
   ]
  },
  {
   "cell_type": "markdown",
   "metadata": {},
   "source": [
    "## Instantiation\n",
    "To create an object from a class, use the `new` keyword:"
   ]
  },
  {
   "cell_type": "code",
   "execution_count": 2,
   "metadata": {},
   "outputs": [
    {
     "data": {
      "text/plain": [
       "\u001b[32m\"'1984' by George Orwell, 328 pages\"\u001b[39m"
      ]
     },
     "execution_count": 2,
     "metadata": {},
     "output_type": "execute_result"
    }
   ],
   "source": [
    "const myBook = new Book(\"1984\", \"George Orwell\", 328);\n",
    "myBook.describe();"
   ]
  }
 ],
 "metadata": {
  "kernelspec": {
   "display_name": "Deno",
   "language": "typescript",
   "name": "deno"
  },
  "language_info": {
   "codemirror_mode": "typescript",
   "file_extension": ".ts",
   "mimetype": "text/x.typescript",
   "name": "typescript",
   "nbconvert_exporter": "script",
   "pygments_lexer": "typescript",
   "version": "5.6.2"
  }
 },
 "nbformat": 4,
 "nbformat_minor": 2
}
