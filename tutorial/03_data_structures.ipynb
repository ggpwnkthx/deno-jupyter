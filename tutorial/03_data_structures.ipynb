{
 "cells": [
  {
   "cell_type": "markdown",
   "metadata": {},
   "source": [
    "# Data Structures\n",
    "Data structures are foundational organizational formats in programming, used to store, organize, and manage data efficiently. They allow developers to model and structure data for easy access, modification, and efficient use in algorithms. In TypeScript, several key data structures are provided to suit a range of programming needs, each with specific strengths and characteristics.\n",
    "\n",
    "Imagine you're organizing a things around your house, and you have a variety of containers to store different items. Each container has its strengths, and choosing the right one depends on what you're storing and how you want to access it later. In programming, data structures work similarly - they're containers designed to help you store, organize, and retrieve information efficiently. In TypeScript, there are several data structures to fit different scenarios, just as you might use a drawer for small items, a rack for shoes, and shelves for books.\n",
    "\n",
    "### Set\n",
    "A Set is like a collection of unique items displayed on a shelf. Imagine collecting unique souvenirs from each place you visit - no duplicates allowed! Sets are perfect when you need a list of unique items without a specific order, such as a list of cities you’ve traveled to.\n",
    "\n",
    "### Tuple\n",
    "Tuples are like a pre-labeled compartmentalized organizer with fixed spaces, where each space is designed for a specific type of item. Think of it like a travel kit that has a specific slot for a toothbrush, another for shampoo, and so on. Once you place items in a tuple, they stay in that order and with those types. Tuples are useful when you have a known, fixed number of elements with specific roles, like storing a person’s name, age, and email address.\n",
    "\n",
    "### Array\n",
    "Think of an array like a row of labeled bins on a shelf, where each bin is numbered in order. You can place items in each bin, and you always know where to find them by the number (or \"index\") on the bin. Arrays are best when you want a simple, ordered list that you can quickly access by position and where duplicates are allowed—like storing a list of books you own, even if you have multiple copies of the same book.\n",
    "\n",
    "### Object\n",
    "Objects are like labeled drawers in a filing cabinet. Each drawer (or \"key\") has a unique label, and inside you can store any type of item (or \"value\"). Objects are great when you need to access data by specific, unique names rather than by order - like storing files where each drawer label represents a person's name, and the contents are their details.\n",
    "\n",
    "### Map\n",
    "A Map is similar to an object but offers more flexibility with key types. Imagine a small address book that lets you use any unique identifier (phone number, email, or name) as the key. Maps are ideal when you need flexible, key-value storage without worrying about only using strings as keys - great for complex data relationships.\n",
    "\n",
    "## Garbage Collection\n",
    "Garbage collection is like automatic housekeeping for data that is no longer in use. In programming, when objects or data no longer have any references pointing to them (meaning they’re not being used or accessed by anything in the code), garbage collection automatically removes them to free up memory. This process helps your program run efficiently by ensuring that memory is used only for active, needed data.\n",
    "\n",
    "### WeakSet and WeakMap\n",
    "Think of WeakSets and WeakMaps like temporary sticky notes. They don’t have permanent storage, and if an item no longer has a place to stick to, it falls off and gets thrown away (this is garbage collection). They’re useful for temporary data, like tracking which guests are currently in a room, without needing to keep track of them once they leave.\n",
    "\n",
    "## Cheat Sheet\n",
    "Data Structure | Key Type | Value Type | Ordered | Allows Duplicates | Garbage Collected Keys\n",
    "--- | --- | --- | --- | --- | ---\n",
    "Set | None | Unique `any` | No | No | No\n",
    "Tuple | Index (`number`) | Fixed Types | Yes | Yes | No\n",
    "Array | Index (`number`) | `any` | Yes | Yes | No\n",
    "Object | `string`/`symbol` | `any` | No | Yes | No\n",
    "WeakSet | None | Unique Objects | No | No | Yes\n",
    "Map | `any` | `any` | Yes | Yes | No\n",
    "WeakMap | Object | `any` | No | Yes | Yes"
   ]
  }
 ],
 "metadata": {
  "kernelspec": {
   "display_name": "Deno",
   "language": "typescript",
   "name": "deno"
  },
  "language_info": {
   "name": "typescript"
  }
 },
 "nbformat": 4,
 "nbformat_minor": 2
}
