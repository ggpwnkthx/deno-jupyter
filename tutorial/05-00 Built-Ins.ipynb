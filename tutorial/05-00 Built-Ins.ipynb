{
 "cells": [
  {
   "cell_type": "markdown",
   "metadata": {},
   "source": [
    "# Built-Ins\n",
    "\n",
    "Deno provides a collection of built-in objects and functions that are accessible globally, without requiring any import statements. These built-ins are designed to simplify common programming tasks, improve developer productivity, and take full advantage of Deno's features and TypeScript capabilities.\n",
    "\n",
    "In this section, we will explore these built-ins, including:\n",
    "\n",
    "- `console`: Used for logging and debugging.\n",
    "- `Deno`: A namespace providing access to Deno's APIs.\n",
    "- `setTimeout`, `setInterval`, and `clearTimeout`: Timer functions.\n",
    "- `fetch`: Used for making HTTP requests.\n",
    "- `TextEncoder` and `TextDecoder`: Tools for encoding and decoding text.\n",
    "- `URL` and `URLSearchParams`: Tools for URL manipulation.\n",
    "\n",
    "Each subsequent notebook will focus on one or more of these built-ins, providing in-depth explanations and practical examples.\n"
   ]
  }
 ],
 "metadata": {
  "kernelspec": {
   "display_name": "Deno",
   "language": "typescript",
   "name": "deno"
  },
  "language_info": {
   "name": "typescript"
  }
 },
 "nbformat": 4,
 "nbformat_minor": 2
}
